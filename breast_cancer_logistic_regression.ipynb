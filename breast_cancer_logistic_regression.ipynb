{
 "cells": [
  {
   "cell_type": "markdown",
   "id": "a7dfdfcd",
   "metadata": {
    "id": "a7dfdfcd"
   },
   "source": [
    "# 🩺 Breast Cancer Diagnosis using Logistic Regression\n",
    "\n",
    "## 🧠 Project Overview\n",
    "* This portfolio project uses Logistic Regression to classify breast tumors as **malignant (M)** or **benign (B)**.\n",
    "* Dataset: Breast Cancer Wisconsin (Diagnostic) from Kaggle.\n",
    "* Goal: Achieve accurate predictions using a full ML pipeline: preprocessing, EDA, modeling, evaluation, and prediction."
   ]
  },
  {
   "cell_type": "markdown",
   "id": "9bf426d8",
   "metadata": {
    "id": "9bf426d8"
   },
   "source": [
    "## 📂 1. Importing Required Libraries"
   ]
  },
  {
   "cell_type": "code",
   "execution_count": 1,
   "id": "97ed8005",
   "metadata": {
    "colab": {
     "base_uri": "https://localhost:8080/"
    },
    "executionInfo": {
     "elapsed": 2719,
     "status": "ok",
     "timestamp": 1753512949529,
     "user": {
      "displayName": "Muhammd Yousif Memon",
      "userId": "09601574842182296753"
     },
     "user_tz": -300
    },
    "id": "97ed8005",
    "outputId": "6a1055c7-e4c6-4d17-e61a-3f06d783dea0"
   },
   "outputs": [
    {
     "name": "stdout",
     "output_type": "stream",
     "text": [
      "All libraries imported successfully and warnings disabled.\n"
     ]
    }
   ],
   "source": [
    "# Importing all necessary libraries\n",
    "import numpy as np\n",
    "import pandas as pd\n",
    "import plotly.express as px\n",
    "import plotly.graph_objects as go\n",
    "import matplotlib.pyplot as plt\n",
    "from sklearn.preprocessing import StandardScaler, LabelEncoder\n",
    "from sklearn.model_selection import train_test_split\n",
    "from sklearn.linear_model import LogisticRegression\n",
    "from sklearn.metrics import accuracy_score, confusion_matrix, classification_report, f1_score, roc_auc_score, roc_curve\n",
    "\n",
    "# Disabling warnings\n",
    "import warnings\n",
    "warnings.filterwarnings('ignore')\n",
    "\n",
    "# Successfully imported all libraries and disabled warnings.\n",
    "print(\"All libraries imported successfully and warnings disabled.\")"
   ]
  },
  {
   "cell_type": "markdown",
   "id": "6909881d",
   "metadata": {
    "id": "6909881d"
   },
   "source": [
    "## 🧾 2. Loading and Exploring the Dataset\n",
    "### 📂 Dataset Description\n",
    "* Source: [Kaggle Dataset](https://www.kaggle.com/datasets/uciml/breast-cancer-wisconsin-data)\n",
    "* Features: 30 numeric features extracted from medical images.\n",
    "* Target column: `diagnosis` (M = malignant, B = benign).\n",
    "* Irrelevant columns: `id`, `Unnamed: 32` → will be dropped."
   ]
  },
  {
   "cell_type": "code",
   "execution_count": 2,
   "id": "e06e2ded",
   "metadata": {
    "colab": {
     "base_uri": "https://localhost:8080/",
     "height": 273
    },
    "executionInfo": {
     "elapsed": 2084,
     "status": "ok",
     "timestamp": 1753512955371,
     "user": {
      "displayName": "Muhammd Yousif Memon",
      "userId": "09601574842182296753"
     },
     "user_tz": -300
    },
    "id": "e06e2ded",
    "outputId": "acdb350d-5c86-4f50-aca2-802988e83d5c"
   },
   "outputs": [
    {
     "data": {
      "text/html": [
       "<div>\n",
       "<style scoped>\n",
       "    .dataframe tbody tr th:only-of-type {\n",
       "        vertical-align: middle;\n",
       "    }\n",
       "\n",
       "    .dataframe tbody tr th {\n",
       "        vertical-align: top;\n",
       "    }\n",
       "\n",
       "    .dataframe thead th {\n",
       "        text-align: right;\n",
       "    }\n",
       "</style>\n",
       "<table border=\"1\" class=\"dataframe\">\n",
       "  <thead>\n",
       "    <tr style=\"text-align: right;\">\n",
       "      <th></th>\n",
       "      <th>id</th>\n",
       "      <th>diagnosis</th>\n",
       "      <th>radius_mean</th>\n",
       "      <th>texture_mean</th>\n",
       "      <th>perimeter_mean</th>\n",
       "      <th>area_mean</th>\n",
       "      <th>smoothness_mean</th>\n",
       "      <th>compactness_mean</th>\n",
       "      <th>concavity_mean</th>\n",
       "      <th>concave points_mean</th>\n",
       "      <th>...</th>\n",
       "      <th>texture_worst</th>\n",
       "      <th>perimeter_worst</th>\n",
       "      <th>area_worst</th>\n",
       "      <th>smoothness_worst</th>\n",
       "      <th>compactness_worst</th>\n",
       "      <th>concavity_worst</th>\n",
       "      <th>concave points_worst</th>\n",
       "      <th>symmetry_worst</th>\n",
       "      <th>fractal_dimension_worst</th>\n",
       "      <th>Unnamed: 32</th>\n",
       "    </tr>\n",
       "  </thead>\n",
       "  <tbody>\n",
       "    <tr>\n",
       "      <th>0</th>\n",
       "      <td>842302</td>\n",
       "      <td>M</td>\n",
       "      <td>17.99</td>\n",
       "      <td>10.38</td>\n",
       "      <td>122.80</td>\n",
       "      <td>1001.0</td>\n",
       "      <td>0.11840</td>\n",
       "      <td>0.27760</td>\n",
       "      <td>0.3001</td>\n",
       "      <td>0.14710</td>\n",
       "      <td>...</td>\n",
       "      <td>17.33</td>\n",
       "      <td>184.60</td>\n",
       "      <td>2019.0</td>\n",
       "      <td>0.1622</td>\n",
       "      <td>0.6656</td>\n",
       "      <td>0.7119</td>\n",
       "      <td>0.2654</td>\n",
       "      <td>0.4601</td>\n",
       "      <td>0.11890</td>\n",
       "      <td>NaN</td>\n",
       "    </tr>\n",
       "    <tr>\n",
       "      <th>1</th>\n",
       "      <td>842517</td>\n",
       "      <td>M</td>\n",
       "      <td>20.57</td>\n",
       "      <td>17.77</td>\n",
       "      <td>132.90</td>\n",
       "      <td>1326.0</td>\n",
       "      <td>0.08474</td>\n",
       "      <td>0.07864</td>\n",
       "      <td>0.0869</td>\n",
       "      <td>0.07017</td>\n",
       "      <td>...</td>\n",
       "      <td>23.41</td>\n",
       "      <td>158.80</td>\n",
       "      <td>1956.0</td>\n",
       "      <td>0.1238</td>\n",
       "      <td>0.1866</td>\n",
       "      <td>0.2416</td>\n",
       "      <td>0.1860</td>\n",
       "      <td>0.2750</td>\n",
       "      <td>0.08902</td>\n",
       "      <td>NaN</td>\n",
       "    </tr>\n",
       "    <tr>\n",
       "      <th>2</th>\n",
       "      <td>84300903</td>\n",
       "      <td>M</td>\n",
       "      <td>19.69</td>\n",
       "      <td>21.25</td>\n",
       "      <td>130.00</td>\n",
       "      <td>1203.0</td>\n",
       "      <td>0.10960</td>\n",
       "      <td>0.15990</td>\n",
       "      <td>0.1974</td>\n",
       "      <td>0.12790</td>\n",
       "      <td>...</td>\n",
       "      <td>25.53</td>\n",
       "      <td>152.50</td>\n",
       "      <td>1709.0</td>\n",
       "      <td>0.1444</td>\n",
       "      <td>0.4245</td>\n",
       "      <td>0.4504</td>\n",
       "      <td>0.2430</td>\n",
       "      <td>0.3613</td>\n",
       "      <td>0.08758</td>\n",
       "      <td>NaN</td>\n",
       "    </tr>\n",
       "    <tr>\n",
       "      <th>3</th>\n",
       "      <td>84348301</td>\n",
       "      <td>M</td>\n",
       "      <td>11.42</td>\n",
       "      <td>20.38</td>\n",
       "      <td>77.58</td>\n",
       "      <td>386.1</td>\n",
       "      <td>0.14250</td>\n",
       "      <td>0.28390</td>\n",
       "      <td>0.2414</td>\n",
       "      <td>0.10520</td>\n",
       "      <td>...</td>\n",
       "      <td>26.50</td>\n",
       "      <td>98.87</td>\n",
       "      <td>567.7</td>\n",
       "      <td>0.2098</td>\n",
       "      <td>0.8663</td>\n",
       "      <td>0.6869</td>\n",
       "      <td>0.2575</td>\n",
       "      <td>0.6638</td>\n",
       "      <td>0.17300</td>\n",
       "      <td>NaN</td>\n",
       "    </tr>\n",
       "    <tr>\n",
       "      <th>4</th>\n",
       "      <td>84358402</td>\n",
       "      <td>M</td>\n",
       "      <td>20.29</td>\n",
       "      <td>14.34</td>\n",
       "      <td>135.10</td>\n",
       "      <td>1297.0</td>\n",
       "      <td>0.10030</td>\n",
       "      <td>0.13280</td>\n",
       "      <td>0.1980</td>\n",
       "      <td>0.10430</td>\n",
       "      <td>...</td>\n",
       "      <td>16.67</td>\n",
       "      <td>152.20</td>\n",
       "      <td>1575.0</td>\n",
       "      <td>0.1374</td>\n",
       "      <td>0.2050</td>\n",
       "      <td>0.4000</td>\n",
       "      <td>0.1625</td>\n",
       "      <td>0.2364</td>\n",
       "      <td>0.07678</td>\n",
       "      <td>NaN</td>\n",
       "    </tr>\n",
       "  </tbody>\n",
       "</table>\n",
       "<p>5 rows × 33 columns</p>\n",
       "</div>"
      ],
      "text/plain": [
       "         id diagnosis  radius_mean  texture_mean  perimeter_mean  area_mean  \\\n",
       "0    842302         M        17.99         10.38          122.80     1001.0   \n",
       "1    842517         M        20.57         17.77          132.90     1326.0   \n",
       "2  84300903         M        19.69         21.25          130.00     1203.0   \n",
       "3  84348301         M        11.42         20.38           77.58      386.1   \n",
       "4  84358402         M        20.29         14.34          135.10     1297.0   \n",
       "\n",
       "   smoothness_mean  compactness_mean  concavity_mean  concave points_mean  \\\n",
       "0          0.11840           0.27760          0.3001              0.14710   \n",
       "1          0.08474           0.07864          0.0869              0.07017   \n",
       "2          0.10960           0.15990          0.1974              0.12790   \n",
       "3          0.14250           0.28390          0.2414              0.10520   \n",
       "4          0.10030           0.13280          0.1980              0.10430   \n",
       "\n",
       "   ...  texture_worst  perimeter_worst  area_worst  smoothness_worst  \\\n",
       "0  ...          17.33           184.60      2019.0            0.1622   \n",
       "1  ...          23.41           158.80      1956.0            0.1238   \n",
       "2  ...          25.53           152.50      1709.0            0.1444   \n",
       "3  ...          26.50            98.87       567.7            0.2098   \n",
       "4  ...          16.67           152.20      1575.0            0.1374   \n",
       "\n",
       "   compactness_worst  concavity_worst  concave points_worst  symmetry_worst  \\\n",
       "0             0.6656           0.7119                0.2654          0.4601   \n",
       "1             0.1866           0.2416                0.1860          0.2750   \n",
       "2             0.4245           0.4504                0.2430          0.3613   \n",
       "3             0.8663           0.6869                0.2575          0.6638   \n",
       "4             0.2050           0.4000                0.1625          0.2364   \n",
       "\n",
       "   fractal_dimension_worst  Unnamed: 32  \n",
       "0                  0.11890          NaN  \n",
       "1                  0.08902          NaN  \n",
       "2                  0.08758          NaN  \n",
       "3                  0.17300          NaN  \n",
       "4                  0.07678          NaN  \n",
       "\n",
       "[5 rows x 33 columns]"
      ]
     },
     "execution_count": 2,
     "metadata": {},
     "output_type": "execute_result"
    }
   ],
   "source": [
    "# Google Drive File ID\n",
    "file_id = '15gbCikMMxK5gzOQf9KfyGlkl3bKnYq8A'\n",
    "\n",
    "# Construct the direct CSV download URL\n",
    "file_path = f'https://drive.google.com/uc?export=download&id={file_id}'\n",
    "\n",
    "# Read the CSV (this works only if the file is publicly shared)\n",
    "df = pd.read_csv(file_path)\n",
    "df.head()"
   ]
  },
  {
   "cell_type": "code",
   "execution_count": 3,
   "id": "941f066f",
   "metadata": {
    "colab": {
     "base_uri": "https://localhost:8080/"
    },
    "executionInfo": {
     "elapsed": 118,
     "status": "ok",
     "timestamp": 1753512958997,
     "user": {
      "displayName": "Muhammd Yousif Memon",
      "userId": "09601574842182296753"
     },
     "user_tz": -300
    },
    "id": "941f066f",
    "outputId": "33b15c86-ca0d-43cf-8172-da8ae6343d33"
   },
   "outputs": [
    {
     "name": "stdout",
     "output_type": "stream",
     "text": [
      "<class 'pandas.core.frame.DataFrame'>\n",
      "RangeIndex: 569 entries, 0 to 568\n",
      "Data columns (total 33 columns):\n",
      " #   Column                   Non-Null Count  Dtype  \n",
      "---  ------                   --------------  -----  \n",
      " 0   id                       569 non-null    int64  \n",
      " 1   diagnosis                569 non-null    object \n",
      " 2   radius_mean              569 non-null    float64\n",
      " 3   texture_mean             569 non-null    float64\n",
      " 4   perimeter_mean           569 non-null    float64\n",
      " 5   area_mean                569 non-null    float64\n",
      " 6   smoothness_mean          569 non-null    float64\n",
      " 7   compactness_mean         569 non-null    float64\n",
      " 8   concavity_mean           569 non-null    float64\n",
      " 9   concave points_mean      569 non-null    float64\n",
      " 10  symmetry_mean            569 non-null    float64\n",
      " 11  fractal_dimension_mean   569 non-null    float64\n",
      " 12  radius_se                569 non-null    float64\n",
      " 13  texture_se               569 non-null    float64\n",
      " 14  perimeter_se             569 non-null    float64\n",
      " 15  area_se                  569 non-null    float64\n",
      " 16  smoothness_se            569 non-null    float64\n",
      " 17  compactness_se           569 non-null    float64\n",
      " 18  concavity_se             569 non-null    float64\n",
      " 19  concave points_se        569 non-null    float64\n",
      " 20  symmetry_se              569 non-null    float64\n",
      " 21  fractal_dimension_se     569 non-null    float64\n",
      " 22  radius_worst             569 non-null    float64\n",
      " 23  texture_worst            569 non-null    float64\n",
      " 24  perimeter_worst          569 non-null    float64\n",
      " 25  area_worst               569 non-null    float64\n",
      " 26  smoothness_worst         569 non-null    float64\n",
      " 27  compactness_worst        569 non-null    float64\n",
      " 28  concavity_worst          569 non-null    float64\n",
      " 29  concave points_worst     569 non-null    float64\n",
      " 30  symmetry_worst           569 non-null    float64\n",
      " 31  fractal_dimension_worst  569 non-null    float64\n",
      " 32  Unnamed: 32              0 non-null      float64\n",
      "dtypes: float64(31), int64(1), object(1)\n",
      "memory usage: 146.8+ KB\n"
     ]
    }
   ],
   "source": [
    "df.info()"
   ]
  },
  {
   "cell_type": "code",
   "execution_count": 4,
   "id": "f0a10508",
   "metadata": {
    "colab": {
     "base_uri": "https://localhost:8080/",
     "height": 367
    },
    "executionInfo": {
     "elapsed": 179,
     "status": "ok",
     "timestamp": 1753512961768,
     "user": {
      "displayName": "Muhammd Yousif Memon",
      "userId": "09601574842182296753"
     },
     "user_tz": -300
    },
    "id": "f0a10508",
    "outputId": "06d142cd-0965-4934-c4f9-35ab827e1f4d"
   },
   "outputs": [
    {
     "data": {
      "text/html": [
       "<div>\n",
       "<style scoped>\n",
       "    .dataframe tbody tr th:only-of-type {\n",
       "        vertical-align: middle;\n",
       "    }\n",
       "\n",
       "    .dataframe tbody tr th {\n",
       "        vertical-align: top;\n",
       "    }\n",
       "\n",
       "    .dataframe thead th {\n",
       "        text-align: right;\n",
       "    }\n",
       "</style>\n",
       "<table border=\"1\" class=\"dataframe\">\n",
       "  <thead>\n",
       "    <tr style=\"text-align: right;\">\n",
       "      <th></th>\n",
       "      <th>id</th>\n",
       "      <th>radius_mean</th>\n",
       "      <th>texture_mean</th>\n",
       "      <th>perimeter_mean</th>\n",
       "      <th>area_mean</th>\n",
       "      <th>smoothness_mean</th>\n",
       "      <th>compactness_mean</th>\n",
       "      <th>concavity_mean</th>\n",
       "      <th>concave points_mean</th>\n",
       "      <th>symmetry_mean</th>\n",
       "      <th>...</th>\n",
       "      <th>texture_worst</th>\n",
       "      <th>perimeter_worst</th>\n",
       "      <th>area_worst</th>\n",
       "      <th>smoothness_worst</th>\n",
       "      <th>compactness_worst</th>\n",
       "      <th>concavity_worst</th>\n",
       "      <th>concave points_worst</th>\n",
       "      <th>symmetry_worst</th>\n",
       "      <th>fractal_dimension_worst</th>\n",
       "      <th>Unnamed: 32</th>\n",
       "    </tr>\n",
       "  </thead>\n",
       "  <tbody>\n",
       "    <tr>\n",
       "      <th>count</th>\n",
       "      <td>5.690000e+02</td>\n",
       "      <td>569.000000</td>\n",
       "      <td>569.000000</td>\n",
       "      <td>569.000000</td>\n",
       "      <td>569.000000</td>\n",
       "      <td>569.000000</td>\n",
       "      <td>569.000000</td>\n",
       "      <td>569.000000</td>\n",
       "      <td>569.000000</td>\n",
       "      <td>569.000000</td>\n",
       "      <td>...</td>\n",
       "      <td>569.000000</td>\n",
       "      <td>569.000000</td>\n",
       "      <td>569.000000</td>\n",
       "      <td>569.000000</td>\n",
       "      <td>569.000000</td>\n",
       "      <td>569.000000</td>\n",
       "      <td>569.000000</td>\n",
       "      <td>569.000000</td>\n",
       "      <td>569.000000</td>\n",
       "      <td>0.0</td>\n",
       "    </tr>\n",
       "    <tr>\n",
       "      <th>mean</th>\n",
       "      <td>3.037183e+07</td>\n",
       "      <td>14.127292</td>\n",
       "      <td>19.289649</td>\n",
       "      <td>91.969033</td>\n",
       "      <td>654.889104</td>\n",
       "      <td>0.096360</td>\n",
       "      <td>0.104341</td>\n",
       "      <td>0.088799</td>\n",
       "      <td>0.048919</td>\n",
       "      <td>0.181162</td>\n",
       "      <td>...</td>\n",
       "      <td>25.677223</td>\n",
       "      <td>107.261213</td>\n",
       "      <td>880.583128</td>\n",
       "      <td>0.132369</td>\n",
       "      <td>0.254265</td>\n",
       "      <td>0.272188</td>\n",
       "      <td>0.114606</td>\n",
       "      <td>0.290076</td>\n",
       "      <td>0.083946</td>\n",
       "      <td>NaN</td>\n",
       "    </tr>\n",
       "    <tr>\n",
       "      <th>std</th>\n",
       "      <td>1.250206e+08</td>\n",
       "      <td>3.524049</td>\n",
       "      <td>4.301036</td>\n",
       "      <td>24.298981</td>\n",
       "      <td>351.914129</td>\n",
       "      <td>0.014064</td>\n",
       "      <td>0.052813</td>\n",
       "      <td>0.079720</td>\n",
       "      <td>0.038803</td>\n",
       "      <td>0.027414</td>\n",
       "      <td>...</td>\n",
       "      <td>6.146258</td>\n",
       "      <td>33.602542</td>\n",
       "      <td>569.356993</td>\n",
       "      <td>0.022832</td>\n",
       "      <td>0.157336</td>\n",
       "      <td>0.208624</td>\n",
       "      <td>0.065732</td>\n",
       "      <td>0.061867</td>\n",
       "      <td>0.018061</td>\n",
       "      <td>NaN</td>\n",
       "    </tr>\n",
       "    <tr>\n",
       "      <th>min</th>\n",
       "      <td>8.670000e+03</td>\n",
       "      <td>6.981000</td>\n",
       "      <td>9.710000</td>\n",
       "      <td>43.790000</td>\n",
       "      <td>143.500000</td>\n",
       "      <td>0.052630</td>\n",
       "      <td>0.019380</td>\n",
       "      <td>0.000000</td>\n",
       "      <td>0.000000</td>\n",
       "      <td>0.106000</td>\n",
       "      <td>...</td>\n",
       "      <td>12.020000</td>\n",
       "      <td>50.410000</td>\n",
       "      <td>185.200000</td>\n",
       "      <td>0.071170</td>\n",
       "      <td>0.027290</td>\n",
       "      <td>0.000000</td>\n",
       "      <td>0.000000</td>\n",
       "      <td>0.156500</td>\n",
       "      <td>0.055040</td>\n",
       "      <td>NaN</td>\n",
       "    </tr>\n",
       "    <tr>\n",
       "      <th>25%</th>\n",
       "      <td>8.692180e+05</td>\n",
       "      <td>11.700000</td>\n",
       "      <td>16.170000</td>\n",
       "      <td>75.170000</td>\n",
       "      <td>420.300000</td>\n",
       "      <td>0.086370</td>\n",
       "      <td>0.064920</td>\n",
       "      <td>0.029560</td>\n",
       "      <td>0.020310</td>\n",
       "      <td>0.161900</td>\n",
       "      <td>...</td>\n",
       "      <td>21.080000</td>\n",
       "      <td>84.110000</td>\n",
       "      <td>515.300000</td>\n",
       "      <td>0.116600</td>\n",
       "      <td>0.147200</td>\n",
       "      <td>0.114500</td>\n",
       "      <td>0.064930</td>\n",
       "      <td>0.250400</td>\n",
       "      <td>0.071460</td>\n",
       "      <td>NaN</td>\n",
       "    </tr>\n",
       "    <tr>\n",
       "      <th>50%</th>\n",
       "      <td>9.060240e+05</td>\n",
       "      <td>13.370000</td>\n",
       "      <td>18.840000</td>\n",
       "      <td>86.240000</td>\n",
       "      <td>551.100000</td>\n",
       "      <td>0.095870</td>\n",
       "      <td>0.092630</td>\n",
       "      <td>0.061540</td>\n",
       "      <td>0.033500</td>\n",
       "      <td>0.179200</td>\n",
       "      <td>...</td>\n",
       "      <td>25.410000</td>\n",
       "      <td>97.660000</td>\n",
       "      <td>686.500000</td>\n",
       "      <td>0.131300</td>\n",
       "      <td>0.211900</td>\n",
       "      <td>0.226700</td>\n",
       "      <td>0.099930</td>\n",
       "      <td>0.282200</td>\n",
       "      <td>0.080040</td>\n",
       "      <td>NaN</td>\n",
       "    </tr>\n",
       "    <tr>\n",
       "      <th>75%</th>\n",
       "      <td>8.813129e+06</td>\n",
       "      <td>15.780000</td>\n",
       "      <td>21.800000</td>\n",
       "      <td>104.100000</td>\n",
       "      <td>782.700000</td>\n",
       "      <td>0.105300</td>\n",
       "      <td>0.130400</td>\n",
       "      <td>0.130700</td>\n",
       "      <td>0.074000</td>\n",
       "      <td>0.195700</td>\n",
       "      <td>...</td>\n",
       "      <td>29.720000</td>\n",
       "      <td>125.400000</td>\n",
       "      <td>1084.000000</td>\n",
       "      <td>0.146000</td>\n",
       "      <td>0.339100</td>\n",
       "      <td>0.382900</td>\n",
       "      <td>0.161400</td>\n",
       "      <td>0.317900</td>\n",
       "      <td>0.092080</td>\n",
       "      <td>NaN</td>\n",
       "    </tr>\n",
       "    <tr>\n",
       "      <th>max</th>\n",
       "      <td>9.113205e+08</td>\n",
       "      <td>28.110000</td>\n",
       "      <td>39.280000</td>\n",
       "      <td>188.500000</td>\n",
       "      <td>2501.000000</td>\n",
       "      <td>0.163400</td>\n",
       "      <td>0.345400</td>\n",
       "      <td>0.426800</td>\n",
       "      <td>0.201200</td>\n",
       "      <td>0.304000</td>\n",
       "      <td>...</td>\n",
       "      <td>49.540000</td>\n",
       "      <td>251.200000</td>\n",
       "      <td>4254.000000</td>\n",
       "      <td>0.222600</td>\n",
       "      <td>1.058000</td>\n",
       "      <td>1.252000</td>\n",
       "      <td>0.291000</td>\n",
       "      <td>0.663800</td>\n",
       "      <td>0.207500</td>\n",
       "      <td>NaN</td>\n",
       "    </tr>\n",
       "  </tbody>\n",
       "</table>\n",
       "<p>8 rows × 32 columns</p>\n",
       "</div>"
      ],
      "text/plain": [
       "                 id  radius_mean  texture_mean  perimeter_mean    area_mean  \\\n",
       "count  5.690000e+02   569.000000    569.000000      569.000000   569.000000   \n",
       "mean   3.037183e+07    14.127292     19.289649       91.969033   654.889104   \n",
       "std    1.250206e+08     3.524049      4.301036       24.298981   351.914129   \n",
       "min    8.670000e+03     6.981000      9.710000       43.790000   143.500000   \n",
       "25%    8.692180e+05    11.700000     16.170000       75.170000   420.300000   \n",
       "50%    9.060240e+05    13.370000     18.840000       86.240000   551.100000   \n",
       "75%    8.813129e+06    15.780000     21.800000      104.100000   782.700000   \n",
       "max    9.113205e+08    28.110000     39.280000      188.500000  2501.000000   \n",
       "\n",
       "       smoothness_mean  compactness_mean  concavity_mean  concave points_mean  \\\n",
       "count       569.000000        569.000000      569.000000           569.000000   \n",
       "mean          0.096360          0.104341        0.088799             0.048919   \n",
       "std           0.014064          0.052813        0.079720             0.038803   \n",
       "min           0.052630          0.019380        0.000000             0.000000   \n",
       "25%           0.086370          0.064920        0.029560             0.020310   \n",
       "50%           0.095870          0.092630        0.061540             0.033500   \n",
       "75%           0.105300          0.130400        0.130700             0.074000   \n",
       "max           0.163400          0.345400        0.426800             0.201200   \n",
       "\n",
       "       symmetry_mean  ...  texture_worst  perimeter_worst   area_worst  \\\n",
       "count     569.000000  ...     569.000000       569.000000   569.000000   \n",
       "mean        0.181162  ...      25.677223       107.261213   880.583128   \n",
       "std         0.027414  ...       6.146258        33.602542   569.356993   \n",
       "min         0.106000  ...      12.020000        50.410000   185.200000   \n",
       "25%         0.161900  ...      21.080000        84.110000   515.300000   \n",
       "50%         0.179200  ...      25.410000        97.660000   686.500000   \n",
       "75%         0.195700  ...      29.720000       125.400000  1084.000000   \n",
       "max         0.304000  ...      49.540000       251.200000  4254.000000   \n",
       "\n",
       "       smoothness_worst  compactness_worst  concavity_worst  \\\n",
       "count        569.000000         569.000000       569.000000   \n",
       "mean           0.132369           0.254265         0.272188   \n",
       "std            0.022832           0.157336         0.208624   \n",
       "min            0.071170           0.027290         0.000000   \n",
       "25%            0.116600           0.147200         0.114500   \n",
       "50%            0.131300           0.211900         0.226700   \n",
       "75%            0.146000           0.339100         0.382900   \n",
       "max            0.222600           1.058000         1.252000   \n",
       "\n",
       "       concave points_worst  symmetry_worst  fractal_dimension_worst  \\\n",
       "count            569.000000      569.000000               569.000000   \n",
       "mean               0.114606        0.290076                 0.083946   \n",
       "std                0.065732        0.061867                 0.018061   \n",
       "min                0.000000        0.156500                 0.055040   \n",
       "25%                0.064930        0.250400                 0.071460   \n",
       "50%                0.099930        0.282200                 0.080040   \n",
       "75%                0.161400        0.317900                 0.092080   \n",
       "max                0.291000        0.663800                 0.207500   \n",
       "\n",
       "       Unnamed: 32  \n",
       "count          0.0  \n",
       "mean           NaN  \n",
       "std            NaN  \n",
       "min            NaN  \n",
       "25%            NaN  \n",
       "50%            NaN  \n",
       "75%            NaN  \n",
       "max            NaN  \n",
       "\n",
       "[8 rows x 32 columns]"
      ]
     },
     "execution_count": 4,
     "metadata": {},
     "output_type": "execute_result"
    }
   ],
   "source": [
    "df.describe()"
   ]
  },
  {
   "cell_type": "markdown",
   "id": "063b012c",
   "metadata": {
    "id": "063b012c"
   },
   "source": [
    "## 🧼 3. Data Preprocessing\n",
    "* Drop unnecessary columns (`id`, `Unnamed: 32`).\n",
    "* Label Encode `diagnosis`: M → 1, B → 0.\n",
    "* Handle missing values (if any).\n",
    "* Apply `StandardScaler` to scale all numeric features for better model performance."
   ]
  },
  {
   "cell_type": "code",
   "execution_count": 5,
   "id": "6e2bcaa6",
   "metadata": {
    "colab": {
     "base_uri": "https://localhost:8080/",
     "height": 1000
    },
    "executionInfo": {
     "elapsed": 35,
     "status": "ok",
     "timestamp": 1753512964348,
     "user": {
      "displayName": "Muhammd Yousif Memon",
      "userId": "09601574842182296753"
     },
     "user_tz": -300
    },
    "id": "6e2bcaa6",
    "outputId": "afc0fbda-cdd6-45cf-8ae9-a809c9d21aca"
   },
   "outputs": [
    {
     "data": {
      "text/plain": [
       "id                           0\n",
       "diagnosis                    0\n",
       "radius_mean                  0\n",
       "texture_mean                 0\n",
       "perimeter_mean               0\n",
       "area_mean                    0\n",
       "smoothness_mean              0\n",
       "compactness_mean             0\n",
       "concavity_mean               0\n",
       "concave points_mean          0\n",
       "symmetry_mean                0\n",
       "fractal_dimension_mean       0\n",
       "radius_se                    0\n",
       "texture_se                   0\n",
       "perimeter_se                 0\n",
       "area_se                      0\n",
       "smoothness_se                0\n",
       "compactness_se               0\n",
       "concavity_se                 0\n",
       "concave points_se            0\n",
       "symmetry_se                  0\n",
       "fractal_dimension_se         0\n",
       "radius_worst                 0\n",
       "texture_worst                0\n",
       "perimeter_worst              0\n",
       "area_worst                   0\n",
       "smoothness_worst             0\n",
       "compactness_worst            0\n",
       "concavity_worst              0\n",
       "concave points_worst         0\n",
       "symmetry_worst               0\n",
       "fractal_dimension_worst      0\n",
       "Unnamed: 32                569\n",
       "dtype: int64"
      ]
     },
     "execution_count": 5,
     "metadata": {},
     "output_type": "execute_result"
    }
   ],
   "source": [
    "# Checking for missing values\n",
    "df.isnull().sum()"
   ]
  },
  {
   "cell_type": "code",
   "execution_count": 6,
   "id": "1f12d8ae",
   "metadata": {
    "colab": {
     "base_uri": "https://localhost:8080/",
     "height": 273
    },
    "executionInfo": {
     "elapsed": 91,
     "status": "ok",
     "timestamp": 1753512965696,
     "user": {
      "displayName": "Muhammd Yousif Memon",
      "userId": "09601574842182296753"
     },
     "user_tz": -300
    },
    "id": "1f12d8ae",
    "outputId": "b064fb0c-3f5f-4fcf-dfb8-5647f1f6c0eb"
   },
   "outputs": [
    {
     "data": {
      "text/html": [
       "<div>\n",
       "<style scoped>\n",
       "    .dataframe tbody tr th:only-of-type {\n",
       "        vertical-align: middle;\n",
       "    }\n",
       "\n",
       "    .dataframe tbody tr th {\n",
       "        vertical-align: top;\n",
       "    }\n",
       "\n",
       "    .dataframe thead th {\n",
       "        text-align: right;\n",
       "    }\n",
       "</style>\n",
       "<table border=\"1\" class=\"dataframe\">\n",
       "  <thead>\n",
       "    <tr style=\"text-align: right;\">\n",
       "      <th></th>\n",
       "      <th>diagnosis</th>\n",
       "      <th>radius_mean</th>\n",
       "      <th>texture_mean</th>\n",
       "      <th>perimeter_mean</th>\n",
       "      <th>area_mean</th>\n",
       "      <th>smoothness_mean</th>\n",
       "      <th>compactness_mean</th>\n",
       "      <th>concavity_mean</th>\n",
       "      <th>concave points_mean</th>\n",
       "      <th>symmetry_mean</th>\n",
       "      <th>...</th>\n",
       "      <th>radius_worst</th>\n",
       "      <th>texture_worst</th>\n",
       "      <th>perimeter_worst</th>\n",
       "      <th>area_worst</th>\n",
       "      <th>smoothness_worst</th>\n",
       "      <th>compactness_worst</th>\n",
       "      <th>concavity_worst</th>\n",
       "      <th>concave points_worst</th>\n",
       "      <th>symmetry_worst</th>\n",
       "      <th>fractal_dimension_worst</th>\n",
       "    </tr>\n",
       "  </thead>\n",
       "  <tbody>\n",
       "    <tr>\n",
       "      <th>0</th>\n",
       "      <td>M</td>\n",
       "      <td>17.99</td>\n",
       "      <td>10.38</td>\n",
       "      <td>122.80</td>\n",
       "      <td>1001.0</td>\n",
       "      <td>0.11840</td>\n",
       "      <td>0.27760</td>\n",
       "      <td>0.3001</td>\n",
       "      <td>0.14710</td>\n",
       "      <td>0.2419</td>\n",
       "      <td>...</td>\n",
       "      <td>25.38</td>\n",
       "      <td>17.33</td>\n",
       "      <td>184.60</td>\n",
       "      <td>2019.0</td>\n",
       "      <td>0.1622</td>\n",
       "      <td>0.6656</td>\n",
       "      <td>0.7119</td>\n",
       "      <td>0.2654</td>\n",
       "      <td>0.4601</td>\n",
       "      <td>0.11890</td>\n",
       "    </tr>\n",
       "    <tr>\n",
       "      <th>1</th>\n",
       "      <td>M</td>\n",
       "      <td>20.57</td>\n",
       "      <td>17.77</td>\n",
       "      <td>132.90</td>\n",
       "      <td>1326.0</td>\n",
       "      <td>0.08474</td>\n",
       "      <td>0.07864</td>\n",
       "      <td>0.0869</td>\n",
       "      <td>0.07017</td>\n",
       "      <td>0.1812</td>\n",
       "      <td>...</td>\n",
       "      <td>24.99</td>\n",
       "      <td>23.41</td>\n",
       "      <td>158.80</td>\n",
       "      <td>1956.0</td>\n",
       "      <td>0.1238</td>\n",
       "      <td>0.1866</td>\n",
       "      <td>0.2416</td>\n",
       "      <td>0.1860</td>\n",
       "      <td>0.2750</td>\n",
       "      <td>0.08902</td>\n",
       "    </tr>\n",
       "    <tr>\n",
       "      <th>2</th>\n",
       "      <td>M</td>\n",
       "      <td>19.69</td>\n",
       "      <td>21.25</td>\n",
       "      <td>130.00</td>\n",
       "      <td>1203.0</td>\n",
       "      <td>0.10960</td>\n",
       "      <td>0.15990</td>\n",
       "      <td>0.1974</td>\n",
       "      <td>0.12790</td>\n",
       "      <td>0.2069</td>\n",
       "      <td>...</td>\n",
       "      <td>23.57</td>\n",
       "      <td>25.53</td>\n",
       "      <td>152.50</td>\n",
       "      <td>1709.0</td>\n",
       "      <td>0.1444</td>\n",
       "      <td>0.4245</td>\n",
       "      <td>0.4504</td>\n",
       "      <td>0.2430</td>\n",
       "      <td>0.3613</td>\n",
       "      <td>0.08758</td>\n",
       "    </tr>\n",
       "    <tr>\n",
       "      <th>3</th>\n",
       "      <td>M</td>\n",
       "      <td>11.42</td>\n",
       "      <td>20.38</td>\n",
       "      <td>77.58</td>\n",
       "      <td>386.1</td>\n",
       "      <td>0.14250</td>\n",
       "      <td>0.28390</td>\n",
       "      <td>0.2414</td>\n",
       "      <td>0.10520</td>\n",
       "      <td>0.2597</td>\n",
       "      <td>...</td>\n",
       "      <td>14.91</td>\n",
       "      <td>26.50</td>\n",
       "      <td>98.87</td>\n",
       "      <td>567.7</td>\n",
       "      <td>0.2098</td>\n",
       "      <td>0.8663</td>\n",
       "      <td>0.6869</td>\n",
       "      <td>0.2575</td>\n",
       "      <td>0.6638</td>\n",
       "      <td>0.17300</td>\n",
       "    </tr>\n",
       "    <tr>\n",
       "      <th>4</th>\n",
       "      <td>M</td>\n",
       "      <td>20.29</td>\n",
       "      <td>14.34</td>\n",
       "      <td>135.10</td>\n",
       "      <td>1297.0</td>\n",
       "      <td>0.10030</td>\n",
       "      <td>0.13280</td>\n",
       "      <td>0.1980</td>\n",
       "      <td>0.10430</td>\n",
       "      <td>0.1809</td>\n",
       "      <td>...</td>\n",
       "      <td>22.54</td>\n",
       "      <td>16.67</td>\n",
       "      <td>152.20</td>\n",
       "      <td>1575.0</td>\n",
       "      <td>0.1374</td>\n",
       "      <td>0.2050</td>\n",
       "      <td>0.4000</td>\n",
       "      <td>0.1625</td>\n",
       "      <td>0.2364</td>\n",
       "      <td>0.07678</td>\n",
       "    </tr>\n",
       "  </tbody>\n",
       "</table>\n",
       "<p>5 rows × 31 columns</p>\n",
       "</div>"
      ],
      "text/plain": [
       "  diagnosis  radius_mean  texture_mean  perimeter_mean  area_mean  \\\n",
       "0         M        17.99         10.38          122.80     1001.0   \n",
       "1         M        20.57         17.77          132.90     1326.0   \n",
       "2         M        19.69         21.25          130.00     1203.0   \n",
       "3         M        11.42         20.38           77.58      386.1   \n",
       "4         M        20.29         14.34          135.10     1297.0   \n",
       "\n",
       "   smoothness_mean  compactness_mean  concavity_mean  concave points_mean  \\\n",
       "0          0.11840           0.27760          0.3001              0.14710   \n",
       "1          0.08474           0.07864          0.0869              0.07017   \n",
       "2          0.10960           0.15990          0.1974              0.12790   \n",
       "3          0.14250           0.28390          0.2414              0.10520   \n",
       "4          0.10030           0.13280          0.1980              0.10430   \n",
       "\n",
       "   symmetry_mean  ...  radius_worst  texture_worst  perimeter_worst  \\\n",
       "0         0.2419  ...         25.38          17.33           184.60   \n",
       "1         0.1812  ...         24.99          23.41           158.80   \n",
       "2         0.2069  ...         23.57          25.53           152.50   \n",
       "3         0.2597  ...         14.91          26.50            98.87   \n",
       "4         0.1809  ...         22.54          16.67           152.20   \n",
       "\n",
       "   area_worst  smoothness_worst  compactness_worst  concavity_worst  \\\n",
       "0      2019.0            0.1622             0.6656           0.7119   \n",
       "1      1956.0            0.1238             0.1866           0.2416   \n",
       "2      1709.0            0.1444             0.4245           0.4504   \n",
       "3       567.7            0.2098             0.8663           0.6869   \n",
       "4      1575.0            0.1374             0.2050           0.4000   \n",
       "\n",
       "   concave points_worst  symmetry_worst  fractal_dimension_worst  \n",
       "0                0.2654          0.4601                  0.11890  \n",
       "1                0.1860          0.2750                  0.08902  \n",
       "2                0.2430          0.3613                  0.08758  \n",
       "3                0.2575          0.6638                  0.17300  \n",
       "4                0.1625          0.2364                  0.07678  \n",
       "\n",
       "[5 rows x 31 columns]"
      ]
     },
     "execution_count": 6,
     "metadata": {},
     "output_type": "execute_result"
    }
   ],
   "source": [
    "# Dropping the 'id' and 'Unnamed: 32' columns\n",
    "df_cleaned = df.drop(columns = ['id', 'Unnamed: 32'])\n",
    "\n",
    "df_cleaned.head()"
   ]
  },
  {
   "cell_type": "code",
   "execution_count": 7,
   "id": "a5a64be3",
   "metadata": {
    "colab": {
     "base_uri": "https://localhost:8080/",
     "height": 273
    },
    "executionInfo": {
     "elapsed": 233,
     "status": "ok",
     "timestamp": 1753512967294,
     "user": {
      "displayName": "Muhammd Yousif Memon",
      "userId": "09601574842182296753"
     },
     "user_tz": -300
    },
    "id": "a5a64be3",
    "outputId": "42932e80-e586-491d-c8e4-0c71f2cf2335"
   },
   "outputs": [
    {
     "data": {
      "text/html": [
       "<div>\n",
       "<style scoped>\n",
       "    .dataframe tbody tr th:only-of-type {\n",
       "        vertical-align: middle;\n",
       "    }\n",
       "\n",
       "    .dataframe tbody tr th {\n",
       "        vertical-align: top;\n",
       "    }\n",
       "\n",
       "    .dataframe thead th {\n",
       "        text-align: right;\n",
       "    }\n",
       "</style>\n",
       "<table border=\"1\" class=\"dataframe\">\n",
       "  <thead>\n",
       "    <tr style=\"text-align: right;\">\n",
       "      <th></th>\n",
       "      <th>diagnosis</th>\n",
       "      <th>radius_mean</th>\n",
       "      <th>texture_mean</th>\n",
       "      <th>perimeter_mean</th>\n",
       "      <th>area_mean</th>\n",
       "      <th>smoothness_mean</th>\n",
       "      <th>compactness_mean</th>\n",
       "      <th>concavity_mean</th>\n",
       "      <th>concave points_mean</th>\n",
       "      <th>symmetry_mean</th>\n",
       "      <th>...</th>\n",
       "      <th>radius_worst</th>\n",
       "      <th>texture_worst</th>\n",
       "      <th>perimeter_worst</th>\n",
       "      <th>area_worst</th>\n",
       "      <th>smoothness_worst</th>\n",
       "      <th>compactness_worst</th>\n",
       "      <th>concavity_worst</th>\n",
       "      <th>concave points_worst</th>\n",
       "      <th>symmetry_worst</th>\n",
       "      <th>fractal_dimension_worst</th>\n",
       "    </tr>\n",
       "  </thead>\n",
       "  <tbody>\n",
       "    <tr>\n",
       "      <th>0</th>\n",
       "      <td>1</td>\n",
       "      <td>17.99</td>\n",
       "      <td>10.38</td>\n",
       "      <td>122.80</td>\n",
       "      <td>1001.0</td>\n",
       "      <td>0.11840</td>\n",
       "      <td>0.27760</td>\n",
       "      <td>0.3001</td>\n",
       "      <td>0.14710</td>\n",
       "      <td>0.2419</td>\n",
       "      <td>...</td>\n",
       "      <td>25.38</td>\n",
       "      <td>17.33</td>\n",
       "      <td>184.60</td>\n",
       "      <td>2019.0</td>\n",
       "      <td>0.1622</td>\n",
       "      <td>0.6656</td>\n",
       "      <td>0.7119</td>\n",
       "      <td>0.2654</td>\n",
       "      <td>0.4601</td>\n",
       "      <td>0.11890</td>\n",
       "    </tr>\n",
       "    <tr>\n",
       "      <th>1</th>\n",
       "      <td>1</td>\n",
       "      <td>20.57</td>\n",
       "      <td>17.77</td>\n",
       "      <td>132.90</td>\n",
       "      <td>1326.0</td>\n",
       "      <td>0.08474</td>\n",
       "      <td>0.07864</td>\n",
       "      <td>0.0869</td>\n",
       "      <td>0.07017</td>\n",
       "      <td>0.1812</td>\n",
       "      <td>...</td>\n",
       "      <td>24.99</td>\n",
       "      <td>23.41</td>\n",
       "      <td>158.80</td>\n",
       "      <td>1956.0</td>\n",
       "      <td>0.1238</td>\n",
       "      <td>0.1866</td>\n",
       "      <td>0.2416</td>\n",
       "      <td>0.1860</td>\n",
       "      <td>0.2750</td>\n",
       "      <td>0.08902</td>\n",
       "    </tr>\n",
       "    <tr>\n",
       "      <th>2</th>\n",
       "      <td>1</td>\n",
       "      <td>19.69</td>\n",
       "      <td>21.25</td>\n",
       "      <td>130.00</td>\n",
       "      <td>1203.0</td>\n",
       "      <td>0.10960</td>\n",
       "      <td>0.15990</td>\n",
       "      <td>0.1974</td>\n",
       "      <td>0.12790</td>\n",
       "      <td>0.2069</td>\n",
       "      <td>...</td>\n",
       "      <td>23.57</td>\n",
       "      <td>25.53</td>\n",
       "      <td>152.50</td>\n",
       "      <td>1709.0</td>\n",
       "      <td>0.1444</td>\n",
       "      <td>0.4245</td>\n",
       "      <td>0.4504</td>\n",
       "      <td>0.2430</td>\n",
       "      <td>0.3613</td>\n",
       "      <td>0.08758</td>\n",
       "    </tr>\n",
       "    <tr>\n",
       "      <th>3</th>\n",
       "      <td>1</td>\n",
       "      <td>11.42</td>\n",
       "      <td>20.38</td>\n",
       "      <td>77.58</td>\n",
       "      <td>386.1</td>\n",
       "      <td>0.14250</td>\n",
       "      <td>0.28390</td>\n",
       "      <td>0.2414</td>\n",
       "      <td>0.10520</td>\n",
       "      <td>0.2597</td>\n",
       "      <td>...</td>\n",
       "      <td>14.91</td>\n",
       "      <td>26.50</td>\n",
       "      <td>98.87</td>\n",
       "      <td>567.7</td>\n",
       "      <td>0.2098</td>\n",
       "      <td>0.8663</td>\n",
       "      <td>0.6869</td>\n",
       "      <td>0.2575</td>\n",
       "      <td>0.6638</td>\n",
       "      <td>0.17300</td>\n",
       "    </tr>\n",
       "    <tr>\n",
       "      <th>4</th>\n",
       "      <td>1</td>\n",
       "      <td>20.29</td>\n",
       "      <td>14.34</td>\n",
       "      <td>135.10</td>\n",
       "      <td>1297.0</td>\n",
       "      <td>0.10030</td>\n",
       "      <td>0.13280</td>\n",
       "      <td>0.1980</td>\n",
       "      <td>0.10430</td>\n",
       "      <td>0.1809</td>\n",
       "      <td>...</td>\n",
       "      <td>22.54</td>\n",
       "      <td>16.67</td>\n",
       "      <td>152.20</td>\n",
       "      <td>1575.0</td>\n",
       "      <td>0.1374</td>\n",
       "      <td>0.2050</td>\n",
       "      <td>0.4000</td>\n",
       "      <td>0.1625</td>\n",
       "      <td>0.2364</td>\n",
       "      <td>0.07678</td>\n",
       "    </tr>\n",
       "  </tbody>\n",
       "</table>\n",
       "<p>5 rows × 31 columns</p>\n",
       "</div>"
      ],
      "text/plain": [
       "   diagnosis  radius_mean  texture_mean  perimeter_mean  area_mean  \\\n",
       "0          1        17.99         10.38          122.80     1001.0   \n",
       "1          1        20.57         17.77          132.90     1326.0   \n",
       "2          1        19.69         21.25          130.00     1203.0   \n",
       "3          1        11.42         20.38           77.58      386.1   \n",
       "4          1        20.29         14.34          135.10     1297.0   \n",
       "\n",
       "   smoothness_mean  compactness_mean  concavity_mean  concave points_mean  \\\n",
       "0          0.11840           0.27760          0.3001              0.14710   \n",
       "1          0.08474           0.07864          0.0869              0.07017   \n",
       "2          0.10960           0.15990          0.1974              0.12790   \n",
       "3          0.14250           0.28390          0.2414              0.10520   \n",
       "4          0.10030           0.13280          0.1980              0.10430   \n",
       "\n",
       "   symmetry_mean  ...  radius_worst  texture_worst  perimeter_worst  \\\n",
       "0         0.2419  ...         25.38          17.33           184.60   \n",
       "1         0.1812  ...         24.99          23.41           158.80   \n",
       "2         0.2069  ...         23.57          25.53           152.50   \n",
       "3         0.2597  ...         14.91          26.50            98.87   \n",
       "4         0.1809  ...         22.54          16.67           152.20   \n",
       "\n",
       "   area_worst  smoothness_worst  compactness_worst  concavity_worst  \\\n",
       "0      2019.0            0.1622             0.6656           0.7119   \n",
       "1      1956.0            0.1238             0.1866           0.2416   \n",
       "2      1709.0            0.1444             0.4245           0.4504   \n",
       "3       567.7            0.2098             0.8663           0.6869   \n",
       "4      1575.0            0.1374             0.2050           0.4000   \n",
       "\n",
       "   concave points_worst  symmetry_worst  fractal_dimension_worst  \n",
       "0                0.2654          0.4601                  0.11890  \n",
       "1                0.1860          0.2750                  0.08902  \n",
       "2                0.2430          0.3613                  0.08758  \n",
       "3                0.2575          0.6638                  0.17300  \n",
       "4                0.1625          0.2364                  0.07678  \n",
       "\n",
       "[5 rows x 31 columns]"
      ]
     },
     "execution_count": 7,
     "metadata": {},
     "output_type": "execute_result"
    }
   ],
   "source": [
    "# LabelEncoding the 'diagnosis' column\n",
    "label_encoder = LabelEncoder()\n",
    "df_cleaned['diagnosis'] = label_encoder.fit_transform(df_cleaned['diagnosis'])\n",
    "\n",
    "# DIplaying first few rows after encoding\n",
    "df_cleaned.head()\n"
   ]
  },
  {
   "cell_type": "markdown",
   "id": "be7c030a",
   "metadata": {
    "id": "be7c030a"
   },
   "source": [
    "## 📏 4. Feature Scaling"
   ]
  },
  {
   "cell_type": "code",
   "execution_count": 8,
   "id": "a6976f21",
   "metadata": {
    "colab": {
     "base_uri": "https://localhost:8080/",
     "height": 273
    },
    "executionInfo": {
     "elapsed": 772,
     "status": "ok",
     "timestamp": 1753512970723,
     "user": {
      "displayName": "Muhammd Yousif Memon",
      "userId": "09601574842182296753"
     },
     "user_tz": -300
    },
    "id": "a6976f21",
    "outputId": "357a03a7-f87a-4add-e716-e57ec0c80e95"
   },
   "outputs": [
    {
     "data": {
      "text/html": [
       "<div>\n",
       "<style scoped>\n",
       "    .dataframe tbody tr th:only-of-type {\n",
       "        vertical-align: middle;\n",
       "    }\n",
       "\n",
       "    .dataframe tbody tr th {\n",
       "        vertical-align: top;\n",
       "    }\n",
       "\n",
       "    .dataframe thead th {\n",
       "        text-align: right;\n",
       "    }\n",
       "</style>\n",
       "<table border=\"1\" class=\"dataframe\">\n",
       "  <thead>\n",
       "    <tr style=\"text-align: right;\">\n",
       "      <th></th>\n",
       "      <th>diagnosis</th>\n",
       "      <th>radius_mean</th>\n",
       "      <th>texture_mean</th>\n",
       "      <th>perimeter_mean</th>\n",
       "      <th>area_mean</th>\n",
       "      <th>smoothness_mean</th>\n",
       "      <th>compactness_mean</th>\n",
       "      <th>concavity_mean</th>\n",
       "      <th>concave points_mean</th>\n",
       "      <th>symmetry_mean</th>\n",
       "      <th>...</th>\n",
       "      <th>radius_worst</th>\n",
       "      <th>texture_worst</th>\n",
       "      <th>perimeter_worst</th>\n",
       "      <th>area_worst</th>\n",
       "      <th>smoothness_worst</th>\n",
       "      <th>compactness_worst</th>\n",
       "      <th>concavity_worst</th>\n",
       "      <th>concave points_worst</th>\n",
       "      <th>symmetry_worst</th>\n",
       "      <th>fractal_dimension_worst</th>\n",
       "    </tr>\n",
       "  </thead>\n",
       "  <tbody>\n",
       "    <tr>\n",
       "      <th>0</th>\n",
       "      <td>1</td>\n",
       "      <td>1.097064</td>\n",
       "      <td>-2.073335</td>\n",
       "      <td>1.269934</td>\n",
       "      <td>0.984375</td>\n",
       "      <td>1.568466</td>\n",
       "      <td>3.283515</td>\n",
       "      <td>2.652874</td>\n",
       "      <td>2.532475</td>\n",
       "      <td>2.217515</td>\n",
       "      <td>...</td>\n",
       "      <td>1.886690</td>\n",
       "      <td>-1.359293</td>\n",
       "      <td>2.303601</td>\n",
       "      <td>2.001237</td>\n",
       "      <td>1.307686</td>\n",
       "      <td>2.616665</td>\n",
       "      <td>2.109526</td>\n",
       "      <td>2.296076</td>\n",
       "      <td>2.750622</td>\n",
       "      <td>1.937015</td>\n",
       "    </tr>\n",
       "    <tr>\n",
       "      <th>1</th>\n",
       "      <td>1</td>\n",
       "      <td>1.829821</td>\n",
       "      <td>-0.353632</td>\n",
       "      <td>1.685955</td>\n",
       "      <td>1.908708</td>\n",
       "      <td>-0.826962</td>\n",
       "      <td>-0.487072</td>\n",
       "      <td>-0.023846</td>\n",
       "      <td>0.548144</td>\n",
       "      <td>0.001392</td>\n",
       "      <td>...</td>\n",
       "      <td>1.805927</td>\n",
       "      <td>-0.369203</td>\n",
       "      <td>1.535126</td>\n",
       "      <td>1.890489</td>\n",
       "      <td>-0.375612</td>\n",
       "      <td>-0.430444</td>\n",
       "      <td>-0.146749</td>\n",
       "      <td>1.087084</td>\n",
       "      <td>-0.243890</td>\n",
       "      <td>0.281190</td>\n",
       "    </tr>\n",
       "    <tr>\n",
       "      <th>2</th>\n",
       "      <td>1</td>\n",
       "      <td>1.579888</td>\n",
       "      <td>0.456187</td>\n",
       "      <td>1.566503</td>\n",
       "      <td>1.558884</td>\n",
       "      <td>0.942210</td>\n",
       "      <td>1.052926</td>\n",
       "      <td>1.363478</td>\n",
       "      <td>2.037231</td>\n",
       "      <td>0.939685</td>\n",
       "      <td>...</td>\n",
       "      <td>1.511870</td>\n",
       "      <td>-0.023974</td>\n",
       "      <td>1.347475</td>\n",
       "      <td>1.456285</td>\n",
       "      <td>0.527407</td>\n",
       "      <td>1.082932</td>\n",
       "      <td>0.854974</td>\n",
       "      <td>1.955000</td>\n",
       "      <td>1.152255</td>\n",
       "      <td>0.201391</td>\n",
       "    </tr>\n",
       "    <tr>\n",
       "      <th>3</th>\n",
       "      <td>1</td>\n",
       "      <td>-0.768909</td>\n",
       "      <td>0.253732</td>\n",
       "      <td>-0.592687</td>\n",
       "      <td>-0.764464</td>\n",
       "      <td>3.283553</td>\n",
       "      <td>3.402909</td>\n",
       "      <td>1.915897</td>\n",
       "      <td>1.451707</td>\n",
       "      <td>2.867383</td>\n",
       "      <td>...</td>\n",
       "      <td>-0.281464</td>\n",
       "      <td>0.133984</td>\n",
       "      <td>-0.249939</td>\n",
       "      <td>-0.550021</td>\n",
       "      <td>3.394275</td>\n",
       "      <td>3.893397</td>\n",
       "      <td>1.989588</td>\n",
       "      <td>2.175786</td>\n",
       "      <td>6.046041</td>\n",
       "      <td>4.935010</td>\n",
       "    </tr>\n",
       "    <tr>\n",
       "      <th>4</th>\n",
       "      <td>1</td>\n",
       "      <td>1.750297</td>\n",
       "      <td>-1.151816</td>\n",
       "      <td>1.776573</td>\n",
       "      <td>1.826229</td>\n",
       "      <td>0.280372</td>\n",
       "      <td>0.539340</td>\n",
       "      <td>1.371011</td>\n",
       "      <td>1.428493</td>\n",
       "      <td>-0.009560</td>\n",
       "      <td>...</td>\n",
       "      <td>1.298575</td>\n",
       "      <td>-1.466770</td>\n",
       "      <td>1.338539</td>\n",
       "      <td>1.220724</td>\n",
       "      <td>0.220556</td>\n",
       "      <td>-0.313395</td>\n",
       "      <td>0.613179</td>\n",
       "      <td>0.729259</td>\n",
       "      <td>-0.868353</td>\n",
       "      <td>-0.397100</td>\n",
       "    </tr>\n",
       "  </tbody>\n",
       "</table>\n",
       "<p>5 rows × 31 columns</p>\n",
       "</div>"
      ],
      "text/plain": [
       "   diagnosis  radius_mean  texture_mean  perimeter_mean  area_mean  \\\n",
       "0          1     1.097064     -2.073335        1.269934   0.984375   \n",
       "1          1     1.829821     -0.353632        1.685955   1.908708   \n",
       "2          1     1.579888      0.456187        1.566503   1.558884   \n",
       "3          1    -0.768909      0.253732       -0.592687  -0.764464   \n",
       "4          1     1.750297     -1.151816        1.776573   1.826229   \n",
       "\n",
       "   smoothness_mean  compactness_mean  concavity_mean  concave points_mean  \\\n",
       "0         1.568466          3.283515        2.652874             2.532475   \n",
       "1        -0.826962         -0.487072       -0.023846             0.548144   \n",
       "2         0.942210          1.052926        1.363478             2.037231   \n",
       "3         3.283553          3.402909        1.915897             1.451707   \n",
       "4         0.280372          0.539340        1.371011             1.428493   \n",
       "\n",
       "   symmetry_mean  ...  radius_worst  texture_worst  perimeter_worst  \\\n",
       "0       2.217515  ...      1.886690      -1.359293         2.303601   \n",
       "1       0.001392  ...      1.805927      -0.369203         1.535126   \n",
       "2       0.939685  ...      1.511870      -0.023974         1.347475   \n",
       "3       2.867383  ...     -0.281464       0.133984        -0.249939   \n",
       "4      -0.009560  ...      1.298575      -1.466770         1.338539   \n",
       "\n",
       "   area_worst  smoothness_worst  compactness_worst  concavity_worst  \\\n",
       "0    2.001237          1.307686           2.616665         2.109526   \n",
       "1    1.890489         -0.375612          -0.430444        -0.146749   \n",
       "2    1.456285          0.527407           1.082932         0.854974   \n",
       "3   -0.550021          3.394275           3.893397         1.989588   \n",
       "4    1.220724          0.220556          -0.313395         0.613179   \n",
       "\n",
       "   concave points_worst  symmetry_worst  fractal_dimension_worst  \n",
       "0              2.296076        2.750622                 1.937015  \n",
       "1              1.087084       -0.243890                 0.281190  \n",
       "2              1.955000        1.152255                 0.201391  \n",
       "3              2.175786        6.046041                 4.935010  \n",
       "4              0.729259       -0.868353                -0.397100  \n",
       "\n",
       "[5 rows x 31 columns]"
      ]
     },
     "execution_count": 8,
     "metadata": {},
     "output_type": "execute_result"
    }
   ],
   "source": [
    "# Scaling the features from radius_mean to fractal_dimension_worst and saving into df_cleaned\n",
    "scaler = StandardScaler()\n",
    "features_to_scale = df_cleaned.columns[1:31]  # Assuming the first column is 'diagnosis'\n",
    "df_cleaned[features_to_scale] = scaler.fit_transform(df_cleaned[features_to_scale])\n",
    "\n",
    "# Displaying the first few rows after scaling\n",
    "df_cleaned.head()\n"
   ]
  },
  {
   "cell_type": "markdown",
   "id": "29b7bd0b",
   "metadata": {
    "id": "29b7bd0b"
   },
   "source": [
    "## 📊 Exploratory Data Analysis (EDA)\n",
    "* Visualize class distribution using a bar chart.\n",
    "* Plot histograms of selected features (e.g., radius, area).\n",
    "* Create a heatmap of feature correlations to identify multicollinearity.\n",
    "* Use boxplots or violin plots to detect outliers and feature spread.\n"
   ]
  },
  {
   "cell_type": "code",
   "execution_count": 9,
   "id": "3d1e6396",
   "metadata": {
    "colab": {
     "base_uri": "https://localhost:8080/",
     "height": 542
    },
    "executionInfo": {
     "elapsed": 1686,
     "status": "ok",
     "timestamp": 1753512974709,
     "user": {
      "displayName": "Muhammd Yousif Memon",
      "userId": "09601574842182296753"
     },
     "user_tz": -300
    },
    "id": "3d1e6396",
    "outputId": "efc875a2-676d-437e-8a3d-6a05888bab0a"
   },
   "outputs": [
    {
     "data": {
      "application/vnd.plotly.v1+json": {
       "config": {
        "plotlyServerURL": "https://plot.ly"
       },
       "data": [
        {
         "bingroup": "x",
         "hovertemplate": "diagnosis=1<br>radius_mean=%{x}<br>count=%{y}<extra></extra>",
         "legendgroup": "1",
         "marker": {
          "color": "#636efa",
          "opacity": 0.5,
          "pattern": {
           "shape": ""
          }
         },
         "name": "1",
         "orientation": "v",
         "showlegend": true,
         "type": "histogram",
         "x": {
          "bdata": "tIcg9pKN8T9zVy/58Ub9P7t/j8I4R/k/At1Lpuea6L8TqrYKNwH8P8Yw8SnsfN6/RE3+rgm88j+QANSVHVe+v3OVYSGdfdS/H2G7vmNO3r94rAysqDPhP/bhDUuHCt4/n/TTUEvq9j9Wj4Y5QlDfP5uDJTza4ry/aUL1c80Bvj+yVt1z0hfEP2WitPmWM+I/l+4wBNLS+T+GMs7dFAvWP+YNiSZO9f8/nLgr3XHt5j9qF9IfgGHrPzweqRMqdcA/4Jnic9Ve9D8M9PYw81DVP1MH1yD1Se8/sIF9qRl29D/p1OHatsnkv6k5j5xNSuo/rHvaXKBe9z9lorT5ljPiP+renb/Xvuc/O1wmv/nXoT9ln+Vq3FzPP/9OlQ4SiMe/BsxDaFX8yL8tbLx9beDsv45tzUT2dfY//r/9zmLNzr/Zy84CjmbRv39pGN9djfQ/2cvOAo5m0b+L8ZVeI5nyP4y7wtBKrtE/PsQJvNMY9z98NCD3BC/FPztcJr/516E/a4kbiKpO2r8ojxHUerrHP8iKXui63vU/RoZzYRnt6z8ezkKC7su3v4kzE7j9p+E/Jj/xll/T8T8dr+LjP4H7P9tvL1QyNAlAR8k1ldyY9j9Lz9jhVbDzP4vL6WYDpbk/BirKvss79j9ioW8frpbWPxJ96yMp9NA/X05OulDe+z+IVN5ZOUi1P9E4His3zsK/makRhsB90r+7J8/iS4ACQGIo2l0SAMs/9uENS4cK3j8VuOqKCl/xP2nd5fn/mPQ/a/pCQPz/BkDROB4rN87CvzZCL4mHJPY/xwaWzo27+T8H7lPkeTnYP9dZhZpjeeI/YVsLx7Ok8z/OPDfD3qvYv14iNxGZ6M0/xtJ+jg4F4j8mdE2xxyblv6B+P7fxJPA/btxuho8B9z+q+Ii249L4PwfL7x71xQRAMX4Jlugb6D8x+ckIS2HuP0Nrrz5mWcm/B+5T5Hk52D81hKziYTPlP3S2cMyEvw1AjuLqat+j/z/4ZF/xQ5bcP8VUi1ri89Q/sgTPT9YB8z+5yjVkX/aaP1COoGJkPuC/JIluhwGjyj+yiciIU/q5v9uaWedF9vE/hWiha+319j/3D2Rgnna3P+BPBoAoBO8/7j69OZfRBECjj2vVzBG3v8laLqdbC9I/3lH0Zgkz6j9Yy/wTlFL9P0VcJ3UyxQ9AKXLD/PXs7T9r3B5KyzySPz9XN3Ukb7O/sXpj6S/H+T88QbgVF434PxpzbAnuft0/Dl/0P6yU178c8V89GpDqPwWgXlglAf0/UG+Hzg6jBEBMRPYHP978P2YRL9MGSu4/cV5Judv19z/5F+HYX/X+P1lPxS3Bdfk/aJSAecPV7D/6oUw/BjD4P1zMnWmnU6i/CylTS1uk+D9Jk2IHBK7VP34miEQi3Ns/XpvM0jR/2T/jkVFAexj8P3kbh4UYSu0/lKzlQ3++7D9cGHssePPaP3ue2CvV1es/8pUGphMB/j8tYvEp1VEBQEbQT1XGR/E//qfvi39H9T+1gAY2qd72P3FeSbnb9fc/UphcR4Uz4z9oE7mH2IPlvzxBuBUXjfg/9pup8owY+z+L8ZVeI5nyP07HR677afs/nO25kGE7/D/ETy3oUXnjP/pnkrINYuM/TJSn4exK4T/m2PpyXqfqP1/YuSD3GPU/5zmRYI5RBUDRC8Knljv5PxpzbAnuft0/dnum/9dcCkBPHFf6OVHRP610wJy2r/w/7JZ9GYSY+z9eelb0kDoBQPVEYIYQ6QFASI4ElXMz5D/3x7EszXQAQMuCzbRgmP0/nabexPax67+2XIDASy/BPwspU0tbpPg/41z1JRPF2D/VNlNuZgABQHfotB+CMPE/tIcg9pKN8T9xKmQS5DnSP4IsK5Gb89g/KwYd4UQXzD8dr+LjP4H7P+gbvaYhU/U/c9JAtiBrpb/13K/Y9o/sP1dXVmEbvPE/+KndcmB28D94VriFga//P6r4iLbj0vg/hagw3ubV6j+FPXfY2TMOQMW+p8HBj+8/JoD3fMlK4z8VLn8kZCT4P+JXl7OCSuc/iG+7K9ek8T8AK0EyPNPzP0I/yi42Xv0/KVGUKKtXtr/gt7YtQl0EQAfuU+R5Odg/+0jywZhwyr9zrbW4oMXQP7IEz0/WAfM/2I2c2uIv+j+hlII9BN0HQGLQKO2c0vw/pG+Uw60v/T8lVoNygMCkPw53SNev3NM/KjBGoxve/j8RlVErUeMAQJRr310VR/s/lDEl0Rx55j8ss5dJ2Gn9Pw==",
          "dtype": "f8"
         },
         "xaxis": "x",
         "yaxis": "y"
        },
        {
         "bingroup": "x",
         "hovertemplate": "diagnosis=0<br>radius_mean=%{x}<br>count=%{y}<extra></extra>",
         "legendgroup": "0",
         "marker": {
          "color": "#EF553B",
          "opacity": 0.5,
          "pattern": {
           "shape": ""
          }
         },
         "name": "0",
         "orientation": "v",
         "showlegend": true,
         "type": "histogram",
         "x": {
          "bdata": "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",
          "dtype": "f8"
         },
         "xaxis": "x",
         "yaxis": "y"
        }
       ],
       "layout": {
        "barmode": "overlay",
        "legend": {
         "title": {
          "text": "diagnosis"
         },
         "tracegroupgap": 0
        },
        "margin": {
         "t": 60
        },
        "template": {
         "data": {
          "bar": [
           {
            "error_x": {
             "color": "#2a3f5f"
            },
            "error_y": {
             "color": "#2a3f5f"
            },
            "marker": {
             "line": {
              "color": "#E5ECF6",
              "width": 0.5
             },
             "pattern": {
              "fillmode": "overlay",
              "size": 10,
              "solidity": 0.2
             }
            },
            "type": "bar"
           }
          ],
          "barpolar": [
           {
            "marker": {
             "line": {
              "color": "#E5ECF6",
              "width": 0.5
             },
             "pattern": {
              "fillmode": "overlay",
              "size": 10,
              "solidity": 0.2
             }
            },
            "type": "barpolar"
           }
          ],
          "carpet": [
           {
            "aaxis": {
             "endlinecolor": "#2a3f5f",
             "gridcolor": "white",
             "linecolor": "white",
             "minorgridcolor": "white",
             "startlinecolor": "#2a3f5f"
            },
            "baxis": {
             "endlinecolor": "#2a3f5f",
             "gridcolor": "white",
             "linecolor": "white",
             "minorgridcolor": "white",
             "startlinecolor": "#2a3f5f"
            },
            "type": "carpet"
           }
          ],
          "choropleth": [
           {
            "colorbar": {
             "outlinewidth": 0,
             "ticks": ""
            },
            "type": "choropleth"
           }
          ],
          "contour": [
           {
            "colorbar": {
             "outlinewidth": 0,
             "ticks": ""
            },
            "colorscale": [
             [
              0,
              "#0d0887"
             ],
             [
              0.1111111111111111,
              "#46039f"
             ],
             [
              0.2222222222222222,
              "#7201a8"
             ],
             [
              0.3333333333333333,
              "#9c179e"
             ],
             [
              0.4444444444444444,
              "#bd3786"
             ],
             [
              0.5555555555555556,
              "#d8576b"
             ],
             [
              0.6666666666666666,
              "#ed7953"
             ],
             [
              0.7777777777777778,
              "#fb9f3a"
             ],
             [
              0.8888888888888888,
              "#fdca26"
             ],
             [
              1,
              "#f0f921"
             ]
            ],
            "type": "contour"
           }
          ],
          "contourcarpet": [
           {
            "colorbar": {
             "outlinewidth": 0,
             "ticks": ""
            },
            "type": "contourcarpet"
           }
          ],
          "heatmap": [
           {
            "colorbar": {
             "outlinewidth": 0,
             "ticks": ""
            },
            "colorscale": [
             [
              0,
              "#0d0887"
             ],
             [
              0.1111111111111111,
              "#46039f"
             ],
             [
              0.2222222222222222,
              "#7201a8"
             ],
             [
              0.3333333333333333,
              "#9c179e"
             ],
             [
              0.4444444444444444,
              "#bd3786"
             ],
             [
              0.5555555555555556,
              "#d8576b"
             ],
             [
              0.6666666666666666,
              "#ed7953"
             ],
             [
              0.7777777777777778,
              "#fb9f3a"
             ],
             [
              0.8888888888888888,
              "#fdca26"
             ],
             [
              1,
              "#f0f921"
             ]
            ],
            "type": "heatmap"
           }
          ],
          "histogram": [
           {
            "marker": {
             "pattern": {
              "fillmode": "overlay",
              "size": 10,
              "solidity": 0.2
             }
            },
            "type": "histogram"
           }
          ],
          "histogram2d": [
           {
            "colorbar": {
             "outlinewidth": 0,
             "ticks": ""
            },
            "colorscale": [
             [
              0,
              "#0d0887"
             ],
             [
              0.1111111111111111,
              "#46039f"
             ],
             [
              0.2222222222222222,
              "#7201a8"
             ],
             [
              0.3333333333333333,
              "#9c179e"
             ],
             [
              0.4444444444444444,
              "#bd3786"
             ],
             [
              0.5555555555555556,
              "#d8576b"
             ],
             [
              0.6666666666666666,
              "#ed7953"
             ],
             [
              0.7777777777777778,
              "#fb9f3a"
             ],
             [
              0.8888888888888888,
              "#fdca26"
             ],
             [
              1,
              "#f0f921"
             ]
            ],
            "type": "histogram2d"
           }
          ],
          "histogram2dcontour": [
           {
            "colorbar": {
             "outlinewidth": 0,
             "ticks": ""
            },
            "colorscale": [
             [
              0,
              "#0d0887"
             ],
             [
              0.1111111111111111,
              "#46039f"
             ],
             [
              0.2222222222222222,
              "#7201a8"
             ],
             [
              0.3333333333333333,
              "#9c179e"
             ],
             [
              0.4444444444444444,
              "#bd3786"
             ],
             [
              0.5555555555555556,
              "#d8576b"
             ],
             [
              0.6666666666666666,
              "#ed7953"
             ],
             [
              0.7777777777777778,
              "#fb9f3a"
             ],
             [
              0.8888888888888888,
              "#fdca26"
             ],
             [
              1,
              "#f0f921"
             ]
            ],
            "type": "histogram2dcontour"
           }
          ],
          "mesh3d": [
           {
            "colorbar": {
             "outlinewidth": 0,
             "ticks": ""
            },
            "type": "mesh3d"
           }
          ],
          "parcoords": [
           {
            "line": {
             "colorbar": {
              "outlinewidth": 0,
              "ticks": ""
             }
            },
            "type": "parcoords"
           }
          ],
          "pie": [
           {
            "automargin": true,
            "type": "pie"
           }
          ],
          "scatter": [
           {
            "fillpattern": {
             "fillmode": "overlay",
             "size": 10,
             "solidity": 0.2
            },
            "type": "scatter"
           }
          ],
          "scatter3d": [
           {
            "line": {
             "colorbar": {
              "outlinewidth": 0,
              "ticks": ""
             }
            },
            "marker": {
             "colorbar": {
              "outlinewidth": 0,
              "ticks": ""
             }
            },
            "type": "scatter3d"
           }
          ],
          "scattercarpet": [
           {
            "marker": {
             "colorbar": {
              "outlinewidth": 0,
              "ticks": ""
             }
            },
            "type": "scattercarpet"
           }
          ],
          "scattergeo": [
           {
            "marker": {
             "colorbar": {
              "outlinewidth": 0,
              "ticks": ""
             }
            },
            "type": "scattergeo"
           }
          ],
          "scattergl": [
           {
            "marker": {
             "colorbar": {
              "outlinewidth": 0,
              "ticks": ""
             }
            },
            "type": "scattergl"
           }
          ],
          "scattermap": [
           {
            "marker": {
             "colorbar": {
              "outlinewidth": 0,
              "ticks": ""
             }
            },
            "type": "scattermap"
           }
          ],
          "scattermapbox": [
           {
            "marker": {
             "colorbar": {
              "outlinewidth": 0,
              "ticks": ""
             }
            },
            "type": "scattermapbox"
           }
          ],
          "scatterpolar": [
           {
            "marker": {
             "colorbar": {
              "outlinewidth": 0,
              "ticks": ""
             }
            },
            "type": "scatterpolar"
           }
          ],
          "scatterpolargl": [
           {
            "marker": {
             "colorbar": {
              "outlinewidth": 0,
              "ticks": ""
             }
            },
            "type": "scatterpolargl"
           }
          ],
          "scatterternary": [
           {
            "marker": {
             "colorbar": {
              "outlinewidth": 0,
              "ticks": ""
             }
            },
            "type": "scatterternary"
           }
          ],
          "surface": [
           {
            "colorbar": {
             "outlinewidth": 0,
             "ticks": ""
            },
            "colorscale": [
             [
              0,
              "#0d0887"
             ],
             [
              0.1111111111111111,
              "#46039f"
             ],
             [
              0.2222222222222222,
              "#7201a8"
             ],
             [
              0.3333333333333333,
              "#9c179e"
             ],
             [
              0.4444444444444444,
              "#bd3786"
             ],
             [
              0.5555555555555556,
              "#d8576b"
             ],
             [
              0.6666666666666666,
              "#ed7953"
             ],
             [
              0.7777777777777778,
              "#fb9f3a"
             ],
             [
              0.8888888888888888,
              "#fdca26"
             ],
             [
              1,
              "#f0f921"
             ]
            ],
            "type": "surface"
           }
          ],
          "table": [
           {
            "cells": {
             "fill": {
              "color": "#EBF0F8"
             },
             "line": {
              "color": "white"
             }
            },
            "header": {
             "fill": {
              "color": "#C8D4E3"
             },
             "line": {
              "color": "white"
             }
            },
            "type": "table"
           }
          ]
         },
         "layout": {
          "annotationdefaults": {
           "arrowcolor": "#2a3f5f",
           "arrowhead": 0,
           "arrowwidth": 1
          },
          "autotypenumbers": "strict",
          "coloraxis": {
           "colorbar": {
            "outlinewidth": 0,
            "ticks": ""
           }
          },
          "colorscale": {
           "diverging": [
            [
             0,
             "#8e0152"
            ],
            [
             0.1,
             "#c51b7d"
            ],
            [
             0.2,
             "#de77ae"
            ],
            [
             0.3,
             "#f1b6da"
            ],
            [
             0.4,
             "#fde0ef"
            ],
            [
             0.5,
             "#f7f7f7"
            ],
            [
             0.6,
             "#e6f5d0"
            ],
            [
             0.7,
             "#b8e186"
            ],
            [
             0.8,
             "#7fbc41"
            ],
            [
             0.9,
             "#4d9221"
            ],
            [
             1,
             "#276419"
            ]
           ],
           "sequential": [
            [
             0,
             "#0d0887"
            ],
            [
             0.1111111111111111,
             "#46039f"
            ],
            [
             0.2222222222222222,
             "#7201a8"
            ],
            [
             0.3333333333333333,
             "#9c179e"
            ],
            [
             0.4444444444444444,
             "#bd3786"
            ],
            [
             0.5555555555555556,
             "#d8576b"
            ],
            [
             0.6666666666666666,
             "#ed7953"
            ],
            [
             0.7777777777777778,
             "#fb9f3a"
            ],
            [
             0.8888888888888888,
             "#fdca26"
            ],
            [
             1,
             "#f0f921"
            ]
           ],
           "sequentialminus": [
            [
             0,
             "#0d0887"
            ],
            [
             0.1111111111111111,
             "#46039f"
            ],
            [
             0.2222222222222222,
             "#7201a8"
            ],
            [
             0.3333333333333333,
             "#9c179e"
            ],
            [
             0.4444444444444444,
             "#bd3786"
            ],
            [
             0.5555555555555556,
             "#d8576b"
            ],
            [
             0.6666666666666666,
             "#ed7953"
            ],
            [
             0.7777777777777778,
             "#fb9f3a"
            ],
            [
             0.8888888888888888,
             "#fdca26"
            ],
            [
             1,
             "#f0f921"
            ]
           ]
          },
          "colorway": [
           "#636efa",
           "#EF553B",
           "#00cc96",
           "#ab63fa",
           "#FFA15A",
           "#19d3f3",
           "#FF6692",
           "#B6E880",
           "#FF97FF",
           "#FECB52"
          ],
          "font": {
           "color": "#2a3f5f"
          },
          "geo": {
           "bgcolor": "white",
           "lakecolor": "white",
           "landcolor": "#E5ECF6",
           "showlakes": true,
           "showland": true,
           "subunitcolor": "white"
          },
          "hoverlabel": {
           "align": "left"
          },
          "hovermode": "closest",
          "mapbox": {
           "style": "light"
          },
          "paper_bgcolor": "white",
          "plot_bgcolor": "#E5ECF6",
          "polar": {
           "angularaxis": {
            "gridcolor": "white",
            "linecolor": "white",
            "ticks": ""
           },
           "bgcolor": "#E5ECF6",
           "radialaxis": {
            "gridcolor": "white",
            "linecolor": "white",
            "ticks": ""
           }
          },
          "scene": {
           "xaxis": {
            "backgroundcolor": "#E5ECF6",
            "gridcolor": "white",
            "gridwidth": 2,
            "linecolor": "white",
            "showbackground": true,
            "ticks": "",
            "zerolinecolor": "white"
           },
           "yaxis": {
            "backgroundcolor": "#E5ECF6",
            "gridcolor": "white",
            "gridwidth": 2,
            "linecolor": "white",
            "showbackground": true,
            "ticks": "",
            "zerolinecolor": "white"
           },
           "zaxis": {
            "backgroundcolor": "#E5ECF6",
            "gridcolor": "white",
            "gridwidth": 2,
            "linecolor": "white",
            "showbackground": true,
            "ticks": "",
            "zerolinecolor": "white"
           }
          },
          "shapedefaults": {
           "line": {
            "color": "#2a3f5f"
           }
          },
          "ternary": {
           "aaxis": {
            "gridcolor": "white",
            "linecolor": "white",
            "ticks": ""
           },
           "baxis": {
            "gridcolor": "white",
            "linecolor": "white",
            "ticks": ""
           },
           "bgcolor": "#E5ECF6",
           "caxis": {
            "gridcolor": "white",
            "linecolor": "white",
            "ticks": ""
           }
          },
          "title": {
           "x": 0.05
          },
          "xaxis": {
           "automargin": true,
           "gridcolor": "white",
           "linecolor": "white",
           "ticks": "",
           "title": {
            "standoff": 15
           },
           "zerolinecolor": "white",
           "zerolinewidth": 2
          },
          "yaxis": {
           "automargin": true,
           "gridcolor": "white",
           "linecolor": "white",
           "ticks": "",
           "title": {
            "standoff": 15
           },
           "zerolinecolor": "white",
           "zerolinewidth": 2
          }
         }
        },
        "xaxis": {
         "anchor": "y",
         "domain": [
          0,
          1
         ],
         "title": {
          "text": "radius_mean"
         }
        },
        "yaxis": {
         "anchor": "x",
         "domain": [
          0,
          1
         ],
         "title": {
          "text": "count"
         }
        }
       }
      }
     },
     "metadata": {},
     "output_type": "display_data"
    }
   ],
   "source": [
    "# Histogram of radius_mean by diagnosis\n",
    "px.histogram(df_cleaned, x = \"radius_mean\", color = \"diagnosis\", barmode = 'overlay')"
   ]
  },
  {
   "cell_type": "code",
   "execution_count": 10,
   "id": "5adf0afb",
   "metadata": {
    "colab": {
     "base_uri": "https://localhost:8080/",
     "height": 542
    },
    "executionInfo": {
     "elapsed": 395,
     "status": "ok",
     "timestamp": 1753512977431,
     "user": {
      "displayName": "Muhammd Yousif Memon",
      "userId": "09601574842182296753"
     },
     "user_tz": -300
    },
    "id": "5adf0afb",
    "outputId": "e6901c6a-5d18-4f00-f539-c3331fd6612e"
   },
   "outputs": [
    {
     "data": {
      "application/vnd.plotly.v1+json": {
       "config": {
        "plotlyServerURL": "https://plot.ly"
       },
       "data": [
        {
         "alignmentgroup": "True",
         "hovertemplate": "diagnosis=%{x}<br>texture_mean=%{y}<extra></extra>",
         "legendgroup": "1",
         "marker": {
          "color": "#636efa"
         },
         "name": "1",
         "notched": false,
         "offsetgroup": "1",
         "orientation": "v",
         "showlegend": true,
         "type": "box",
         "x": {
          "bdata": "AQEBAQEBAQEBAQEBAQEBAQEBAQEBAQEBAQEBAQEBAQEBAQEBAQEBAQEBAQEBAQEBAQEBAQEBAQEBAQEBAQEBAQEBAQEBAQEBAQEBAQEBAQEBAQEBAQEBAQEBAQEBAQEBAQEBAQEBAQEBAQEBAQEBAQEBAQEBAQEBAQEBAQEBAQEBAQEBAQEBAQEBAQEBAQEBAQEBAQEBAQEBAQEBAQEBAQEBAQEBAQEBAQEBAQEBAQEBAQEBAQEBAQEBAQEBAQEBAQEBAQEBAQEBAQEBAQEBAQEBAQE=",
          "dtype": "i1"
         },
         "x0": " ",
         "xaxis": "x",
         "y": {
          "bdata": "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",
          "dtype": "f8"
         },
         "y0": " ",
         "yaxis": "y"
        },
        {
         "alignmentgroup": "True",
         "hovertemplate": "diagnosis=%{x}<br>texture_mean=%{y}<extra></extra>",
         "legendgroup": "0",
         "marker": {
          "color": "#EF553B"
         },
         "name": "0",
         "notched": false,
         "offsetgroup": "0",
         "orientation": "v",
         "showlegend": true,
         "type": "box",
         "x": {
          "bdata": "AAAAAAAAAAAAAAAAAAAAAAAAAAAAAAAAAAAAAAAAAAAAAAAAAAAAAAAAAAAAAAAAAAAAAAAAAAAAAAAAAAAAAAAAAAAAAAAAAAAAAAAAAAAAAAAAAAAAAAAAAAAAAAAAAAAAAAAAAAAAAAAAAAAAAAAAAAAAAAAAAAAAAAAAAAAAAAAAAAAAAAAAAAAAAAAAAAAAAAAAAAAAAAAAAAAAAAAAAAAAAAAAAAAAAAAAAAAAAAAAAAAAAAAAAAAAAAAAAAAAAAAAAAAAAAAAAAAAAAAAAAAAAAAAAAAAAAAAAAAAAAAAAAAAAAAAAAAAAAAAAAAAAAAAAAAAAAAAAAAAAAAAAAAAAAAAAAAAAAAAAAAAAAAAAAAAAAAAAAAAAAAAAAAAAAAAAAAAAAAAAAAAAAAAAAAAAAAAAAAAAAAAAAAAAAAAAAAAAAAAAAAAAAAAAAAAAAAAAAAAAAAAAAAAAAAAAAAA",
          "dtype": "i1"
         },
         "x0": " ",
         "xaxis": "x",
         "y": {
          "bdata": "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",
          "dtype": "f8"
         },
         "y0": " ",
         "yaxis": "y"
        }
       ],
       "layout": {
        "boxmode": "overlay",
        "legend": {
         "title": {
          "text": "diagnosis"
         },
         "tracegroupgap": 0
        },
        "margin": {
         "t": 60
        },
        "template": {
         "data": {
          "bar": [
           {
            "error_x": {
             "color": "#2a3f5f"
            },
            "error_y": {
             "color": "#2a3f5f"
            },
            "marker": {
             "line": {
              "color": "#E5ECF6",
              "width": 0.5
             },
             "pattern": {
              "fillmode": "overlay",
              "size": 10,
              "solidity": 0.2
             }
            },
            "type": "bar"
           }
          ],
          "barpolar": [
           {
            "marker": {
             "line": {
              "color": "#E5ECF6",
              "width": 0.5
             },
             "pattern": {
              "fillmode": "overlay",
              "size": 10,
              "solidity": 0.2
             }
            },
            "type": "barpolar"
           }
          ],
          "carpet": [
           {
            "aaxis": {
             "endlinecolor": "#2a3f5f",
             "gridcolor": "white",
             "linecolor": "white",
             "minorgridcolor": "white",
             "startlinecolor": "#2a3f5f"
            },
            "baxis": {
             "endlinecolor": "#2a3f5f",
             "gridcolor": "white",
             "linecolor": "white",
             "minorgridcolor": "white",
             "startlinecolor": "#2a3f5f"
            },
            "type": "carpet"
           }
          ],
          "choropleth": [
           {
            "colorbar": {
             "outlinewidth": 0,
             "ticks": ""
            },
            "type": "choropleth"
           }
          ],
          "contour": [
           {
            "colorbar": {
             "outlinewidth": 0,
             "ticks": ""
            },
            "colorscale": [
             [
              0,
              "#0d0887"
             ],
             [
              0.1111111111111111,
              "#46039f"
             ],
             [
              0.2222222222222222,
              "#7201a8"
             ],
             [
              0.3333333333333333,
              "#9c179e"
             ],
             [
              0.4444444444444444,
              "#bd3786"
             ],
             [
              0.5555555555555556,
              "#d8576b"
             ],
             [
              0.6666666666666666,
              "#ed7953"
             ],
             [
              0.7777777777777778,
              "#fb9f3a"
             ],
             [
              0.8888888888888888,
              "#fdca26"
             ],
             [
              1,
              "#f0f921"
             ]
            ],
            "type": "contour"
           }
          ],
          "contourcarpet": [
           {
            "colorbar": {
             "outlinewidth": 0,
             "ticks": ""
            },
            "type": "contourcarpet"
           }
          ],
          "heatmap": [
           {
            "colorbar": {
             "outlinewidth": 0,
             "ticks": ""
            },
            "colorscale": [
             [
              0,
              "#0d0887"
             ],
             [
              0.1111111111111111,
              "#46039f"
             ],
             [
              0.2222222222222222,
              "#7201a8"
             ],
             [
              0.3333333333333333,
              "#9c179e"
             ],
             [
              0.4444444444444444,
              "#bd3786"
             ],
             [
              0.5555555555555556,
              "#d8576b"
             ],
             [
              0.6666666666666666,
              "#ed7953"
             ],
             [
              0.7777777777777778,
              "#fb9f3a"
             ],
             [
              0.8888888888888888,
              "#fdca26"
             ],
             [
              1,
              "#f0f921"
             ]
            ],
            "type": "heatmap"
           }
          ],
          "histogram": [
           {
            "marker": {
             "pattern": {
              "fillmode": "overlay",
              "size": 10,
              "solidity": 0.2
             }
            },
            "type": "histogram"
           }
          ],
          "histogram2d": [
           {
            "colorbar": {
             "outlinewidth": 0,
             "ticks": ""
            },
            "colorscale": [
             [
              0,
              "#0d0887"
             ],
             [
              0.1111111111111111,
              "#46039f"
             ],
             [
              0.2222222222222222,
              "#7201a8"
             ],
             [
              0.3333333333333333,
              "#9c179e"
             ],
             [
              0.4444444444444444,
              "#bd3786"
             ],
             [
              0.5555555555555556,
              "#d8576b"
             ],
             [
              0.6666666666666666,
              "#ed7953"
             ],
             [
              0.7777777777777778,
              "#fb9f3a"
             ],
             [
              0.8888888888888888,
              "#fdca26"
             ],
             [
              1,
              "#f0f921"
             ]
            ],
            "type": "histogram2d"
           }
          ],
          "histogram2dcontour": [
           {
            "colorbar": {
             "outlinewidth": 0,
             "ticks": ""
            },
            "colorscale": [
             [
              0,
              "#0d0887"
             ],
             [
              0.1111111111111111,
              "#46039f"
             ],
             [
              0.2222222222222222,
              "#7201a8"
             ],
             [
              0.3333333333333333,
              "#9c179e"
             ],
             [
              0.4444444444444444,
              "#bd3786"
             ],
             [
              0.5555555555555556,
              "#d8576b"
             ],
             [
              0.6666666666666666,
              "#ed7953"
             ],
             [
              0.7777777777777778,
              "#fb9f3a"
             ],
             [
              0.8888888888888888,
              "#fdca26"
             ],
             [
              1,
              "#f0f921"
             ]
            ],
            "type": "histogram2dcontour"
           }
          ],
          "mesh3d": [
           {
            "colorbar": {
             "outlinewidth": 0,
             "ticks": ""
            },
            "type": "mesh3d"
           }
          ],
          "parcoords": [
           {
            "line": {
             "colorbar": {
              "outlinewidth": 0,
              "ticks": ""
             }
            },
            "type": "parcoords"
           }
          ],
          "pie": [
           {
            "automargin": true,
            "type": "pie"
           }
          ],
          "scatter": [
           {
            "fillpattern": {
             "fillmode": "overlay",
             "size": 10,
             "solidity": 0.2
            },
            "type": "scatter"
           }
          ],
          "scatter3d": [
           {
            "line": {
             "colorbar": {
              "outlinewidth": 0,
              "ticks": ""
             }
            },
            "marker": {
             "colorbar": {
              "outlinewidth": 0,
              "ticks": ""
             }
            },
            "type": "scatter3d"
           }
          ],
          "scattercarpet": [
           {
            "marker": {
             "colorbar": {
              "outlinewidth": 0,
              "ticks": ""
             }
            },
            "type": "scattercarpet"
           }
          ],
          "scattergeo": [
           {
            "marker": {
             "colorbar": {
              "outlinewidth": 0,
              "ticks": ""
             }
            },
            "type": "scattergeo"
           }
          ],
          "scattergl": [
           {
            "marker": {
             "colorbar": {
              "outlinewidth": 0,
              "ticks": ""
             }
            },
            "type": "scattergl"
           }
          ],
          "scattermap": [
           {
            "marker": {
             "colorbar": {
              "outlinewidth": 0,
              "ticks": ""
             }
            },
            "type": "scattermap"
           }
          ],
          "scattermapbox": [
           {
            "marker": {
             "colorbar": {
              "outlinewidth": 0,
              "ticks": ""
             }
            },
            "type": "scattermapbox"
           }
          ],
          "scatterpolar": [
           {
            "marker": {
             "colorbar": {
              "outlinewidth": 0,
              "ticks": ""
             }
            },
            "type": "scatterpolar"
           }
          ],
          "scatterpolargl": [
           {
            "marker": {
             "colorbar": {
              "outlinewidth": 0,
              "ticks": ""
             }
            },
            "type": "scatterpolargl"
           }
          ],
          "scatterternary": [
           {
            "marker": {
             "colorbar": {
              "outlinewidth": 0,
              "ticks": ""
             }
            },
            "type": "scatterternary"
           }
          ],
          "surface": [
           {
            "colorbar": {
             "outlinewidth": 0,
             "ticks": ""
            },
            "colorscale": [
             [
              0,
              "#0d0887"
             ],
             [
              0.1111111111111111,
              "#46039f"
             ],
             [
              0.2222222222222222,
              "#7201a8"
             ],
             [
              0.3333333333333333,
              "#9c179e"
             ],
             [
              0.4444444444444444,
              "#bd3786"
             ],
             [
              0.5555555555555556,
              "#d8576b"
             ],
             [
              0.6666666666666666,
              "#ed7953"
             ],
             [
              0.7777777777777778,
              "#fb9f3a"
             ],
             [
              0.8888888888888888,
              "#fdca26"
             ],
             [
              1,
              "#f0f921"
             ]
            ],
            "type": "surface"
           }
          ],
          "table": [
           {
            "cells": {
             "fill": {
              "color": "#EBF0F8"
             },
             "line": {
              "color": "white"
             }
            },
            "header": {
             "fill": {
              "color": "#C8D4E3"
             },
             "line": {
              "color": "white"
             }
            },
            "type": "table"
           }
          ]
         },
         "layout": {
          "annotationdefaults": {
           "arrowcolor": "#2a3f5f",
           "arrowhead": 0,
           "arrowwidth": 1
          },
          "autotypenumbers": "strict",
          "coloraxis": {
           "colorbar": {
            "outlinewidth": 0,
            "ticks": ""
           }
          },
          "colorscale": {
           "diverging": [
            [
             0,
             "#8e0152"
            ],
            [
             0.1,
             "#c51b7d"
            ],
            [
             0.2,
             "#de77ae"
            ],
            [
             0.3,
             "#f1b6da"
            ],
            [
             0.4,
             "#fde0ef"
            ],
            [
             0.5,
             "#f7f7f7"
            ],
            [
             0.6,
             "#e6f5d0"
            ],
            [
             0.7,
             "#b8e186"
            ],
            [
             0.8,
             "#7fbc41"
            ],
            [
             0.9,
             "#4d9221"
            ],
            [
             1,
             "#276419"
            ]
           ],
           "sequential": [
            [
             0,
             "#0d0887"
            ],
            [
             0.1111111111111111,
             "#46039f"
            ],
            [
             0.2222222222222222,
             "#7201a8"
            ],
            [
             0.3333333333333333,
             "#9c179e"
            ],
            [
             0.4444444444444444,
             "#bd3786"
            ],
            [
             0.5555555555555556,
             "#d8576b"
            ],
            [
             0.6666666666666666,
             "#ed7953"
            ],
            [
             0.7777777777777778,
             "#fb9f3a"
            ],
            [
             0.8888888888888888,
             "#fdca26"
            ],
            [
             1,
             "#f0f921"
            ]
           ],
           "sequentialminus": [
            [
             0,
             "#0d0887"
            ],
            [
             0.1111111111111111,
             "#46039f"
            ],
            [
             0.2222222222222222,
             "#7201a8"
            ],
            [
             0.3333333333333333,
             "#9c179e"
            ],
            [
             0.4444444444444444,
             "#bd3786"
            ],
            [
             0.5555555555555556,
             "#d8576b"
            ],
            [
             0.6666666666666666,
             "#ed7953"
            ],
            [
             0.7777777777777778,
             "#fb9f3a"
            ],
            [
             0.8888888888888888,
             "#fdca26"
            ],
            [
             1,
             "#f0f921"
            ]
           ]
          },
          "colorway": [
           "#636efa",
           "#EF553B",
           "#00cc96",
           "#ab63fa",
           "#FFA15A",
           "#19d3f3",
           "#FF6692",
           "#B6E880",
           "#FF97FF",
           "#FECB52"
          ],
          "font": {
           "color": "#2a3f5f"
          },
          "geo": {
           "bgcolor": "white",
           "lakecolor": "white",
           "landcolor": "#E5ECF6",
           "showlakes": true,
           "showland": true,
           "subunitcolor": "white"
          },
          "hoverlabel": {
           "align": "left"
          },
          "hovermode": "closest",
          "mapbox": {
           "style": "light"
          },
          "paper_bgcolor": "white",
          "plot_bgcolor": "#E5ECF6",
          "polar": {
           "angularaxis": {
            "gridcolor": "white",
            "linecolor": "white",
            "ticks": ""
           },
           "bgcolor": "#E5ECF6",
           "radialaxis": {
            "gridcolor": "white",
            "linecolor": "white",
            "ticks": ""
           }
          },
          "scene": {
           "xaxis": {
            "backgroundcolor": "#E5ECF6",
            "gridcolor": "white",
            "gridwidth": 2,
            "linecolor": "white",
            "showbackground": true,
            "ticks": "",
            "zerolinecolor": "white"
           },
           "yaxis": {
            "backgroundcolor": "#E5ECF6",
            "gridcolor": "white",
            "gridwidth": 2,
            "linecolor": "white",
            "showbackground": true,
            "ticks": "",
            "zerolinecolor": "white"
           },
           "zaxis": {
            "backgroundcolor": "#E5ECF6",
            "gridcolor": "white",
            "gridwidth": 2,
            "linecolor": "white",
            "showbackground": true,
            "ticks": "",
            "zerolinecolor": "white"
           }
          },
          "shapedefaults": {
           "line": {
            "color": "#2a3f5f"
           }
          },
          "ternary": {
           "aaxis": {
            "gridcolor": "white",
            "linecolor": "white",
            "ticks": ""
           },
           "baxis": {
            "gridcolor": "white",
            "linecolor": "white",
            "ticks": ""
           },
           "bgcolor": "#E5ECF6",
           "caxis": {
            "gridcolor": "white",
            "linecolor": "white",
            "ticks": ""
           }
          },
          "title": {
           "x": 0.05
          },
          "xaxis": {
           "automargin": true,
           "gridcolor": "white",
           "linecolor": "white",
           "ticks": "",
           "title": {
            "standoff": 15
           },
           "zerolinecolor": "white",
           "zerolinewidth": 2
          },
          "yaxis": {
           "automargin": true,
           "gridcolor": "white",
           "linecolor": "white",
           "ticks": "",
           "title": {
            "standoff": 15
           },
           "zerolinecolor": "white",
           "zerolinewidth": 2
          }
         }
        },
        "xaxis": {
         "anchor": "y",
         "categoryarray": [
          1,
          0
         ],
         "categoryorder": "array",
         "domain": [
          0,
          1
         ],
         "title": {
          "text": "diagnosis"
         }
        },
        "yaxis": {
         "anchor": "x",
         "domain": [
          0,
          1
         ],
         "title": {
          "text": "texture_mean"
         }
        }
       }
      }
     },
     "metadata": {},
     "output_type": "display_data"
    }
   ],
   "source": [
    "# Box plot of texture_mean by diagnosis\n",
    "px.box(df_cleaned, x=\"diagnosis\", y=\"texture_mean\", color=\"diagnosis\")"
   ]
  },
  {
   "cell_type": "code",
   "execution_count": 11,
   "id": "2c7711a1",
   "metadata": {
    "colab": {
     "base_uri": "https://localhost:8080/",
     "height": 542
    },
    "executionInfo": {
     "elapsed": 192,
     "status": "ok",
     "timestamp": 1753512980900,
     "user": {
      "displayName": "Muhammd Yousif Memon",
      "userId": "09601574842182296753"
     },
     "user_tz": -300
    },
    "id": "2c7711a1",
    "outputId": "cff3e910-fc96-4b3d-870e-4ddd51ca3331"
   },
   "outputs": [
    {
     "data": {
      "application/vnd.plotly.v1+json": {
       "config": {
        "plotlyServerURL": "https://plot.ly"
       },
       "data": [
        {
         "alignmentgroup": "True",
         "box": {
          "visible": true
         },
         "hovertemplate": "diagnosis=%{x}<br>area_mean=%{y}<extra></extra>",
         "legendgroup": "",
         "marker": {
          "color": "#636efa"
         },
         "name": "",
         "offsetgroup": "",
         "orientation": "v",
         "points": "all",
         "scalegroup": "True",
         "showlegend": false,
         "type": "violin",
         "x": {
          "bdata": "AQEBAQEBAQEBAQEBAQEBAQEBAQAAAAEBAQEBAQEBAQEBAQEBAQABAQEBAQEBAQABAAAAAAABAQABAQAAAAABAAEBAAAAAAEAAQEAAQABAQAAAAEBAAEBAQAAAAEAAAEBAAAAAQEAAAAAAQAAAQAAAAAAAAAAAQEBAAEBAAAAAQEAAQABAQABAQAAAQAAAQAAAAABAAAAAAAAAAAAAQAAAAABAQABAAABAQAAAQEAAAAAAQAAAQEBAAEAAQAAAAEAAAEBAAEBAQEAAQEBAAEAAQAAAQABAQEBAAABAQAAAAEAAAAAAAEBAAABAAABAQABAAAAAAEAAAAAAAEAAQEBAQEBAQEBAQEBAQEAAAAAAAABAAEAAAEAAAEAAQEAAAAAAAAAAAAAAAAAAQAAAQABAAAAAAAAAAAAAAAAAAABAAAAAQABAAAAAAEBAQAAAAABAAEAAQAAAAEAAAAAAAAAAQEBAAAAAAAAAAAAAAABAQABAQEAAQEAAAAAAAEAAAAAAAEAAAABAAABAQAAAAAAAAEAAAAAAAAAAQAAAAAAAQAAAQAAAAAAAAAAAAAAAAEAAQEAAQAAAAAAAQAAAQABAAABAAEAAAAAAAAAAAEBAAAAAAAAAQAAAAAAAAAAAAABAAAAAAAAAAEAAQAAAQAAAAAAAQEAAQABAAAAAAABAAABAAEAAQEAAAABAAAAAAAAAAAAAAABAAEBAAAAAAAAAAAAAAAAAAAAAAAAAAAAAAAAAAEBAQEBAQA=",
          "dtype": "i1"
         },
         "x0": " ",
         "xaxis": "x",
         "y": {
          "bdata": "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",
          "dtype": "f8"
         },
         "y0": " ",
         "yaxis": "y"
        }
       ],
       "layout": {
        "legend": {
         "tracegroupgap": 0
        },
        "margin": {
         "t": 60
        },
        "template": {
         "data": {
          "bar": [
           {
            "error_x": {
             "color": "#2a3f5f"
            },
            "error_y": {
             "color": "#2a3f5f"
            },
            "marker": {
             "line": {
              "color": "#E5ECF6",
              "width": 0.5
             },
             "pattern": {
              "fillmode": "overlay",
              "size": 10,
              "solidity": 0.2
             }
            },
            "type": "bar"
           }
          ],
          "barpolar": [
           {
            "marker": {
             "line": {
              "color": "#E5ECF6",
              "width": 0.5
             },
             "pattern": {
              "fillmode": "overlay",
              "size": 10,
              "solidity": 0.2
             }
            },
            "type": "barpolar"
           }
          ],
          "carpet": [
           {
            "aaxis": {
             "endlinecolor": "#2a3f5f",
             "gridcolor": "white",
             "linecolor": "white",
             "minorgridcolor": "white",
             "startlinecolor": "#2a3f5f"
            },
            "baxis": {
             "endlinecolor": "#2a3f5f",
             "gridcolor": "white",
             "linecolor": "white",
             "minorgridcolor": "white",
             "startlinecolor": "#2a3f5f"
            },
            "type": "carpet"
           }
          ],
          "choropleth": [
           {
            "colorbar": {
             "outlinewidth": 0,
             "ticks": ""
            },
            "type": "choropleth"
           }
          ],
          "contour": [
           {
            "colorbar": {
             "outlinewidth": 0,
             "ticks": ""
            },
            "colorscale": [
             [
              0,
              "#0d0887"
             ],
             [
              0.1111111111111111,
              "#46039f"
             ],
             [
              0.2222222222222222,
              "#7201a8"
             ],
             [
              0.3333333333333333,
              "#9c179e"
             ],
             [
              0.4444444444444444,
              "#bd3786"
             ],
             [
              0.5555555555555556,
              "#d8576b"
             ],
             [
              0.6666666666666666,
              "#ed7953"
             ],
             [
              0.7777777777777778,
              "#fb9f3a"
             ],
             [
              0.8888888888888888,
              "#fdca26"
             ],
             [
              1,
              "#f0f921"
             ]
            ],
            "type": "contour"
           }
          ],
          "contourcarpet": [
           {
            "colorbar": {
             "outlinewidth": 0,
             "ticks": ""
            },
            "type": "contourcarpet"
           }
          ],
          "heatmap": [
           {
            "colorbar": {
             "outlinewidth": 0,
             "ticks": ""
            },
            "colorscale": [
             [
              0,
              "#0d0887"
             ],
             [
              0.1111111111111111,
              "#46039f"
             ],
             [
              0.2222222222222222,
              "#7201a8"
             ],
             [
              0.3333333333333333,
              "#9c179e"
             ],
             [
              0.4444444444444444,
              "#bd3786"
             ],
             [
              0.5555555555555556,
              "#d8576b"
             ],
             [
              0.6666666666666666,
              "#ed7953"
             ],
             [
              0.7777777777777778,
              "#fb9f3a"
             ],
             [
              0.8888888888888888,
              "#fdca26"
             ],
             [
              1,
              "#f0f921"
             ]
            ],
            "type": "heatmap"
           }
          ],
          "histogram": [
           {
            "marker": {
             "pattern": {
              "fillmode": "overlay",
              "size": 10,
              "solidity": 0.2
             }
            },
            "type": "histogram"
           }
          ],
          "histogram2d": [
           {
            "colorbar": {
             "outlinewidth": 0,
             "ticks": ""
            },
            "colorscale": [
             [
              0,
              "#0d0887"
             ],
             [
              0.1111111111111111,
              "#46039f"
             ],
             [
              0.2222222222222222,
              "#7201a8"
             ],
             [
              0.3333333333333333,
              "#9c179e"
             ],
             [
              0.4444444444444444,
              "#bd3786"
             ],
             [
              0.5555555555555556,
              "#d8576b"
             ],
             [
              0.6666666666666666,
              "#ed7953"
             ],
             [
              0.7777777777777778,
              "#fb9f3a"
             ],
             [
              0.8888888888888888,
              "#fdca26"
             ],
             [
              1,
              "#f0f921"
             ]
            ],
            "type": "histogram2d"
           }
          ],
          "histogram2dcontour": [
           {
            "colorbar": {
             "outlinewidth": 0,
             "ticks": ""
            },
            "colorscale": [
             [
              0,
              "#0d0887"
             ],
             [
              0.1111111111111111,
              "#46039f"
             ],
             [
              0.2222222222222222,
              "#7201a8"
             ],
             [
              0.3333333333333333,
              "#9c179e"
             ],
             [
              0.4444444444444444,
              "#bd3786"
             ],
             [
              0.5555555555555556,
              "#d8576b"
             ],
             [
              0.6666666666666666,
              "#ed7953"
             ],
             [
              0.7777777777777778,
              "#fb9f3a"
             ],
             [
              0.8888888888888888,
              "#fdca26"
             ],
             [
              1,
              "#f0f921"
             ]
            ],
            "type": "histogram2dcontour"
           }
          ],
          "mesh3d": [
           {
            "colorbar": {
             "outlinewidth": 0,
             "ticks": ""
            },
            "type": "mesh3d"
           }
          ],
          "parcoords": [
           {
            "line": {
             "colorbar": {
              "outlinewidth": 0,
              "ticks": ""
             }
            },
            "type": "parcoords"
           }
          ],
          "pie": [
           {
            "automargin": true,
            "type": "pie"
           }
          ],
          "scatter": [
           {
            "fillpattern": {
             "fillmode": "overlay",
             "size": 10,
             "solidity": 0.2
            },
            "type": "scatter"
           }
          ],
          "scatter3d": [
           {
            "line": {
             "colorbar": {
              "outlinewidth": 0,
              "ticks": ""
             }
            },
            "marker": {
             "colorbar": {
              "outlinewidth": 0,
              "ticks": ""
             }
            },
            "type": "scatter3d"
           }
          ],
          "scattercarpet": [
           {
            "marker": {
             "colorbar": {
              "outlinewidth": 0,
              "ticks": ""
             }
            },
            "type": "scattercarpet"
           }
          ],
          "scattergeo": [
           {
            "marker": {
             "colorbar": {
              "outlinewidth": 0,
              "ticks": ""
             }
            },
            "type": "scattergeo"
           }
          ],
          "scattergl": [
           {
            "marker": {
             "colorbar": {
              "outlinewidth": 0,
              "ticks": ""
             }
            },
            "type": "scattergl"
           }
          ],
          "scattermap": [
           {
            "marker": {
             "colorbar": {
              "outlinewidth": 0,
              "ticks": ""
             }
            },
            "type": "scattermap"
           }
          ],
          "scattermapbox": [
           {
            "marker": {
             "colorbar": {
              "outlinewidth": 0,
              "ticks": ""
             }
            },
            "type": "scattermapbox"
           }
          ],
          "scatterpolar": [
           {
            "marker": {
             "colorbar": {
              "outlinewidth": 0,
              "ticks": ""
             }
            },
            "type": "scatterpolar"
           }
          ],
          "scatterpolargl": [
           {
            "marker": {
             "colorbar": {
              "outlinewidth": 0,
              "ticks": ""
             }
            },
            "type": "scatterpolargl"
           }
          ],
          "scatterternary": [
           {
            "marker": {
             "colorbar": {
              "outlinewidth": 0,
              "ticks": ""
             }
            },
            "type": "scatterternary"
           }
          ],
          "surface": [
           {
            "colorbar": {
             "outlinewidth": 0,
             "ticks": ""
            },
            "colorscale": [
             [
              0,
              "#0d0887"
             ],
             [
              0.1111111111111111,
              "#46039f"
             ],
             [
              0.2222222222222222,
              "#7201a8"
             ],
             [
              0.3333333333333333,
              "#9c179e"
             ],
             [
              0.4444444444444444,
              "#bd3786"
             ],
             [
              0.5555555555555556,
              "#d8576b"
             ],
             [
              0.6666666666666666,
              "#ed7953"
             ],
             [
              0.7777777777777778,
              "#fb9f3a"
             ],
             [
              0.8888888888888888,
              "#fdca26"
             ],
             [
              1,
              "#f0f921"
             ]
            ],
            "type": "surface"
           }
          ],
          "table": [
           {
            "cells": {
             "fill": {
              "color": "#EBF0F8"
             },
             "line": {
              "color": "white"
             }
            },
            "header": {
             "fill": {
              "color": "#C8D4E3"
             },
             "line": {
              "color": "white"
             }
            },
            "type": "table"
           }
          ]
         },
         "layout": {
          "annotationdefaults": {
           "arrowcolor": "#2a3f5f",
           "arrowhead": 0,
           "arrowwidth": 1
          },
          "autotypenumbers": "strict",
          "coloraxis": {
           "colorbar": {
            "outlinewidth": 0,
            "ticks": ""
           }
          },
          "colorscale": {
           "diverging": [
            [
             0,
             "#8e0152"
            ],
            [
             0.1,
             "#c51b7d"
            ],
            [
             0.2,
             "#de77ae"
            ],
            [
             0.3,
             "#f1b6da"
            ],
            [
             0.4,
             "#fde0ef"
            ],
            [
             0.5,
             "#f7f7f7"
            ],
            [
             0.6,
             "#e6f5d0"
            ],
            [
             0.7,
             "#b8e186"
            ],
            [
             0.8,
             "#7fbc41"
            ],
            [
             0.9,
             "#4d9221"
            ],
            [
             1,
             "#276419"
            ]
           ],
           "sequential": [
            [
             0,
             "#0d0887"
            ],
            [
             0.1111111111111111,
             "#46039f"
            ],
            [
             0.2222222222222222,
             "#7201a8"
            ],
            [
             0.3333333333333333,
             "#9c179e"
            ],
            [
             0.4444444444444444,
             "#bd3786"
            ],
            [
             0.5555555555555556,
             "#d8576b"
            ],
            [
             0.6666666666666666,
             "#ed7953"
            ],
            [
             0.7777777777777778,
             "#fb9f3a"
            ],
            [
             0.8888888888888888,
             "#fdca26"
            ],
            [
             1,
             "#f0f921"
            ]
           ],
           "sequentialminus": [
            [
             0,
             "#0d0887"
            ],
            [
             0.1111111111111111,
             "#46039f"
            ],
            [
             0.2222222222222222,
             "#7201a8"
            ],
            [
             0.3333333333333333,
             "#9c179e"
            ],
            [
             0.4444444444444444,
             "#bd3786"
            ],
            [
             0.5555555555555556,
             "#d8576b"
            ],
            [
             0.6666666666666666,
             "#ed7953"
            ],
            [
             0.7777777777777778,
             "#fb9f3a"
            ],
            [
             0.8888888888888888,
             "#fdca26"
            ],
            [
             1,
             "#f0f921"
            ]
           ]
          },
          "colorway": [
           "#636efa",
           "#EF553B",
           "#00cc96",
           "#ab63fa",
           "#FFA15A",
           "#19d3f3",
           "#FF6692",
           "#B6E880",
           "#FF97FF",
           "#FECB52"
          ],
          "font": {
           "color": "#2a3f5f"
          },
          "geo": {
           "bgcolor": "white",
           "lakecolor": "white",
           "landcolor": "#E5ECF6",
           "showlakes": true,
           "showland": true,
           "subunitcolor": "white"
          },
          "hoverlabel": {
           "align": "left"
          },
          "hovermode": "closest",
          "mapbox": {
           "style": "light"
          },
          "paper_bgcolor": "white",
          "plot_bgcolor": "#E5ECF6",
          "polar": {
           "angularaxis": {
            "gridcolor": "white",
            "linecolor": "white",
            "ticks": ""
           },
           "bgcolor": "#E5ECF6",
           "radialaxis": {
            "gridcolor": "white",
            "linecolor": "white",
            "ticks": ""
           }
          },
          "scene": {
           "xaxis": {
            "backgroundcolor": "#E5ECF6",
            "gridcolor": "white",
            "gridwidth": 2,
            "linecolor": "white",
            "showbackground": true,
            "ticks": "",
            "zerolinecolor": "white"
           },
           "yaxis": {
            "backgroundcolor": "#E5ECF6",
            "gridcolor": "white",
            "gridwidth": 2,
            "linecolor": "white",
            "showbackground": true,
            "ticks": "",
            "zerolinecolor": "white"
           },
           "zaxis": {
            "backgroundcolor": "#E5ECF6",
            "gridcolor": "white",
            "gridwidth": 2,
            "linecolor": "white",
            "showbackground": true,
            "ticks": "",
            "zerolinecolor": "white"
           }
          },
          "shapedefaults": {
           "line": {
            "color": "#2a3f5f"
           }
          },
          "ternary": {
           "aaxis": {
            "gridcolor": "white",
            "linecolor": "white",
            "ticks": ""
           },
           "baxis": {
            "gridcolor": "white",
            "linecolor": "white",
            "ticks": ""
           },
           "bgcolor": "#E5ECF6",
           "caxis": {
            "gridcolor": "white",
            "linecolor": "white",
            "ticks": ""
           }
          },
          "title": {
           "x": 0.05
          },
          "xaxis": {
           "automargin": true,
           "gridcolor": "white",
           "linecolor": "white",
           "ticks": "",
           "title": {
            "standoff": 15
           },
           "zerolinecolor": "white",
           "zerolinewidth": 2
          },
          "yaxis": {
           "automargin": true,
           "gridcolor": "white",
           "linecolor": "white",
           "ticks": "",
           "title": {
            "standoff": 15
           },
           "zerolinecolor": "white",
           "zerolinewidth": 2
          }
         }
        },
        "violinmode": "group",
        "xaxis": {
         "anchor": "y",
         "domain": [
          0,
          1
         ],
         "title": {
          "text": "diagnosis"
         }
        },
        "yaxis": {
         "anchor": "x",
         "domain": [
          0,
          1
         ],
         "title": {
          "text": "area_mean"
         }
        }
       }
      }
     },
     "metadata": {},
     "output_type": "display_data"
    }
   ],
   "source": [
    "# Violin plot of area_mean by diagnosis\n",
    "px.violin(df_cleaned, y = \"area_mean\", x = \"diagnosis\", box = True, points = \"all\")"
   ]
  },
  {
   "cell_type": "code",
   "execution_count": 12,
   "id": "1dcbfcae",
   "metadata": {
    "colab": {
     "base_uri": "https://localhost:8080/",
     "height": 542
    },
    "executionInfo": {
     "elapsed": 739,
     "status": "ok",
     "timestamp": 1753512984198,
     "user": {
      "displayName": "Muhammd Yousif Memon",
      "userId": "09601574842182296753"
     },
     "user_tz": -300
    },
    "id": "1dcbfcae",
    "outputId": "0bc75ef0-1f6e-484c-c82b-05ecb4a8bad4"
   },
   "outputs": [
    {
     "data": {
      "application/vnd.plotly.v1+json": {
       "config": {
        "plotlyServerURL": "https://plot.ly"
       },
       "data": [
        {
         "hovertemplate": "radius_mean=%{x}<br>perimeter_mean=%{y}<br>diagnosis=%{marker.color}<extra></extra>",
         "legendgroup": "",
         "marker": {
          "color": {
           "bdata": "AQEBAQEBAQEBAQEBAQEBAQEBAQAAAAEBAQEBAQEBAQEBAQEBAQABAQEBAQEBAQABAAAAAAABAQABAQAAAAABAAEBAAAAAAEAAQEAAQABAQAAAAEBAAEBAQAAAAEAAAEBAAAAAQEAAAAAAQAAAQAAAAAAAAAAAQEBAAEBAAAAAQEAAQABAQABAQAAAQAAAQAAAAABAAAAAAAAAAAAAQAAAAABAQABAAABAQAAAQEAAAAAAQAAAQEBAAEAAQAAAAEAAAEBAAEBAQEAAQEBAAEAAQAAAQABAQEBAAABAQAAAAEAAAAAAAEBAAABAAABAQABAAAAAAEAAAAAAAEAAQEBAQEBAQEBAQEBAQEAAAAAAAABAAEAAAEAAAEAAQEAAAAAAAAAAAAAAAAAAQAAAQABAAAAAAAAAAAAAAAAAAABAAAAAQABAAAAAAEBAQAAAAABAAEAAQAAAAEAAAAAAAAAAQEBAAAAAAAAAAAAAAABAQABAQEAAQEAAAAAAAEAAAAAAAEAAAABAAABAQAAAAAAAAEAAAAAAAAAAQAAAAAAAQAAAQAAAAAAAAAAAAAAAAEAAQEAAQAAAAAAAQAAAQABAAABAAEAAAAAAAAAAAEBAAAAAAAAAQAAAAAAAAAAAAABAAAAAAAAAAEAAQAAAQAAAAAAAQEAAQABAAAAAAABAAABAAEAAQEAAAABAAAAAAAAAAAAAAABAAEBAAAAAAAAAAAAAAAAAAAAAAAAAAAAAAAAAAEBAQEBAQA=",
           "dtype": "i1"
          },
          "coloraxis": "coloraxis",
          "symbol": "circle"
         },
         "mode": "markers",
         "name": "",
         "orientation": "v",
         "showlegend": false,
         "type": "scatter",
         "x": {
          "bdata": "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",
          "dtype": "f8"
         },
         "xaxis": "x",
         "y": {
          "bdata": "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",
          "dtype": "f8"
         },
         "yaxis": "y"
        }
       ],
       "layout": {
        "coloraxis": {
         "colorbar": {
          "title": {
           "text": "diagnosis"
          }
         },
         "colorscale": [
          [
           0,
           "#0d0887"
          ],
          [
           0.1111111111111111,
           "#46039f"
          ],
          [
           0.2222222222222222,
           "#7201a8"
          ],
          [
           0.3333333333333333,
           "#9c179e"
          ],
          [
           0.4444444444444444,
           "#bd3786"
          ],
          [
           0.5555555555555556,
           "#d8576b"
          ],
          [
           0.6666666666666666,
           "#ed7953"
          ],
          [
           0.7777777777777778,
           "#fb9f3a"
          ],
          [
           0.8888888888888888,
           "#fdca26"
          ],
          [
           1,
           "#f0f921"
          ]
         ]
        },
        "legend": {
         "tracegroupgap": 0
        },
        "margin": {
         "t": 60
        },
        "template": {
         "data": {
          "bar": [
           {
            "error_x": {
             "color": "#2a3f5f"
            },
            "error_y": {
             "color": "#2a3f5f"
            },
            "marker": {
             "line": {
              "color": "#E5ECF6",
              "width": 0.5
             },
             "pattern": {
              "fillmode": "overlay",
              "size": 10,
              "solidity": 0.2
             }
            },
            "type": "bar"
           }
          ],
          "barpolar": [
           {
            "marker": {
             "line": {
              "color": "#E5ECF6",
              "width": 0.5
             },
             "pattern": {
              "fillmode": "overlay",
              "size": 10,
              "solidity": 0.2
             }
            },
            "type": "barpolar"
           }
          ],
          "carpet": [
           {
            "aaxis": {
             "endlinecolor": "#2a3f5f",
             "gridcolor": "white",
             "linecolor": "white",
             "minorgridcolor": "white",
             "startlinecolor": "#2a3f5f"
            },
            "baxis": {
             "endlinecolor": "#2a3f5f",
             "gridcolor": "white",
             "linecolor": "white",
             "minorgridcolor": "white",
             "startlinecolor": "#2a3f5f"
            },
            "type": "carpet"
           }
          ],
          "choropleth": [
           {
            "colorbar": {
             "outlinewidth": 0,
             "ticks": ""
            },
            "type": "choropleth"
           }
          ],
          "contour": [
           {
            "colorbar": {
             "outlinewidth": 0,
             "ticks": ""
            },
            "colorscale": [
             [
              0,
              "#0d0887"
             ],
             [
              0.1111111111111111,
              "#46039f"
             ],
             [
              0.2222222222222222,
              "#7201a8"
             ],
             [
              0.3333333333333333,
              "#9c179e"
             ],
             [
              0.4444444444444444,
              "#bd3786"
             ],
             [
              0.5555555555555556,
              "#d8576b"
             ],
             [
              0.6666666666666666,
              "#ed7953"
             ],
             [
              0.7777777777777778,
              "#fb9f3a"
             ],
             [
              0.8888888888888888,
              "#fdca26"
             ],
             [
              1,
              "#f0f921"
             ]
            ],
            "type": "contour"
           }
          ],
          "contourcarpet": [
           {
            "colorbar": {
             "outlinewidth": 0,
             "ticks": ""
            },
            "type": "contourcarpet"
           }
          ],
          "heatmap": [
           {
            "colorbar": {
             "outlinewidth": 0,
             "ticks": ""
            },
            "colorscale": [
             [
              0,
              "#0d0887"
             ],
             [
              0.1111111111111111,
              "#46039f"
             ],
             [
              0.2222222222222222,
              "#7201a8"
             ],
             [
              0.3333333333333333,
              "#9c179e"
             ],
             [
              0.4444444444444444,
              "#bd3786"
             ],
             [
              0.5555555555555556,
              "#d8576b"
             ],
             [
              0.6666666666666666,
              "#ed7953"
             ],
             [
              0.7777777777777778,
              "#fb9f3a"
             ],
             [
              0.8888888888888888,
              "#fdca26"
             ],
             [
              1,
              "#f0f921"
             ]
            ],
            "type": "heatmap"
           }
          ],
          "histogram": [
           {
            "marker": {
             "pattern": {
              "fillmode": "overlay",
              "size": 10,
              "solidity": 0.2
             }
            },
            "type": "histogram"
           }
          ],
          "histogram2d": [
           {
            "colorbar": {
             "outlinewidth": 0,
             "ticks": ""
            },
            "colorscale": [
             [
              0,
              "#0d0887"
             ],
             [
              0.1111111111111111,
              "#46039f"
             ],
             [
              0.2222222222222222,
              "#7201a8"
             ],
             [
              0.3333333333333333,
              "#9c179e"
             ],
             [
              0.4444444444444444,
              "#bd3786"
             ],
             [
              0.5555555555555556,
              "#d8576b"
             ],
             [
              0.6666666666666666,
              "#ed7953"
             ],
             [
              0.7777777777777778,
              "#fb9f3a"
             ],
             [
              0.8888888888888888,
              "#fdca26"
             ],
             [
              1,
              "#f0f921"
             ]
            ],
            "type": "histogram2d"
           }
          ],
          "histogram2dcontour": [
           {
            "colorbar": {
             "outlinewidth": 0,
             "ticks": ""
            },
            "colorscale": [
             [
              0,
              "#0d0887"
             ],
             [
              0.1111111111111111,
              "#46039f"
             ],
             [
              0.2222222222222222,
              "#7201a8"
             ],
             [
              0.3333333333333333,
              "#9c179e"
             ],
             [
              0.4444444444444444,
              "#bd3786"
             ],
             [
              0.5555555555555556,
              "#d8576b"
             ],
             [
              0.6666666666666666,
              "#ed7953"
             ],
             [
              0.7777777777777778,
              "#fb9f3a"
             ],
             [
              0.8888888888888888,
              "#fdca26"
             ],
             [
              1,
              "#f0f921"
             ]
            ],
            "type": "histogram2dcontour"
           }
          ],
          "mesh3d": [
           {
            "colorbar": {
             "outlinewidth": 0,
             "ticks": ""
            },
            "type": "mesh3d"
           }
          ],
          "parcoords": [
           {
            "line": {
             "colorbar": {
              "outlinewidth": 0,
              "ticks": ""
             }
            },
            "type": "parcoords"
           }
          ],
          "pie": [
           {
            "automargin": true,
            "type": "pie"
           }
          ],
          "scatter": [
           {
            "fillpattern": {
             "fillmode": "overlay",
             "size": 10,
             "solidity": 0.2
            },
            "type": "scatter"
           }
          ],
          "scatter3d": [
           {
            "line": {
             "colorbar": {
              "outlinewidth": 0,
              "ticks": ""
             }
            },
            "marker": {
             "colorbar": {
              "outlinewidth": 0,
              "ticks": ""
             }
            },
            "type": "scatter3d"
           }
          ],
          "scattercarpet": [
           {
            "marker": {
             "colorbar": {
              "outlinewidth": 0,
              "ticks": ""
             }
            },
            "type": "scattercarpet"
           }
          ],
          "scattergeo": [
           {
            "marker": {
             "colorbar": {
              "outlinewidth": 0,
              "ticks": ""
             }
            },
            "type": "scattergeo"
           }
          ],
          "scattergl": [
           {
            "marker": {
             "colorbar": {
              "outlinewidth": 0,
              "ticks": ""
             }
            },
            "type": "scattergl"
           }
          ],
          "scattermap": [
           {
            "marker": {
             "colorbar": {
              "outlinewidth": 0,
              "ticks": ""
             }
            },
            "type": "scattermap"
           }
          ],
          "scattermapbox": [
           {
            "marker": {
             "colorbar": {
              "outlinewidth": 0,
              "ticks": ""
             }
            },
            "type": "scattermapbox"
           }
          ],
          "scatterpolar": [
           {
            "marker": {
             "colorbar": {
              "outlinewidth": 0,
              "ticks": ""
             }
            },
            "type": "scatterpolar"
           }
          ],
          "scatterpolargl": [
           {
            "marker": {
             "colorbar": {
              "outlinewidth": 0,
              "ticks": ""
             }
            },
            "type": "scatterpolargl"
           }
          ],
          "scatterternary": [
           {
            "marker": {
             "colorbar": {
              "outlinewidth": 0,
              "ticks": ""
             }
            },
            "type": "scatterternary"
           }
          ],
          "surface": [
           {
            "colorbar": {
             "outlinewidth": 0,
             "ticks": ""
            },
            "colorscale": [
             [
              0,
              "#0d0887"
             ],
             [
              0.1111111111111111,
              "#46039f"
             ],
             [
              0.2222222222222222,
              "#7201a8"
             ],
             [
              0.3333333333333333,
              "#9c179e"
             ],
             [
              0.4444444444444444,
              "#bd3786"
             ],
             [
              0.5555555555555556,
              "#d8576b"
             ],
             [
              0.6666666666666666,
              "#ed7953"
             ],
             [
              0.7777777777777778,
              "#fb9f3a"
             ],
             [
              0.8888888888888888,
              "#fdca26"
             ],
             [
              1,
              "#f0f921"
             ]
            ],
            "type": "surface"
           }
          ],
          "table": [
           {
            "cells": {
             "fill": {
              "color": "#EBF0F8"
             },
             "line": {
              "color": "white"
             }
            },
            "header": {
             "fill": {
              "color": "#C8D4E3"
             },
             "line": {
              "color": "white"
             }
            },
            "type": "table"
           }
          ]
         },
         "layout": {
          "annotationdefaults": {
           "arrowcolor": "#2a3f5f",
           "arrowhead": 0,
           "arrowwidth": 1
          },
          "autotypenumbers": "strict",
          "coloraxis": {
           "colorbar": {
            "outlinewidth": 0,
            "ticks": ""
           }
          },
          "colorscale": {
           "diverging": [
            [
             0,
             "#8e0152"
            ],
            [
             0.1,
             "#c51b7d"
            ],
            [
             0.2,
             "#de77ae"
            ],
            [
             0.3,
             "#f1b6da"
            ],
            [
             0.4,
             "#fde0ef"
            ],
            [
             0.5,
             "#f7f7f7"
            ],
            [
             0.6,
             "#e6f5d0"
            ],
            [
             0.7,
             "#b8e186"
            ],
            [
             0.8,
             "#7fbc41"
            ],
            [
             0.9,
             "#4d9221"
            ],
            [
             1,
             "#276419"
            ]
           ],
           "sequential": [
            [
             0,
             "#0d0887"
            ],
            [
             0.1111111111111111,
             "#46039f"
            ],
            [
             0.2222222222222222,
             "#7201a8"
            ],
            [
             0.3333333333333333,
             "#9c179e"
            ],
            [
             0.4444444444444444,
             "#bd3786"
            ],
            [
             0.5555555555555556,
             "#d8576b"
            ],
            [
             0.6666666666666666,
             "#ed7953"
            ],
            [
             0.7777777777777778,
             "#fb9f3a"
            ],
            [
             0.8888888888888888,
             "#fdca26"
            ],
            [
             1,
             "#f0f921"
            ]
           ],
           "sequentialminus": [
            [
             0,
             "#0d0887"
            ],
            [
             0.1111111111111111,
             "#46039f"
            ],
            [
             0.2222222222222222,
             "#7201a8"
            ],
            [
             0.3333333333333333,
             "#9c179e"
            ],
            [
             0.4444444444444444,
             "#bd3786"
            ],
            [
             0.5555555555555556,
             "#d8576b"
            ],
            [
             0.6666666666666666,
             "#ed7953"
            ],
            [
             0.7777777777777778,
             "#fb9f3a"
            ],
            [
             0.8888888888888888,
             "#fdca26"
            ],
            [
             1,
             "#f0f921"
            ]
           ]
          },
          "colorway": [
           "#636efa",
           "#EF553B",
           "#00cc96",
           "#ab63fa",
           "#FFA15A",
           "#19d3f3",
           "#FF6692",
           "#B6E880",
           "#FF97FF",
           "#FECB52"
          ],
          "font": {
           "color": "#2a3f5f"
          },
          "geo": {
           "bgcolor": "white",
           "lakecolor": "white",
           "landcolor": "#E5ECF6",
           "showlakes": true,
           "showland": true,
           "subunitcolor": "white"
          },
          "hoverlabel": {
           "align": "left"
          },
          "hovermode": "closest",
          "mapbox": {
           "style": "light"
          },
          "paper_bgcolor": "white",
          "plot_bgcolor": "#E5ECF6",
          "polar": {
           "angularaxis": {
            "gridcolor": "white",
            "linecolor": "white",
            "ticks": ""
           },
           "bgcolor": "#E5ECF6",
           "radialaxis": {
            "gridcolor": "white",
            "linecolor": "white",
            "ticks": ""
           }
          },
          "scene": {
           "xaxis": {
            "backgroundcolor": "#E5ECF6",
            "gridcolor": "white",
            "gridwidth": 2,
            "linecolor": "white",
            "showbackground": true,
            "ticks": "",
            "zerolinecolor": "white"
           },
           "yaxis": {
            "backgroundcolor": "#E5ECF6",
            "gridcolor": "white",
            "gridwidth": 2,
            "linecolor": "white",
            "showbackground": true,
            "ticks": "",
            "zerolinecolor": "white"
           },
           "zaxis": {
            "backgroundcolor": "#E5ECF6",
            "gridcolor": "white",
            "gridwidth": 2,
            "linecolor": "white",
            "showbackground": true,
            "ticks": "",
            "zerolinecolor": "white"
           }
          },
          "shapedefaults": {
           "line": {
            "color": "#2a3f5f"
           }
          },
          "ternary": {
           "aaxis": {
            "gridcolor": "white",
            "linecolor": "white",
            "ticks": ""
           },
           "baxis": {
            "gridcolor": "white",
            "linecolor": "white",
            "ticks": ""
           },
           "bgcolor": "#E5ECF6",
           "caxis": {
            "gridcolor": "white",
            "linecolor": "white",
            "ticks": ""
           }
          },
          "title": {
           "x": 0.05
          },
          "xaxis": {
           "automargin": true,
           "gridcolor": "white",
           "linecolor": "white",
           "ticks": "",
           "title": {
            "standoff": 15
           },
           "zerolinecolor": "white",
           "zerolinewidth": 2
          },
          "yaxis": {
           "automargin": true,
           "gridcolor": "white",
           "linecolor": "white",
           "ticks": "",
           "title": {
            "standoff": 15
           },
           "zerolinecolor": "white",
           "zerolinewidth": 2
          }
         }
        },
        "xaxis": {
         "anchor": "y",
         "domain": [
          0,
          1
         ],
         "title": {
          "text": "radius_mean"
         }
        },
        "yaxis": {
         "anchor": "x",
         "domain": [
          0,
          1
         ],
         "title": {
          "text": "perimeter_mean"
         }
        }
       }
      }
     },
     "metadata": {},
     "output_type": "display_data"
    }
   ],
   "source": [
    "# Scatter plot of radius_mean vs perimeter_mean by diagnosis\n",
    "px.scatter(df_cleaned, x=\"radius_mean\", y=\"perimeter_mean\", color=\"diagnosis\")"
   ]
  },
  {
   "cell_type": "code",
   "execution_count": 13,
   "id": "1b27ba22",
   "metadata": {
    "colab": {
     "base_uri": "https://localhost:8080/",
     "height": 542
    },
    "executionInfo": {
     "elapsed": 136,
     "status": "ok",
     "timestamp": 1753512988685,
     "user": {
      "displayName": "Muhammd Yousif Memon",
      "userId": "09601574842182296753"
     },
     "user_tz": -300
    },
    "id": "1b27ba22",
    "outputId": "61f69982-f8e8-4a74-b68f-6bdb1e998f8a"
   },
   "outputs": [
    {
     "data": {
      "application/vnd.plotly.v1+json": {
       "config": {
        "plotlyServerURL": "https://plot.ly"
       },
       "data": [
        {
         "hovertemplate": "index=%{x}<br>radius_mean=%{y}<extra></extra>",
         "legendgroup": "",
         "line": {
          "color": "#636efa",
          "dash": "solid"
         },
         "marker": {
          "symbol": "circle"
         },
         "mode": "lines",
         "name": "",
         "orientation": "v",
         "showlegend": false,
         "type": "scatter",
         "x": {
          "bdata": "ZQAbAhoCOAIuAJcADQI6AT0AOwCvAHIAhwFmAUcAdAAzAUQAPgE/APgBCAIpApwBoAEtAmcBQgAVAOoAVQHWAdMB+QEkAsAAmACMAKgBEQHLAW4AYQAMAs4AZwCwAKkBUgG5ACwCPADeANkAQAFZAYYBIwIrAiIC4gD1AKoBaAAvAXEAKwG7AXgBCgH4AK4ADQGQAKsBpgAlAiYC2gGfACgBlQEpABYCuAGbAX0BjgH7AVYBewGtACcCrAFiAZkAowExAkwB6ABNASABCgJ8AYQBiwAPAfIAQwDnABQBAwJtAJoBIQG3AHgAAwCOAIkAUAAwAVwB3gH7AC8CNwD5ABwCOQGkAWIAMQHPAaYB1QHIAWoAXgETAugBGQI2AbsAiABYAf4BGQGgABICMgApAY8BkgC8ANMAHwAlAcIBEwHYAJ8BkQBzAJEBNAAeAV0BvQFUAMQBRwHXAX4BMACeAFoBEQKKAeABZgA8AWAAggBEAYIBbwH6AcgA6gGbANkBmQFOAb0ASgCqAMEAlAEPAqMAWABrAH8BrwHxAD8B5QEFAO0BLQEJAPEBzAA7AfYBaAFjAR0BxgHkAG8A8AFFAUAAogEmAa0BBwJqATgBKAKHAL8ARQCNAbMA5QDbAZcBTwBCAbQBDAEGAioC9wAfARwBjwDDAJMBJAGSAUsBUAHKAQgAlgCyACUAZAE6ADUBFADQAGkA0gGaAO4BLADQAS8A9gAyAckBHwLRAVwA4AArAIABaQFRAHwAxwEAAmwBqwAoAF0ADgJ5AeIBJwAxADQBjAFMABMA3QAWAQsBZAB+ACEC8AAzANwAegGnARQCdgHjAQsCBwAOAJUA8wDEACcBugFJAMsA9QEXAbYBfQDXAGUBIAKDAd0B4QEQAv8AswG3AesAtQEwAosBRgHWANwB7gC+ACQAPgAqAXAAGAIOAeEAzgEiAWMAVAGUAMcAHQJWAHsAwAHFAQ8AGgABAi4CgQE3AVoAWQDmARAApQE5AB4CWwFBAL8B/wGyAcIAdQDvAa4B2AGKAJMAIwGpAKUAJgCdAeMA9AECAl4AYQGAADYAzQCeAXMBMgLRALgAHAABARYAWwCDAP0BrACIAaEBAwEHAQIBtgCFAOQB3wBfAXYACwANAAoASgFLAI0AEQAiAJYBhAB3ARsB3wFJAUgB/AFyAbEAawE2AhgA6QEjAKcAnQDPACAA5gBPAcwBGQAIAUgAuQEGAf0ABQHVAO8AqADJAB0A1AGcAL4B6wGQARIBdwCYAQAA7AG8AU0AxQA1AD0BBgC6AAQChgBVAPIBGwAeAC0AeQBRARUBsQFGAH8AVwAqAFMAGAEMAMYAoQA4ACEAGgH0AOcB/gDbACwBhQEAAaIAwwFXAQIA/ACBANoAEgAFAi4BNQJBAbABTgBuAV8ABAAEAUMBbQEVAu0A6QAXAgEA0gDzATcCdQEJATMC+gC1AMEBFwB0ATQCiQFwARABcQFsAPcB7ACkAMoAUwF6AAkCUgBgAbQAzQHUAA==",
          "dtype": "i2"
         },
         "xaxis": "x",
         "y": {
          "bdata": "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",
          "dtype": "f8"
         },
         "yaxis": "y"
        }
       ],
       "layout": {
        "legend": {
         "tracegroupgap": 0
        },
        "margin": {
         "t": 60
        },
        "template": {
         "data": {
          "bar": [
           {
            "error_x": {
             "color": "#2a3f5f"
            },
            "error_y": {
             "color": "#2a3f5f"
            },
            "marker": {
             "line": {
              "color": "#E5ECF6",
              "width": 0.5
             },
             "pattern": {
              "fillmode": "overlay",
              "size": 10,
              "solidity": 0.2
             }
            },
            "type": "bar"
           }
          ],
          "barpolar": [
           {
            "marker": {
             "line": {
              "color": "#E5ECF6",
              "width": 0.5
             },
             "pattern": {
              "fillmode": "overlay",
              "size": 10,
              "solidity": 0.2
             }
            },
            "type": "barpolar"
           }
          ],
          "carpet": [
           {
            "aaxis": {
             "endlinecolor": "#2a3f5f",
             "gridcolor": "white",
             "linecolor": "white",
             "minorgridcolor": "white",
             "startlinecolor": "#2a3f5f"
            },
            "baxis": {
             "endlinecolor": "#2a3f5f",
             "gridcolor": "white",
             "linecolor": "white",
             "minorgridcolor": "white",
             "startlinecolor": "#2a3f5f"
            },
            "type": "carpet"
           }
          ],
          "choropleth": [
           {
            "colorbar": {
             "outlinewidth": 0,
             "ticks": ""
            },
            "type": "choropleth"
           }
          ],
          "contour": [
           {
            "colorbar": {
             "outlinewidth": 0,
             "ticks": ""
            },
            "colorscale": [
             [
              0,
              "#0d0887"
             ],
             [
              0.1111111111111111,
              "#46039f"
             ],
             [
              0.2222222222222222,
              "#7201a8"
             ],
             [
              0.3333333333333333,
              "#9c179e"
             ],
             [
              0.4444444444444444,
              "#bd3786"
             ],
             [
              0.5555555555555556,
              "#d8576b"
             ],
             [
              0.6666666666666666,
              "#ed7953"
             ],
             [
              0.7777777777777778,
              "#fb9f3a"
             ],
             [
              0.8888888888888888,
              "#fdca26"
             ],
             [
              1,
              "#f0f921"
             ]
            ],
            "type": "contour"
           }
          ],
          "contourcarpet": [
           {
            "colorbar": {
             "outlinewidth": 0,
             "ticks": ""
            },
            "type": "contourcarpet"
           }
          ],
          "heatmap": [
           {
            "colorbar": {
             "outlinewidth": 0,
             "ticks": ""
            },
            "colorscale": [
             [
              0,
              "#0d0887"
             ],
             [
              0.1111111111111111,
              "#46039f"
             ],
             [
              0.2222222222222222,
              "#7201a8"
             ],
             [
              0.3333333333333333,
              "#9c179e"
             ],
             [
              0.4444444444444444,
              "#bd3786"
             ],
             [
              0.5555555555555556,
              "#d8576b"
             ],
             [
              0.6666666666666666,
              "#ed7953"
             ],
             [
              0.7777777777777778,
              "#fb9f3a"
             ],
             [
              0.8888888888888888,
              "#fdca26"
             ],
             [
              1,
              "#f0f921"
             ]
            ],
            "type": "heatmap"
           }
          ],
          "histogram": [
           {
            "marker": {
             "pattern": {
              "fillmode": "overlay",
              "size": 10,
              "solidity": 0.2
             }
            },
            "type": "histogram"
           }
          ],
          "histogram2d": [
           {
            "colorbar": {
             "outlinewidth": 0,
             "ticks": ""
            },
            "colorscale": [
             [
              0,
              "#0d0887"
             ],
             [
              0.1111111111111111,
              "#46039f"
             ],
             [
              0.2222222222222222,
              "#7201a8"
             ],
             [
              0.3333333333333333,
              "#9c179e"
             ],
             [
              0.4444444444444444,
              "#bd3786"
             ],
             [
              0.5555555555555556,
              "#d8576b"
             ],
             [
              0.6666666666666666,
              "#ed7953"
             ],
             [
              0.7777777777777778,
              "#fb9f3a"
             ],
             [
              0.8888888888888888,
              "#fdca26"
             ],
             [
              1,
              "#f0f921"
             ]
            ],
            "type": "histogram2d"
           }
          ],
          "histogram2dcontour": [
           {
            "colorbar": {
             "outlinewidth": 0,
             "ticks": ""
            },
            "colorscale": [
             [
              0,
              "#0d0887"
             ],
             [
              0.1111111111111111,
              "#46039f"
             ],
             [
              0.2222222222222222,
              "#7201a8"
             ],
             [
              0.3333333333333333,
              "#9c179e"
             ],
             [
              0.4444444444444444,
              "#bd3786"
             ],
             [
              0.5555555555555556,
              "#d8576b"
             ],
             [
              0.6666666666666666,
              "#ed7953"
             ],
             [
              0.7777777777777778,
              "#fb9f3a"
             ],
             [
              0.8888888888888888,
              "#fdca26"
             ],
             [
              1,
              "#f0f921"
             ]
            ],
            "type": "histogram2dcontour"
           }
          ],
          "mesh3d": [
           {
            "colorbar": {
             "outlinewidth": 0,
             "ticks": ""
            },
            "type": "mesh3d"
           }
          ],
          "parcoords": [
           {
            "line": {
             "colorbar": {
              "outlinewidth": 0,
              "ticks": ""
             }
            },
            "type": "parcoords"
           }
          ],
          "pie": [
           {
            "automargin": true,
            "type": "pie"
           }
          ],
          "scatter": [
           {
            "fillpattern": {
             "fillmode": "overlay",
             "size": 10,
             "solidity": 0.2
            },
            "type": "scatter"
           }
          ],
          "scatter3d": [
           {
            "line": {
             "colorbar": {
              "outlinewidth": 0,
              "ticks": ""
             }
            },
            "marker": {
             "colorbar": {
              "outlinewidth": 0,
              "ticks": ""
             }
            },
            "type": "scatter3d"
           }
          ],
          "scattercarpet": [
           {
            "marker": {
             "colorbar": {
              "outlinewidth": 0,
              "ticks": ""
             }
            },
            "type": "scattercarpet"
           }
          ],
          "scattergeo": [
           {
            "marker": {
             "colorbar": {
              "outlinewidth": 0,
              "ticks": ""
             }
            },
            "type": "scattergeo"
           }
          ],
          "scattergl": [
           {
            "marker": {
             "colorbar": {
              "outlinewidth": 0,
              "ticks": ""
             }
            },
            "type": "scattergl"
           }
          ],
          "scattermap": [
           {
            "marker": {
             "colorbar": {
              "outlinewidth": 0,
              "ticks": ""
             }
            },
            "type": "scattermap"
           }
          ],
          "scattermapbox": [
           {
            "marker": {
             "colorbar": {
              "outlinewidth": 0,
              "ticks": ""
             }
            },
            "type": "scattermapbox"
           }
          ],
          "scatterpolar": [
           {
            "marker": {
             "colorbar": {
              "outlinewidth": 0,
              "ticks": ""
             }
            },
            "type": "scatterpolar"
           }
          ],
          "scatterpolargl": [
           {
            "marker": {
             "colorbar": {
              "outlinewidth": 0,
              "ticks": ""
             }
            },
            "type": "scatterpolargl"
           }
          ],
          "scatterternary": [
           {
            "marker": {
             "colorbar": {
              "outlinewidth": 0,
              "ticks": ""
             }
            },
            "type": "scatterternary"
           }
          ],
          "surface": [
           {
            "colorbar": {
             "outlinewidth": 0,
             "ticks": ""
            },
            "colorscale": [
             [
              0,
              "#0d0887"
             ],
             [
              0.1111111111111111,
              "#46039f"
             ],
             [
              0.2222222222222222,
              "#7201a8"
             ],
             [
              0.3333333333333333,
              "#9c179e"
             ],
             [
              0.4444444444444444,
              "#bd3786"
             ],
             [
              0.5555555555555556,
              "#d8576b"
             ],
             [
              0.6666666666666666,
              "#ed7953"
             ],
             [
              0.7777777777777778,
              "#fb9f3a"
             ],
             [
              0.8888888888888888,
              "#fdca26"
             ],
             [
              1,
              "#f0f921"
             ]
            ],
            "type": "surface"
           }
          ],
          "table": [
           {
            "cells": {
             "fill": {
              "color": "#EBF0F8"
             },
             "line": {
              "color": "white"
             }
            },
            "header": {
             "fill": {
              "color": "#C8D4E3"
             },
             "line": {
              "color": "white"
             }
            },
            "type": "table"
           }
          ]
         },
         "layout": {
          "annotationdefaults": {
           "arrowcolor": "#2a3f5f",
           "arrowhead": 0,
           "arrowwidth": 1
          },
          "autotypenumbers": "strict",
          "coloraxis": {
           "colorbar": {
            "outlinewidth": 0,
            "ticks": ""
           }
          },
          "colorscale": {
           "diverging": [
            [
             0,
             "#8e0152"
            ],
            [
             0.1,
             "#c51b7d"
            ],
            [
             0.2,
             "#de77ae"
            ],
            [
             0.3,
             "#f1b6da"
            ],
            [
             0.4,
             "#fde0ef"
            ],
            [
             0.5,
             "#f7f7f7"
            ],
            [
             0.6,
             "#e6f5d0"
            ],
            [
             0.7,
             "#b8e186"
            ],
            [
             0.8,
             "#7fbc41"
            ],
            [
             0.9,
             "#4d9221"
            ],
            [
             1,
             "#276419"
            ]
           ],
           "sequential": [
            [
             0,
             "#0d0887"
            ],
            [
             0.1111111111111111,
             "#46039f"
            ],
            [
             0.2222222222222222,
             "#7201a8"
            ],
            [
             0.3333333333333333,
             "#9c179e"
            ],
            [
             0.4444444444444444,
             "#bd3786"
            ],
            [
             0.5555555555555556,
             "#d8576b"
            ],
            [
             0.6666666666666666,
             "#ed7953"
            ],
            [
             0.7777777777777778,
             "#fb9f3a"
            ],
            [
             0.8888888888888888,
             "#fdca26"
            ],
            [
             1,
             "#f0f921"
            ]
           ],
           "sequentialminus": [
            [
             0,
             "#0d0887"
            ],
            [
             0.1111111111111111,
             "#46039f"
            ],
            [
             0.2222222222222222,
             "#7201a8"
            ],
            [
             0.3333333333333333,
             "#9c179e"
            ],
            [
             0.4444444444444444,
             "#bd3786"
            ],
            [
             0.5555555555555556,
             "#d8576b"
            ],
            [
             0.6666666666666666,
             "#ed7953"
            ],
            [
             0.7777777777777778,
             "#fb9f3a"
            ],
            [
             0.8888888888888888,
             "#fdca26"
            ],
            [
             1,
             "#f0f921"
            ]
           ]
          },
          "colorway": [
           "#636efa",
           "#EF553B",
           "#00cc96",
           "#ab63fa",
           "#FFA15A",
           "#19d3f3",
           "#FF6692",
           "#B6E880",
           "#FF97FF",
           "#FECB52"
          ],
          "font": {
           "color": "#2a3f5f"
          },
          "geo": {
           "bgcolor": "white",
           "lakecolor": "white",
           "landcolor": "#E5ECF6",
           "showlakes": true,
           "showland": true,
           "subunitcolor": "white"
          },
          "hoverlabel": {
           "align": "left"
          },
          "hovermode": "closest",
          "mapbox": {
           "style": "light"
          },
          "paper_bgcolor": "white",
          "plot_bgcolor": "#E5ECF6",
          "polar": {
           "angularaxis": {
            "gridcolor": "white",
            "linecolor": "white",
            "ticks": ""
           },
           "bgcolor": "#E5ECF6",
           "radialaxis": {
            "gridcolor": "white",
            "linecolor": "white",
            "ticks": ""
           }
          },
          "scene": {
           "xaxis": {
            "backgroundcolor": "#E5ECF6",
            "gridcolor": "white",
            "gridwidth": 2,
            "linecolor": "white",
            "showbackground": true,
            "ticks": "",
            "zerolinecolor": "white"
           },
           "yaxis": {
            "backgroundcolor": "#E5ECF6",
            "gridcolor": "white",
            "gridwidth": 2,
            "linecolor": "white",
            "showbackground": true,
            "ticks": "",
            "zerolinecolor": "white"
           },
           "zaxis": {
            "backgroundcolor": "#E5ECF6",
            "gridcolor": "white",
            "gridwidth": 2,
            "linecolor": "white",
            "showbackground": true,
            "ticks": "",
            "zerolinecolor": "white"
           }
          },
          "shapedefaults": {
           "line": {
            "color": "#2a3f5f"
           }
          },
          "ternary": {
           "aaxis": {
            "gridcolor": "white",
            "linecolor": "white",
            "ticks": ""
           },
           "baxis": {
            "gridcolor": "white",
            "linecolor": "white",
            "ticks": ""
           },
           "bgcolor": "#E5ECF6",
           "caxis": {
            "gridcolor": "white",
            "linecolor": "white",
            "ticks": ""
           }
          },
          "title": {
           "x": 0.05
          },
          "xaxis": {
           "automargin": true,
           "gridcolor": "white",
           "linecolor": "white",
           "ticks": "",
           "title": {
            "standoff": 15
           },
           "zerolinecolor": "white",
           "zerolinewidth": 2
          },
          "yaxis": {
           "automargin": true,
           "gridcolor": "white",
           "linecolor": "white",
           "ticks": "",
           "title": {
            "standoff": 15
           },
           "zerolinecolor": "white",
           "zerolinewidth": 2
          }
         }
        },
        "xaxis": {
         "anchor": "y",
         "domain": [
          0,
          1
         ],
         "title": {
          "text": "index"
         }
        },
        "yaxis": {
         "anchor": "x",
         "domain": [
          0,
          1
         ],
         "title": {
          "text": "radius_mean"
         }
        }
       }
      }
     },
     "metadata": {},
     "output_type": "display_data"
    }
   ],
   "source": [
    "# Line plot of smoothness_mean by diagnosis\n",
    "px.line(df_cleaned.sort_values('radius_mean'), y=\"radius_mean\")\n"
   ]
  },
  {
   "cell_type": "code",
   "execution_count": 14,
   "id": "98fd9055",
   "metadata": {
    "colab": {
     "base_uri": "https://localhost:8080/",
     "height": 542
    },
    "executionInfo": {
     "elapsed": 394,
     "status": "ok",
     "timestamp": 1753512990944,
     "user": {
      "displayName": "Muhammd Yousif Memon",
      "userId": "09601574842182296753"
     },
     "user_tz": -300
    },
    "id": "98fd9055",
    "outputId": "abc59ab3-3337-4a55-d35a-5684a0813c7c"
   },
   "outputs": [
    {
     "data": {
      "application/vnd.plotly.v1+json": {
       "config": {
        "plotlyServerURL": "https://plot.ly"
       },
       "data": [
        {
         "dimensions": [
          {
           "axis": {
            "matches": true
           },
           "label": "radius_mean",
           "values": {
            "bdata": "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",
            "dtype": "f8"
           }
          },
          {
           "axis": {
            "matches": true
           },
           "label": "texture_mean",
           "values": {
            "bdata": "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",
            "dtype": "f8"
           }
          },
          {
           "axis": {
            "matches": true
           },
           "label": "area_mean",
           "values": {
            "bdata": "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",
            "dtype": "f8"
           }
          },
          {
           "axis": {
            "matches": true
           },
           "label": "smoothness_mean",
           "values": {
            "bdata": "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",
            "dtype": "f8"
           }
          }
         ],
         "hovertemplate": "%{xaxis.title.text}=%{x}<br>%{yaxis.title.text}=%{y}<br>diagnosis=%{marker.color}<extra></extra>",
         "legendgroup": "",
         "marker": {
          "color": {
           "bdata": "AQEBAQEBAQEBAQEBAQEBAQEBAQAAAAEBAQEBAQEBAQEBAQEBAQABAQEBAQEBAQABAAAAAAABAQABAQAAAAABAAEBAAAAAAEAAQEAAQABAQAAAAEBAAEBAQAAAAEAAAEBAAAAAQEAAAAAAQAAAQAAAAAAAAAAAQEBAAEBAAAAAQEAAQABAQABAQAAAQAAAQAAAAABAAAAAAAAAAAAAQAAAAABAQABAAABAQAAAQEAAAAAAQAAAQEBAAEAAQAAAAEAAAEBAAEBAQEAAQEBAAEAAQAAAQABAQEBAAABAQAAAAEAAAAAAAEBAAABAAABAQABAAAAAAEAAAAAAAEAAQEBAQEBAQEBAQEBAQEAAAAAAAABAAEAAAEAAAEAAQEAAAAAAAAAAAAAAAAAAQAAAQABAAAAAAAAAAAAAAAAAAABAAAAAQABAAAAAAEBAQAAAAABAAEAAQAAAAEAAAAAAAAAAQEBAAAAAAAAAAAAAAABAQABAQEAAQEAAAAAAAEAAAAAAAEAAAABAAABAQAAAAAAAAEAAAAAAAAAAQAAAAAAAQAAAQAAAAAAAAAAAAAAAAEAAQEAAQAAAAAAAQAAAQABAAABAAEAAAAAAAAAAAEBAAAAAAAAAQAAAAAAAAAAAAABAAAAAAAAAAEAAQAAAQAAAAAAAQEAAQABAAAAAAABAAABAAEAAQEAAAABAAAAAAAAAAAAAAABAAEBAAAAAAAAAAAAAAAAAAAAAAAAAAAAAAAAAAEBAQEBAQA=",
           "dtype": "i1"
          },
          "coloraxis": "coloraxis",
          "symbol": "circle"
         },
         "name": "",
         "showlegend": false,
         "type": "splom"
        }
       ],
       "layout": {
        "coloraxis": {
         "colorbar": {
          "title": {
           "text": "diagnosis"
          }
         },
         "colorscale": [
          [
           0,
           "#0d0887"
          ],
          [
           0.1111111111111111,
           "#46039f"
          ],
          [
           0.2222222222222222,
           "#7201a8"
          ],
          [
           0.3333333333333333,
           "#9c179e"
          ],
          [
           0.4444444444444444,
           "#bd3786"
          ],
          [
           0.5555555555555556,
           "#d8576b"
          ],
          [
           0.6666666666666666,
           "#ed7953"
          ],
          [
           0.7777777777777778,
           "#fb9f3a"
          ],
          [
           0.8888888888888888,
           "#fdca26"
          ],
          [
           1,
           "#f0f921"
          ]
         ]
        },
        "dragmode": "select",
        "legend": {
         "tracegroupgap": 0
        },
        "margin": {
         "t": 60
        },
        "template": {
         "data": {
          "bar": [
           {
            "error_x": {
             "color": "#2a3f5f"
            },
            "error_y": {
             "color": "#2a3f5f"
            },
            "marker": {
             "line": {
              "color": "#E5ECF6",
              "width": 0.5
             },
             "pattern": {
              "fillmode": "overlay",
              "size": 10,
              "solidity": 0.2
             }
            },
            "type": "bar"
           }
          ],
          "barpolar": [
           {
            "marker": {
             "line": {
              "color": "#E5ECF6",
              "width": 0.5
             },
             "pattern": {
              "fillmode": "overlay",
              "size": 10,
              "solidity": 0.2
             }
            },
            "type": "barpolar"
           }
          ],
          "carpet": [
           {
            "aaxis": {
             "endlinecolor": "#2a3f5f",
             "gridcolor": "white",
             "linecolor": "white",
             "minorgridcolor": "white",
             "startlinecolor": "#2a3f5f"
            },
            "baxis": {
             "endlinecolor": "#2a3f5f",
             "gridcolor": "white",
             "linecolor": "white",
             "minorgridcolor": "white",
             "startlinecolor": "#2a3f5f"
            },
            "type": "carpet"
           }
          ],
          "choropleth": [
           {
            "colorbar": {
             "outlinewidth": 0,
             "ticks": ""
            },
            "type": "choropleth"
           }
          ],
          "contour": [
           {
            "colorbar": {
             "outlinewidth": 0,
             "ticks": ""
            },
            "colorscale": [
             [
              0,
              "#0d0887"
             ],
             [
              0.1111111111111111,
              "#46039f"
             ],
             [
              0.2222222222222222,
              "#7201a8"
             ],
             [
              0.3333333333333333,
              "#9c179e"
             ],
             [
              0.4444444444444444,
              "#bd3786"
             ],
             [
              0.5555555555555556,
              "#d8576b"
             ],
             [
              0.6666666666666666,
              "#ed7953"
             ],
             [
              0.7777777777777778,
              "#fb9f3a"
             ],
             [
              0.8888888888888888,
              "#fdca26"
             ],
             [
              1,
              "#f0f921"
             ]
            ],
            "type": "contour"
           }
          ],
          "contourcarpet": [
           {
            "colorbar": {
             "outlinewidth": 0,
             "ticks": ""
            },
            "type": "contourcarpet"
           }
          ],
          "heatmap": [
           {
            "colorbar": {
             "outlinewidth": 0,
             "ticks": ""
            },
            "colorscale": [
             [
              0,
              "#0d0887"
             ],
             [
              0.1111111111111111,
              "#46039f"
             ],
             [
              0.2222222222222222,
              "#7201a8"
             ],
             [
              0.3333333333333333,
              "#9c179e"
             ],
             [
              0.4444444444444444,
              "#bd3786"
             ],
             [
              0.5555555555555556,
              "#d8576b"
             ],
             [
              0.6666666666666666,
              "#ed7953"
             ],
             [
              0.7777777777777778,
              "#fb9f3a"
             ],
             [
              0.8888888888888888,
              "#fdca26"
             ],
             [
              1,
              "#f0f921"
             ]
            ],
            "type": "heatmap"
           }
          ],
          "histogram": [
           {
            "marker": {
             "pattern": {
              "fillmode": "overlay",
              "size": 10,
              "solidity": 0.2
             }
            },
            "type": "histogram"
           }
          ],
          "histogram2d": [
           {
            "colorbar": {
             "outlinewidth": 0,
             "ticks": ""
            },
            "colorscale": [
             [
              0,
              "#0d0887"
             ],
             [
              0.1111111111111111,
              "#46039f"
             ],
             [
              0.2222222222222222,
              "#7201a8"
             ],
             [
              0.3333333333333333,
              "#9c179e"
             ],
             [
              0.4444444444444444,
              "#bd3786"
             ],
             [
              0.5555555555555556,
              "#d8576b"
             ],
             [
              0.6666666666666666,
              "#ed7953"
             ],
             [
              0.7777777777777778,
              "#fb9f3a"
             ],
             [
              0.8888888888888888,
              "#fdca26"
             ],
             [
              1,
              "#f0f921"
             ]
            ],
            "type": "histogram2d"
           }
          ],
          "histogram2dcontour": [
           {
            "colorbar": {
             "outlinewidth": 0,
             "ticks": ""
            },
            "colorscale": [
             [
              0,
              "#0d0887"
             ],
             [
              0.1111111111111111,
              "#46039f"
             ],
             [
              0.2222222222222222,
              "#7201a8"
             ],
             [
              0.3333333333333333,
              "#9c179e"
             ],
             [
              0.4444444444444444,
              "#bd3786"
             ],
             [
              0.5555555555555556,
              "#d8576b"
             ],
             [
              0.6666666666666666,
              "#ed7953"
             ],
             [
              0.7777777777777778,
              "#fb9f3a"
             ],
             [
              0.8888888888888888,
              "#fdca26"
             ],
             [
              1,
              "#f0f921"
             ]
            ],
            "type": "histogram2dcontour"
           }
          ],
          "mesh3d": [
           {
            "colorbar": {
             "outlinewidth": 0,
             "ticks": ""
            },
            "type": "mesh3d"
           }
          ],
          "parcoords": [
           {
            "line": {
             "colorbar": {
              "outlinewidth": 0,
              "ticks": ""
             }
            },
            "type": "parcoords"
           }
          ],
          "pie": [
           {
            "automargin": true,
            "type": "pie"
           }
          ],
          "scatter": [
           {
            "fillpattern": {
             "fillmode": "overlay",
             "size": 10,
             "solidity": 0.2
            },
            "type": "scatter"
           }
          ],
          "scatter3d": [
           {
            "line": {
             "colorbar": {
              "outlinewidth": 0,
              "ticks": ""
             }
            },
            "marker": {
             "colorbar": {
              "outlinewidth": 0,
              "ticks": ""
             }
            },
            "type": "scatter3d"
           }
          ],
          "scattercarpet": [
           {
            "marker": {
             "colorbar": {
              "outlinewidth": 0,
              "ticks": ""
             }
            },
            "type": "scattercarpet"
           }
          ],
          "scattergeo": [
           {
            "marker": {
             "colorbar": {
              "outlinewidth": 0,
              "ticks": ""
             }
            },
            "type": "scattergeo"
           }
          ],
          "scattergl": [
           {
            "marker": {
             "colorbar": {
              "outlinewidth": 0,
              "ticks": ""
             }
            },
            "type": "scattergl"
           }
          ],
          "scattermap": [
           {
            "marker": {
             "colorbar": {
              "outlinewidth": 0,
              "ticks": ""
             }
            },
            "type": "scattermap"
           }
          ],
          "scattermapbox": [
           {
            "marker": {
             "colorbar": {
              "outlinewidth": 0,
              "ticks": ""
             }
            },
            "type": "scattermapbox"
           }
          ],
          "scatterpolar": [
           {
            "marker": {
             "colorbar": {
              "outlinewidth": 0,
              "ticks": ""
             }
            },
            "type": "scatterpolar"
           }
          ],
          "scatterpolargl": [
           {
            "marker": {
             "colorbar": {
              "outlinewidth": 0,
              "ticks": ""
             }
            },
            "type": "scatterpolargl"
           }
          ],
          "scatterternary": [
           {
            "marker": {
             "colorbar": {
              "outlinewidth": 0,
              "ticks": ""
             }
            },
            "type": "scatterternary"
           }
          ],
          "surface": [
           {
            "colorbar": {
             "outlinewidth": 0,
             "ticks": ""
            },
            "colorscale": [
             [
              0,
              "#0d0887"
             ],
             [
              0.1111111111111111,
              "#46039f"
             ],
             [
              0.2222222222222222,
              "#7201a8"
             ],
             [
              0.3333333333333333,
              "#9c179e"
             ],
             [
              0.4444444444444444,
              "#bd3786"
             ],
             [
              0.5555555555555556,
              "#d8576b"
             ],
             [
              0.6666666666666666,
              "#ed7953"
             ],
             [
              0.7777777777777778,
              "#fb9f3a"
             ],
             [
              0.8888888888888888,
              "#fdca26"
             ],
             [
              1,
              "#f0f921"
             ]
            ],
            "type": "surface"
           }
          ],
          "table": [
           {
            "cells": {
             "fill": {
              "color": "#EBF0F8"
             },
             "line": {
              "color": "white"
             }
            },
            "header": {
             "fill": {
              "color": "#C8D4E3"
             },
             "line": {
              "color": "white"
             }
            },
            "type": "table"
           }
          ]
         },
         "layout": {
          "annotationdefaults": {
           "arrowcolor": "#2a3f5f",
           "arrowhead": 0,
           "arrowwidth": 1
          },
          "autotypenumbers": "strict",
          "coloraxis": {
           "colorbar": {
            "outlinewidth": 0,
            "ticks": ""
           }
          },
          "colorscale": {
           "diverging": [
            [
             0,
             "#8e0152"
            ],
            [
             0.1,
             "#c51b7d"
            ],
            [
             0.2,
             "#de77ae"
            ],
            [
             0.3,
             "#f1b6da"
            ],
            [
             0.4,
             "#fde0ef"
            ],
            [
             0.5,
             "#f7f7f7"
            ],
            [
             0.6,
             "#e6f5d0"
            ],
            [
             0.7,
             "#b8e186"
            ],
            [
             0.8,
             "#7fbc41"
            ],
            [
             0.9,
             "#4d9221"
            ],
            [
             1,
             "#276419"
            ]
           ],
           "sequential": [
            [
             0,
             "#0d0887"
            ],
            [
             0.1111111111111111,
             "#46039f"
            ],
            [
             0.2222222222222222,
             "#7201a8"
            ],
            [
             0.3333333333333333,
             "#9c179e"
            ],
            [
             0.4444444444444444,
             "#bd3786"
            ],
            [
             0.5555555555555556,
             "#d8576b"
            ],
            [
             0.6666666666666666,
             "#ed7953"
            ],
            [
             0.7777777777777778,
             "#fb9f3a"
            ],
            [
             0.8888888888888888,
             "#fdca26"
            ],
            [
             1,
             "#f0f921"
            ]
           ],
           "sequentialminus": [
            [
             0,
             "#0d0887"
            ],
            [
             0.1111111111111111,
             "#46039f"
            ],
            [
             0.2222222222222222,
             "#7201a8"
            ],
            [
             0.3333333333333333,
             "#9c179e"
            ],
            [
             0.4444444444444444,
             "#bd3786"
            ],
            [
             0.5555555555555556,
             "#d8576b"
            ],
            [
             0.6666666666666666,
             "#ed7953"
            ],
            [
             0.7777777777777778,
             "#fb9f3a"
            ],
            [
             0.8888888888888888,
             "#fdca26"
            ],
            [
             1,
             "#f0f921"
            ]
           ]
          },
          "colorway": [
           "#636efa",
           "#EF553B",
           "#00cc96",
           "#ab63fa",
           "#FFA15A",
           "#19d3f3",
           "#FF6692",
           "#B6E880",
           "#FF97FF",
           "#FECB52"
          ],
          "font": {
           "color": "#2a3f5f"
          },
          "geo": {
           "bgcolor": "white",
           "lakecolor": "white",
           "landcolor": "#E5ECF6",
           "showlakes": true,
           "showland": true,
           "subunitcolor": "white"
          },
          "hoverlabel": {
           "align": "left"
          },
          "hovermode": "closest",
          "mapbox": {
           "style": "light"
          },
          "paper_bgcolor": "white",
          "plot_bgcolor": "#E5ECF6",
          "polar": {
           "angularaxis": {
            "gridcolor": "white",
            "linecolor": "white",
            "ticks": ""
           },
           "bgcolor": "#E5ECF6",
           "radialaxis": {
            "gridcolor": "white",
            "linecolor": "white",
            "ticks": ""
           }
          },
          "scene": {
           "xaxis": {
            "backgroundcolor": "#E5ECF6",
            "gridcolor": "white",
            "gridwidth": 2,
            "linecolor": "white",
            "showbackground": true,
            "ticks": "",
            "zerolinecolor": "white"
           },
           "yaxis": {
            "backgroundcolor": "#E5ECF6",
            "gridcolor": "white",
            "gridwidth": 2,
            "linecolor": "white",
            "showbackground": true,
            "ticks": "",
            "zerolinecolor": "white"
           },
           "zaxis": {
            "backgroundcolor": "#E5ECF6",
            "gridcolor": "white",
            "gridwidth": 2,
            "linecolor": "white",
            "showbackground": true,
            "ticks": "",
            "zerolinecolor": "white"
           }
          },
          "shapedefaults": {
           "line": {
            "color": "#2a3f5f"
           }
          },
          "ternary": {
           "aaxis": {
            "gridcolor": "white",
            "linecolor": "white",
            "ticks": ""
           },
           "baxis": {
            "gridcolor": "white",
            "linecolor": "white",
            "ticks": ""
           },
           "bgcolor": "#E5ECF6",
           "caxis": {
            "gridcolor": "white",
            "linecolor": "white",
            "ticks": ""
           }
          },
          "title": {
           "x": 0.05
          },
          "xaxis": {
           "automargin": true,
           "gridcolor": "white",
           "linecolor": "white",
           "ticks": "",
           "title": {
            "standoff": 15
           },
           "zerolinecolor": "white",
           "zerolinewidth": 2
          },
          "yaxis": {
           "automargin": true,
           "gridcolor": "white",
           "linecolor": "white",
           "ticks": "",
           "title": {
            "standoff": 15
           },
           "zerolinecolor": "white",
           "zerolinewidth": 2
          }
         }
        }
       }
      }
     },
     "metadata": {},
     "output_type": "display_data"
    }
   ],
   "source": [
    "# Scatter Matrix\n",
    "px.scatter_matrix(df_cleaned,\n",
    "                  dimensions=[\"radius_mean\", \"texture_mean\", \"area_mean\", \"smoothness_mean\"],\n",
    "                  color=\"diagnosis\")\n"
   ]
  },
  {
   "cell_type": "code",
   "execution_count": 15,
   "id": "b483e84a",
   "metadata": {
    "colab": {
     "base_uri": "https://localhost:8080/",
     "height": 542
    },
    "executionInfo": {
     "elapsed": 413,
     "status": "ok",
     "timestamp": 1753512993042,
     "user": {
      "displayName": "Muhammd Yousif Memon",
      "userId": "09601574842182296753"
     },
     "user_tz": -300
    },
    "id": "b483e84a",
    "outputId": "78f6a551-1066-4f94-cc80-1bea5b1e6c23"
   },
   "outputs": [
    {
     "data": {
      "application/vnd.plotly.v1+json": {
       "config": {
        "plotlyServerURL": "https://plot.ly"
       },
       "data": [
        {
         "dimensions": [
          {
           "label": "radius_mean",
           "values": {
            "bdata": "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",
            "dtype": "f8"
           }
          },
          {
           "label": "area_mean",
           "values": {
            "bdata": "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",
            "dtype": "f8"
           }
          },
          {
           "label": "smoothness_mean",
           "values": {
            "bdata": "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",
            "dtype": "f8"
           }
          },
          {
           "label": "concavity_mean",
           "values": {
            "bdata": "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",
            "dtype": "f8"
           }
          }
         ],
         "domain": {
          "x": [
           0,
           1
          ],
          "y": [
           0,
           1
          ]
         },
         "line": {
          "color": {
           "bdata": "AQEBAQEBAQEBAQEBAQEBAQEBAQAAAAEBAQEBAQEBAQEBAQEBAQABAQEBAQEBAQABAAAAAAABAQABAQAAAAABAAEBAAAAAAEAAQEAAQABAQAAAAEBAAEBAQAAAAEAAAEBAAAAAQEAAAAAAQAAAQAAAAAAAAAAAQEBAAEBAAAAAQEAAQABAQABAQAAAQAAAQAAAAABAAAAAAAAAAAAAQAAAAABAQABAAABAQAAAQEAAAAAAQAAAQEBAAEAAQAAAAEAAAEBAAEBAQEAAQEBAAEAAQAAAQABAQEBAAABAQAAAAEAAAAAAAEBAAABAAABAQABAAAAAAEAAAAAAAEAAQEBAQEBAQEBAQEBAQEAAAAAAAABAAEAAAEAAAEAAQEAAAAAAAAAAAAAAAAAAQAAAQABAAAAAAAAAAAAAAAAAAABAAAAAQABAAAAAAEBAQAAAAABAAEAAQAAAAEAAAAAAAAAAQEBAAAAAAAAAAAAAAABAQABAQEAAQEAAAAAAAEAAAAAAAEAAAABAAABAQAAAAAAAAEAAAAAAAAAAQAAAAAAAQAAAQAAAAAAAAAAAAAAAAEAAQEAAQAAAAAAAQAAAQABAAABAAEAAAAAAAAAAAEBAAAAAAAAAQAAAAAAAAAAAAABAAAAAAAAAAEAAQAAAQAAAAAAAQEAAQABAAAAAAABAAABAAEAAQEAAAABAAAAAAAAAAAAAAABAAEBAAAAAAAAAAAAAAAAAAAAAAAAAAAAAAAAAAEBAQEBAQA=",
           "dtype": "i1"
          },
          "coloraxis": "coloraxis"
         },
         "name": "",
         "type": "parcoords"
        }
       ],
       "layout": {
        "coloraxis": {
         "colorbar": {
          "title": {
           "text": "diagnosis"
          }
         },
         "colorscale": [
          [
           0,
           "rgb(103,0,31)"
          ],
          [
           0.1,
           "rgb(178,24,43)"
          ],
          [
           0.2,
           "rgb(214,96,77)"
          ],
          [
           0.3,
           "rgb(244,165,130)"
          ],
          [
           0.4,
           "rgb(253,219,199)"
          ],
          [
           0.5,
           "rgb(247,247,247)"
          ],
          [
           0.6,
           "rgb(209,229,240)"
          ],
          [
           0.7,
           "rgb(146,197,222)"
          ],
          [
           0.8,
           "rgb(67,147,195)"
          ],
          [
           0.9,
           "rgb(33,102,172)"
          ],
          [
           1,
           "rgb(5,48,97)"
          ]
         ]
        },
        "legend": {
         "tracegroupgap": 0
        },
        "margin": {
         "t": 60
        },
        "template": {
         "data": {
          "bar": [
           {
            "error_x": {
             "color": "#2a3f5f"
            },
            "error_y": {
             "color": "#2a3f5f"
            },
            "marker": {
             "line": {
              "color": "#E5ECF6",
              "width": 0.5
             },
             "pattern": {
              "fillmode": "overlay",
              "size": 10,
              "solidity": 0.2
             }
            },
            "type": "bar"
           }
          ],
          "barpolar": [
           {
            "marker": {
             "line": {
              "color": "#E5ECF6",
              "width": 0.5
             },
             "pattern": {
              "fillmode": "overlay",
              "size": 10,
              "solidity": 0.2
             }
            },
            "type": "barpolar"
           }
          ],
          "carpet": [
           {
            "aaxis": {
             "endlinecolor": "#2a3f5f",
             "gridcolor": "white",
             "linecolor": "white",
             "minorgridcolor": "white",
             "startlinecolor": "#2a3f5f"
            },
            "baxis": {
             "endlinecolor": "#2a3f5f",
             "gridcolor": "white",
             "linecolor": "white",
             "minorgridcolor": "white",
             "startlinecolor": "#2a3f5f"
            },
            "type": "carpet"
           }
          ],
          "choropleth": [
           {
            "colorbar": {
             "outlinewidth": 0,
             "ticks": ""
            },
            "type": "choropleth"
           }
          ],
          "contour": [
           {
            "colorbar": {
             "outlinewidth": 0,
             "ticks": ""
            },
            "colorscale": [
             [
              0,
              "#0d0887"
             ],
             [
              0.1111111111111111,
              "#46039f"
             ],
             [
              0.2222222222222222,
              "#7201a8"
             ],
             [
              0.3333333333333333,
              "#9c179e"
             ],
             [
              0.4444444444444444,
              "#bd3786"
             ],
             [
              0.5555555555555556,
              "#d8576b"
             ],
             [
              0.6666666666666666,
              "#ed7953"
             ],
             [
              0.7777777777777778,
              "#fb9f3a"
             ],
             [
              0.8888888888888888,
              "#fdca26"
             ],
             [
              1,
              "#f0f921"
             ]
            ],
            "type": "contour"
           }
          ],
          "contourcarpet": [
           {
            "colorbar": {
             "outlinewidth": 0,
             "ticks": ""
            },
            "type": "contourcarpet"
           }
          ],
          "heatmap": [
           {
            "colorbar": {
             "outlinewidth": 0,
             "ticks": ""
            },
            "colorscale": [
             [
              0,
              "#0d0887"
             ],
             [
              0.1111111111111111,
              "#46039f"
             ],
             [
              0.2222222222222222,
              "#7201a8"
             ],
             [
              0.3333333333333333,
              "#9c179e"
             ],
             [
              0.4444444444444444,
              "#bd3786"
             ],
             [
              0.5555555555555556,
              "#d8576b"
             ],
             [
              0.6666666666666666,
              "#ed7953"
             ],
             [
              0.7777777777777778,
              "#fb9f3a"
             ],
             [
              0.8888888888888888,
              "#fdca26"
             ],
             [
              1,
              "#f0f921"
             ]
            ],
            "type": "heatmap"
           }
          ],
          "histogram": [
           {
            "marker": {
             "pattern": {
              "fillmode": "overlay",
              "size": 10,
              "solidity": 0.2
             }
            },
            "type": "histogram"
           }
          ],
          "histogram2d": [
           {
            "colorbar": {
             "outlinewidth": 0,
             "ticks": ""
            },
            "colorscale": [
             [
              0,
              "#0d0887"
             ],
             [
              0.1111111111111111,
              "#46039f"
             ],
             [
              0.2222222222222222,
              "#7201a8"
             ],
             [
              0.3333333333333333,
              "#9c179e"
             ],
             [
              0.4444444444444444,
              "#bd3786"
             ],
             [
              0.5555555555555556,
              "#d8576b"
             ],
             [
              0.6666666666666666,
              "#ed7953"
             ],
             [
              0.7777777777777778,
              "#fb9f3a"
             ],
             [
              0.8888888888888888,
              "#fdca26"
             ],
             [
              1,
              "#f0f921"
             ]
            ],
            "type": "histogram2d"
           }
          ],
          "histogram2dcontour": [
           {
            "colorbar": {
             "outlinewidth": 0,
             "ticks": ""
            },
            "colorscale": [
             [
              0,
              "#0d0887"
             ],
             [
              0.1111111111111111,
              "#46039f"
             ],
             [
              0.2222222222222222,
              "#7201a8"
             ],
             [
              0.3333333333333333,
              "#9c179e"
             ],
             [
              0.4444444444444444,
              "#bd3786"
             ],
             [
              0.5555555555555556,
              "#d8576b"
             ],
             [
              0.6666666666666666,
              "#ed7953"
             ],
             [
              0.7777777777777778,
              "#fb9f3a"
             ],
             [
              0.8888888888888888,
              "#fdca26"
             ],
             [
              1,
              "#f0f921"
             ]
            ],
            "type": "histogram2dcontour"
           }
          ],
          "mesh3d": [
           {
            "colorbar": {
             "outlinewidth": 0,
             "ticks": ""
            },
            "type": "mesh3d"
           }
          ],
          "parcoords": [
           {
            "line": {
             "colorbar": {
              "outlinewidth": 0,
              "ticks": ""
             }
            },
            "type": "parcoords"
           }
          ],
          "pie": [
           {
            "automargin": true,
            "type": "pie"
           }
          ],
          "scatter": [
           {
            "fillpattern": {
             "fillmode": "overlay",
             "size": 10,
             "solidity": 0.2
            },
            "type": "scatter"
           }
          ],
          "scatter3d": [
           {
            "line": {
             "colorbar": {
              "outlinewidth": 0,
              "ticks": ""
             }
            },
            "marker": {
             "colorbar": {
              "outlinewidth": 0,
              "ticks": ""
             }
            },
            "type": "scatter3d"
           }
          ],
          "scattercarpet": [
           {
            "marker": {
             "colorbar": {
              "outlinewidth": 0,
              "ticks": ""
             }
            },
            "type": "scattercarpet"
           }
          ],
          "scattergeo": [
           {
            "marker": {
             "colorbar": {
              "outlinewidth": 0,
              "ticks": ""
             }
            },
            "type": "scattergeo"
           }
          ],
          "scattergl": [
           {
            "marker": {
             "colorbar": {
              "outlinewidth": 0,
              "ticks": ""
             }
            },
            "type": "scattergl"
           }
          ],
          "scattermap": [
           {
            "marker": {
             "colorbar": {
              "outlinewidth": 0,
              "ticks": ""
             }
            },
            "type": "scattermap"
           }
          ],
          "scattermapbox": [
           {
            "marker": {
             "colorbar": {
              "outlinewidth": 0,
              "ticks": ""
             }
            },
            "type": "scattermapbox"
           }
          ],
          "scatterpolar": [
           {
            "marker": {
             "colorbar": {
              "outlinewidth": 0,
              "ticks": ""
             }
            },
            "type": "scatterpolar"
           }
          ],
          "scatterpolargl": [
           {
            "marker": {
             "colorbar": {
              "outlinewidth": 0,
              "ticks": ""
             }
            },
            "type": "scatterpolargl"
           }
          ],
          "scatterternary": [
           {
            "marker": {
             "colorbar": {
              "outlinewidth": 0,
              "ticks": ""
             }
            },
            "type": "scatterternary"
           }
          ],
          "surface": [
           {
            "colorbar": {
             "outlinewidth": 0,
             "ticks": ""
            },
            "colorscale": [
             [
              0,
              "#0d0887"
             ],
             [
              0.1111111111111111,
              "#46039f"
             ],
             [
              0.2222222222222222,
              "#7201a8"
             ],
             [
              0.3333333333333333,
              "#9c179e"
             ],
             [
              0.4444444444444444,
              "#bd3786"
             ],
             [
              0.5555555555555556,
              "#d8576b"
             ],
             [
              0.6666666666666666,
              "#ed7953"
             ],
             [
              0.7777777777777778,
              "#fb9f3a"
             ],
             [
              0.8888888888888888,
              "#fdca26"
             ],
             [
              1,
              "#f0f921"
             ]
            ],
            "type": "surface"
           }
          ],
          "table": [
           {
            "cells": {
             "fill": {
              "color": "#EBF0F8"
             },
             "line": {
              "color": "white"
             }
            },
            "header": {
             "fill": {
              "color": "#C8D4E3"
             },
             "line": {
              "color": "white"
             }
            },
            "type": "table"
           }
          ]
         },
         "layout": {
          "annotationdefaults": {
           "arrowcolor": "#2a3f5f",
           "arrowhead": 0,
           "arrowwidth": 1
          },
          "autotypenumbers": "strict",
          "coloraxis": {
           "colorbar": {
            "outlinewidth": 0,
            "ticks": ""
           }
          },
          "colorscale": {
           "diverging": [
            [
             0,
             "#8e0152"
            ],
            [
             0.1,
             "#c51b7d"
            ],
            [
             0.2,
             "#de77ae"
            ],
            [
             0.3,
             "#f1b6da"
            ],
            [
             0.4,
             "#fde0ef"
            ],
            [
             0.5,
             "#f7f7f7"
            ],
            [
             0.6,
             "#e6f5d0"
            ],
            [
             0.7,
             "#b8e186"
            ],
            [
             0.8,
             "#7fbc41"
            ],
            [
             0.9,
             "#4d9221"
            ],
            [
             1,
             "#276419"
            ]
           ],
           "sequential": [
            [
             0,
             "#0d0887"
            ],
            [
             0.1111111111111111,
             "#46039f"
            ],
            [
             0.2222222222222222,
             "#7201a8"
            ],
            [
             0.3333333333333333,
             "#9c179e"
            ],
            [
             0.4444444444444444,
             "#bd3786"
            ],
            [
             0.5555555555555556,
             "#d8576b"
            ],
            [
             0.6666666666666666,
             "#ed7953"
            ],
            [
             0.7777777777777778,
             "#fb9f3a"
            ],
            [
             0.8888888888888888,
             "#fdca26"
            ],
            [
             1,
             "#f0f921"
            ]
           ],
           "sequentialminus": [
            [
             0,
             "#0d0887"
            ],
            [
             0.1111111111111111,
             "#46039f"
            ],
            [
             0.2222222222222222,
             "#7201a8"
            ],
            [
             0.3333333333333333,
             "#9c179e"
            ],
            [
             0.4444444444444444,
             "#bd3786"
            ],
            [
             0.5555555555555556,
             "#d8576b"
            ],
            [
             0.6666666666666666,
             "#ed7953"
            ],
            [
             0.7777777777777778,
             "#fb9f3a"
            ],
            [
             0.8888888888888888,
             "#fdca26"
            ],
            [
             1,
             "#f0f921"
            ]
           ]
          },
          "colorway": [
           "#636efa",
           "#EF553B",
           "#00cc96",
           "#ab63fa",
           "#FFA15A",
           "#19d3f3",
           "#FF6692",
           "#B6E880",
           "#FF97FF",
           "#FECB52"
          ],
          "font": {
           "color": "#2a3f5f"
          },
          "geo": {
           "bgcolor": "white",
           "lakecolor": "white",
           "landcolor": "#E5ECF6",
           "showlakes": true,
           "showland": true,
           "subunitcolor": "white"
          },
          "hoverlabel": {
           "align": "left"
          },
          "hovermode": "closest",
          "mapbox": {
           "style": "light"
          },
          "paper_bgcolor": "white",
          "plot_bgcolor": "#E5ECF6",
          "polar": {
           "angularaxis": {
            "gridcolor": "white",
            "linecolor": "white",
            "ticks": ""
           },
           "bgcolor": "#E5ECF6",
           "radialaxis": {
            "gridcolor": "white",
            "linecolor": "white",
            "ticks": ""
           }
          },
          "scene": {
           "xaxis": {
            "backgroundcolor": "#E5ECF6",
            "gridcolor": "white",
            "gridwidth": 2,
            "linecolor": "white",
            "showbackground": true,
            "ticks": "",
            "zerolinecolor": "white"
           },
           "yaxis": {
            "backgroundcolor": "#E5ECF6",
            "gridcolor": "white",
            "gridwidth": 2,
            "linecolor": "white",
            "showbackground": true,
            "ticks": "",
            "zerolinecolor": "white"
           },
           "zaxis": {
            "backgroundcolor": "#E5ECF6",
            "gridcolor": "white",
            "gridwidth": 2,
            "linecolor": "white",
            "showbackground": true,
            "ticks": "",
            "zerolinecolor": "white"
           }
          },
          "shapedefaults": {
           "line": {
            "color": "#2a3f5f"
           }
          },
          "ternary": {
           "aaxis": {
            "gridcolor": "white",
            "linecolor": "white",
            "ticks": ""
           },
           "baxis": {
            "gridcolor": "white",
            "linecolor": "white",
            "ticks": ""
           },
           "bgcolor": "#E5ECF6",
           "caxis": {
            "gridcolor": "white",
            "linecolor": "white",
            "ticks": ""
           }
          },
          "title": {
           "x": 0.05
          },
          "xaxis": {
           "automargin": true,
           "gridcolor": "white",
           "linecolor": "white",
           "ticks": "",
           "title": {
            "standoff": 15
           },
           "zerolinecolor": "white",
           "zerolinewidth": 2
          },
          "yaxis": {
           "automargin": true,
           "gridcolor": "white",
           "linecolor": "white",
           "ticks": "",
           "title": {
            "standoff": 15
           },
           "zerolinecolor": "white",
           "zerolinewidth": 2
          }
         }
        }
       }
      }
     },
     "metadata": {},
     "output_type": "display_data"
    }
   ],
   "source": [
    "# Parallel Coordinates\n",
    "px.parallel_coordinates(df_cleaned,\n",
    "                        dimensions=[\"radius_mean\", \"area_mean\", \"smoothness_mean\", \"concavity_mean\"],\n",
    "                        color=\"diagnosis\",\n",
    "                        color_continuous_scale=px.colors.sequential.RdBu)\n"
   ]
  },
  {
   "cell_type": "markdown",
   "id": "e1781654",
   "metadata": {
    "id": "e1781654"
   },
   "source": [
    "## 🤖 6. Features Defining & Splitting the Dataset\n",
    "\n",
    "### ✂️ Train-Test Split\n",
    "* Use `train_test_split()` to split data into:\n",
    "  * 80% training data\n",
    "  * 20% testing data\n",
    "* Random state set for reproducibility.\n"
   ]
  },
  {
   "cell_type": "code",
   "execution_count": 16,
   "id": "30a9a4ff",
   "metadata": {
    "colab": {
     "base_uri": "https://localhost:8080/"
    },
    "executionInfo": {
     "elapsed": 71,
     "status": "ok",
     "timestamp": 1753513001641,
     "user": {
      "displayName": "Muhammd Yousif Memon",
      "userId": "09601574842182296753"
     },
     "user_tz": -300
    },
    "id": "30a9a4ff",
    "outputId": "4886fc82-c30a-4a03-daaf-e10759683b78"
   },
   "outputs": [
    {
     "name": "stdout",
     "output_type": "stream",
     "text": [
      "Dataset split into training and testing sets successfully.\n"
     ]
    }
   ],
   "source": [
    "# Defining features and target variable\n",
    "X = df_cleaned.drop(columns = ['diagnosis'])\n",
    "y = df_cleaned['diagnosis']\n",
    "\n",
    "# Splitting the dataset into training and testing sets\n",
    "X_train, X_test, y_train, y_test = train_test_split(X, y, test_size=0.2, random_state=42)\n",
    "\n",
    "# Success Message\n",
    "print(\"Dataset split into training and testing sets successfully.\")"
   ]
  },
  {
   "cell_type": "markdown",
   "id": "a4a2d922",
   "metadata": {
    "id": "a4a2d922"
   },
   "source": [
    "## 📈 7. Training Logistic Regression Model\n",
    "### 🧪 Model Training\n",
    "* Apply `LogisticRegression` from `sklearn.linear_model`.\n",
    "* Fit the model on the training data (`X_train`, `y_train`).\n",
    "* Basic model — no hyperparameter tuning initially."
   ]
  },
  {
   "cell_type": "code",
   "execution_count": 17,
   "id": "10866d16",
   "metadata": {
    "colab": {
     "base_uri": "https://localhost:8080/",
     "height": 80
    },
    "executionInfo": {
     "elapsed": 55,
     "status": "ok",
     "timestamp": 1753513004916,
     "user": {
      "displayName": "Muhammd Yousif Memon",
      "userId": "09601574842182296753"
     },
     "user_tz": -300
    },
    "id": "10866d16",
    "outputId": "515d6c4d-e0cb-47be-dffa-bae9c3598aca"
   },
   "outputs": [
    {
     "data": {
      "text/html": [
       "<style>#sk-container-id-1 {\n",
       "  /* Definition of color scheme common for light and dark mode */\n",
       "  --sklearn-color-text: #000;\n",
       "  --sklearn-color-text-muted: #666;\n",
       "  --sklearn-color-line: gray;\n",
       "  /* Definition of color scheme for unfitted estimators */\n",
       "  --sklearn-color-unfitted-level-0: #fff5e6;\n",
       "  --sklearn-color-unfitted-level-1: #f6e4d2;\n",
       "  --sklearn-color-unfitted-level-2: #ffe0b3;\n",
       "  --sklearn-color-unfitted-level-3: chocolate;\n",
       "  /* Definition of color scheme for fitted estimators */\n",
       "  --sklearn-color-fitted-level-0: #f0f8ff;\n",
       "  --sklearn-color-fitted-level-1: #d4ebff;\n",
       "  --sklearn-color-fitted-level-2: #b3dbfd;\n",
       "  --sklearn-color-fitted-level-3: cornflowerblue;\n",
       "\n",
       "  /* Specific color for light theme */\n",
       "  --sklearn-color-text-on-default-background: var(--sg-text-color, var(--theme-code-foreground, var(--jp-content-font-color1, black)));\n",
       "  --sklearn-color-background: var(--sg-background-color, var(--theme-background, var(--jp-layout-color0, white)));\n",
       "  --sklearn-color-border-box: var(--sg-text-color, var(--theme-code-foreground, var(--jp-content-font-color1, black)));\n",
       "  --sklearn-color-icon: #696969;\n",
       "\n",
       "  @media (prefers-color-scheme: dark) {\n",
       "    /* Redefinition of color scheme for dark theme */\n",
       "    --sklearn-color-text-on-default-background: var(--sg-text-color, var(--theme-code-foreground, var(--jp-content-font-color1, white)));\n",
       "    --sklearn-color-background: var(--sg-background-color, var(--theme-background, var(--jp-layout-color0, #111)));\n",
       "    --sklearn-color-border-box: var(--sg-text-color, var(--theme-code-foreground, var(--jp-content-font-color1, white)));\n",
       "    --sklearn-color-icon: #878787;\n",
       "  }\n",
       "}\n",
       "\n",
       "#sk-container-id-1 {\n",
       "  color: var(--sklearn-color-text);\n",
       "}\n",
       "\n",
       "#sk-container-id-1 pre {\n",
       "  padding: 0;\n",
       "}\n",
       "\n",
       "#sk-container-id-1 input.sk-hidden--visually {\n",
       "  border: 0;\n",
       "  clip: rect(1px 1px 1px 1px);\n",
       "  clip: rect(1px, 1px, 1px, 1px);\n",
       "  height: 1px;\n",
       "  margin: -1px;\n",
       "  overflow: hidden;\n",
       "  padding: 0;\n",
       "  position: absolute;\n",
       "  width: 1px;\n",
       "}\n",
       "\n",
       "#sk-container-id-1 div.sk-dashed-wrapped {\n",
       "  border: 1px dashed var(--sklearn-color-line);\n",
       "  margin: 0 0.4em 0.5em 0.4em;\n",
       "  box-sizing: border-box;\n",
       "  padding-bottom: 0.4em;\n",
       "  background-color: var(--sklearn-color-background);\n",
       "}\n",
       "\n",
       "#sk-container-id-1 div.sk-container {\n",
       "  /* jupyter's `normalize.less` sets `[hidden] { display: none; }`\n",
       "     but bootstrap.min.css set `[hidden] { display: none !important; }`\n",
       "     so we also need the `!important` here to be able to override the\n",
       "     default hidden behavior on the sphinx rendered scikit-learn.org.\n",
       "     See: https://github.com/scikit-learn/scikit-learn/issues/21755 */\n",
       "  display: inline-block !important;\n",
       "  position: relative;\n",
       "}\n",
       "\n",
       "#sk-container-id-1 div.sk-text-repr-fallback {\n",
       "  display: none;\n",
       "}\n",
       "\n",
       "div.sk-parallel-item,\n",
       "div.sk-serial,\n",
       "div.sk-item {\n",
       "  /* draw centered vertical line to link estimators */\n",
       "  background-image: linear-gradient(var(--sklearn-color-text-on-default-background), var(--sklearn-color-text-on-default-background));\n",
       "  background-size: 2px 100%;\n",
       "  background-repeat: no-repeat;\n",
       "  background-position: center center;\n",
       "}\n",
       "\n",
       "/* Parallel-specific style estimator block */\n",
       "\n",
       "#sk-container-id-1 div.sk-parallel-item::after {\n",
       "  content: \"\";\n",
       "  width: 100%;\n",
       "  border-bottom: 2px solid var(--sklearn-color-text-on-default-background);\n",
       "  flex-grow: 1;\n",
       "}\n",
       "\n",
       "#sk-container-id-1 div.sk-parallel {\n",
       "  display: flex;\n",
       "  align-items: stretch;\n",
       "  justify-content: center;\n",
       "  background-color: var(--sklearn-color-background);\n",
       "  position: relative;\n",
       "}\n",
       "\n",
       "#sk-container-id-1 div.sk-parallel-item {\n",
       "  display: flex;\n",
       "  flex-direction: column;\n",
       "}\n",
       "\n",
       "#sk-container-id-1 div.sk-parallel-item:first-child::after {\n",
       "  align-self: flex-end;\n",
       "  width: 50%;\n",
       "}\n",
       "\n",
       "#sk-container-id-1 div.sk-parallel-item:last-child::after {\n",
       "  align-self: flex-start;\n",
       "  width: 50%;\n",
       "}\n",
       "\n",
       "#sk-container-id-1 div.sk-parallel-item:only-child::after {\n",
       "  width: 0;\n",
       "}\n",
       "\n",
       "/* Serial-specific style estimator block */\n",
       "\n",
       "#sk-container-id-1 div.sk-serial {\n",
       "  display: flex;\n",
       "  flex-direction: column;\n",
       "  align-items: center;\n",
       "  background-color: var(--sklearn-color-background);\n",
       "  padding-right: 1em;\n",
       "  padding-left: 1em;\n",
       "}\n",
       "\n",
       "\n",
       "/* Toggleable style: style used for estimator/Pipeline/ColumnTransformer box that is\n",
       "clickable and can be expanded/collapsed.\n",
       "- Pipeline and ColumnTransformer use this feature and define the default style\n",
       "- Estimators will overwrite some part of the style using the `sk-estimator` class\n",
       "*/\n",
       "\n",
       "/* Pipeline and ColumnTransformer style (default) */\n",
       "\n",
       "#sk-container-id-1 div.sk-toggleable {\n",
       "  /* Default theme specific background. It is overwritten whether we have a\n",
       "  specific estimator or a Pipeline/ColumnTransformer */\n",
       "  background-color: var(--sklearn-color-background);\n",
       "}\n",
       "\n",
       "/* Toggleable label */\n",
       "#sk-container-id-1 label.sk-toggleable__label {\n",
       "  cursor: pointer;\n",
       "  display: flex;\n",
       "  width: 100%;\n",
       "  margin-bottom: 0;\n",
       "  padding: 0.5em;\n",
       "  box-sizing: border-box;\n",
       "  text-align: center;\n",
       "  align-items: start;\n",
       "  justify-content: space-between;\n",
       "  gap: 0.5em;\n",
       "}\n",
       "\n",
       "#sk-container-id-1 label.sk-toggleable__label .caption {\n",
       "  font-size: 0.6rem;\n",
       "  font-weight: lighter;\n",
       "  color: var(--sklearn-color-text-muted);\n",
       "}\n",
       "\n",
       "#sk-container-id-1 label.sk-toggleable__label-arrow:before {\n",
       "  /* Arrow on the left of the label */\n",
       "  content: \"▸\";\n",
       "  float: left;\n",
       "  margin-right: 0.25em;\n",
       "  color: var(--sklearn-color-icon);\n",
       "}\n",
       "\n",
       "#sk-container-id-1 label.sk-toggleable__label-arrow:hover:before {\n",
       "  color: var(--sklearn-color-text);\n",
       "}\n",
       "\n",
       "/* Toggleable content - dropdown */\n",
       "\n",
       "#sk-container-id-1 div.sk-toggleable__content {\n",
       "  max-height: 0;\n",
       "  max-width: 0;\n",
       "  overflow: hidden;\n",
       "  text-align: left;\n",
       "  /* unfitted */\n",
       "  background-color: var(--sklearn-color-unfitted-level-0);\n",
       "}\n",
       "\n",
       "#sk-container-id-1 div.sk-toggleable__content.fitted {\n",
       "  /* fitted */\n",
       "  background-color: var(--sklearn-color-fitted-level-0);\n",
       "}\n",
       "\n",
       "#sk-container-id-1 div.sk-toggleable__content pre {\n",
       "  margin: 0.2em;\n",
       "  border-radius: 0.25em;\n",
       "  color: var(--sklearn-color-text);\n",
       "  /* unfitted */\n",
       "  background-color: var(--sklearn-color-unfitted-level-0);\n",
       "}\n",
       "\n",
       "#sk-container-id-1 div.sk-toggleable__content.fitted pre {\n",
       "  /* unfitted */\n",
       "  background-color: var(--sklearn-color-fitted-level-0);\n",
       "}\n",
       "\n",
       "#sk-container-id-1 input.sk-toggleable__control:checked~div.sk-toggleable__content {\n",
       "  /* Expand drop-down */\n",
       "  max-height: 200px;\n",
       "  max-width: 100%;\n",
       "  overflow: auto;\n",
       "}\n",
       "\n",
       "#sk-container-id-1 input.sk-toggleable__control:checked~label.sk-toggleable__label-arrow:before {\n",
       "  content: \"▾\";\n",
       "}\n",
       "\n",
       "/* Pipeline/ColumnTransformer-specific style */\n",
       "\n",
       "#sk-container-id-1 div.sk-label input.sk-toggleable__control:checked~label.sk-toggleable__label {\n",
       "  color: var(--sklearn-color-text);\n",
       "  background-color: var(--sklearn-color-unfitted-level-2);\n",
       "}\n",
       "\n",
       "#sk-container-id-1 div.sk-label.fitted input.sk-toggleable__control:checked~label.sk-toggleable__label {\n",
       "  background-color: var(--sklearn-color-fitted-level-2);\n",
       "}\n",
       "\n",
       "/* Estimator-specific style */\n",
       "\n",
       "/* Colorize estimator box */\n",
       "#sk-container-id-1 div.sk-estimator input.sk-toggleable__control:checked~label.sk-toggleable__label {\n",
       "  /* unfitted */\n",
       "  background-color: var(--sklearn-color-unfitted-level-2);\n",
       "}\n",
       "\n",
       "#sk-container-id-1 div.sk-estimator.fitted input.sk-toggleable__control:checked~label.sk-toggleable__label {\n",
       "  /* fitted */\n",
       "  background-color: var(--sklearn-color-fitted-level-2);\n",
       "}\n",
       "\n",
       "#sk-container-id-1 div.sk-label label.sk-toggleable__label,\n",
       "#sk-container-id-1 div.sk-label label {\n",
       "  /* The background is the default theme color */\n",
       "  color: var(--sklearn-color-text-on-default-background);\n",
       "}\n",
       "\n",
       "/* On hover, darken the color of the background */\n",
       "#sk-container-id-1 div.sk-label:hover label.sk-toggleable__label {\n",
       "  color: var(--sklearn-color-text);\n",
       "  background-color: var(--sklearn-color-unfitted-level-2);\n",
       "}\n",
       "\n",
       "/* Label box, darken color on hover, fitted */\n",
       "#sk-container-id-1 div.sk-label.fitted:hover label.sk-toggleable__label.fitted {\n",
       "  color: var(--sklearn-color-text);\n",
       "  background-color: var(--sklearn-color-fitted-level-2);\n",
       "}\n",
       "\n",
       "/* Estimator label */\n",
       "\n",
       "#sk-container-id-1 div.sk-label label {\n",
       "  font-family: monospace;\n",
       "  font-weight: bold;\n",
       "  display: inline-block;\n",
       "  line-height: 1.2em;\n",
       "}\n",
       "\n",
       "#sk-container-id-1 div.sk-label-container {\n",
       "  text-align: center;\n",
       "}\n",
       "\n",
       "/* Estimator-specific */\n",
       "#sk-container-id-1 div.sk-estimator {\n",
       "  font-family: monospace;\n",
       "  border: 1px dotted var(--sklearn-color-border-box);\n",
       "  border-radius: 0.25em;\n",
       "  box-sizing: border-box;\n",
       "  margin-bottom: 0.5em;\n",
       "  /* unfitted */\n",
       "  background-color: var(--sklearn-color-unfitted-level-0);\n",
       "}\n",
       "\n",
       "#sk-container-id-1 div.sk-estimator.fitted {\n",
       "  /* fitted */\n",
       "  background-color: var(--sklearn-color-fitted-level-0);\n",
       "}\n",
       "\n",
       "/* on hover */\n",
       "#sk-container-id-1 div.sk-estimator:hover {\n",
       "  /* unfitted */\n",
       "  background-color: var(--sklearn-color-unfitted-level-2);\n",
       "}\n",
       "\n",
       "#sk-container-id-1 div.sk-estimator.fitted:hover {\n",
       "  /* fitted */\n",
       "  background-color: var(--sklearn-color-fitted-level-2);\n",
       "}\n",
       "\n",
       "/* Specification for estimator info (e.g. \"i\" and \"?\") */\n",
       "\n",
       "/* Common style for \"i\" and \"?\" */\n",
       "\n",
       ".sk-estimator-doc-link,\n",
       "a:link.sk-estimator-doc-link,\n",
       "a:visited.sk-estimator-doc-link {\n",
       "  float: right;\n",
       "  font-size: smaller;\n",
       "  line-height: 1em;\n",
       "  font-family: monospace;\n",
       "  background-color: var(--sklearn-color-background);\n",
       "  border-radius: 1em;\n",
       "  height: 1em;\n",
       "  width: 1em;\n",
       "  text-decoration: none !important;\n",
       "  margin-left: 0.5em;\n",
       "  text-align: center;\n",
       "  /* unfitted */\n",
       "  border: var(--sklearn-color-unfitted-level-1) 1pt solid;\n",
       "  color: var(--sklearn-color-unfitted-level-1);\n",
       "}\n",
       "\n",
       ".sk-estimator-doc-link.fitted,\n",
       "a:link.sk-estimator-doc-link.fitted,\n",
       "a:visited.sk-estimator-doc-link.fitted {\n",
       "  /* fitted */\n",
       "  border: var(--sklearn-color-fitted-level-1) 1pt solid;\n",
       "  color: var(--sklearn-color-fitted-level-1);\n",
       "}\n",
       "\n",
       "/* On hover */\n",
       "div.sk-estimator:hover .sk-estimator-doc-link:hover,\n",
       ".sk-estimator-doc-link:hover,\n",
       "div.sk-label-container:hover .sk-estimator-doc-link:hover,\n",
       ".sk-estimator-doc-link:hover {\n",
       "  /* unfitted */\n",
       "  background-color: var(--sklearn-color-unfitted-level-3);\n",
       "  color: var(--sklearn-color-background);\n",
       "  text-decoration: none;\n",
       "}\n",
       "\n",
       "div.sk-estimator.fitted:hover .sk-estimator-doc-link.fitted:hover,\n",
       ".sk-estimator-doc-link.fitted:hover,\n",
       "div.sk-label-container:hover .sk-estimator-doc-link.fitted:hover,\n",
       ".sk-estimator-doc-link.fitted:hover {\n",
       "  /* fitted */\n",
       "  background-color: var(--sklearn-color-fitted-level-3);\n",
       "  color: var(--sklearn-color-background);\n",
       "  text-decoration: none;\n",
       "}\n",
       "\n",
       "/* Span, style for the box shown on hovering the info icon */\n",
       ".sk-estimator-doc-link span {\n",
       "  display: none;\n",
       "  z-index: 9999;\n",
       "  position: relative;\n",
       "  font-weight: normal;\n",
       "  right: .2ex;\n",
       "  padding: .5ex;\n",
       "  margin: .5ex;\n",
       "  width: min-content;\n",
       "  min-width: 20ex;\n",
       "  max-width: 50ex;\n",
       "  color: var(--sklearn-color-text);\n",
       "  box-shadow: 2pt 2pt 4pt #999;\n",
       "  /* unfitted */\n",
       "  background: var(--sklearn-color-unfitted-level-0);\n",
       "  border: .5pt solid var(--sklearn-color-unfitted-level-3);\n",
       "}\n",
       "\n",
       ".sk-estimator-doc-link.fitted span {\n",
       "  /* fitted */\n",
       "  background: var(--sklearn-color-fitted-level-0);\n",
       "  border: var(--sklearn-color-fitted-level-3);\n",
       "}\n",
       "\n",
       ".sk-estimator-doc-link:hover span {\n",
       "  display: block;\n",
       "}\n",
       "\n",
       "/* \"?\"-specific style due to the `<a>` HTML tag */\n",
       "\n",
       "#sk-container-id-1 a.estimator_doc_link {\n",
       "  float: right;\n",
       "  font-size: 1rem;\n",
       "  line-height: 1em;\n",
       "  font-family: monospace;\n",
       "  background-color: var(--sklearn-color-background);\n",
       "  border-radius: 1rem;\n",
       "  height: 1rem;\n",
       "  width: 1rem;\n",
       "  text-decoration: none;\n",
       "  /* unfitted */\n",
       "  color: var(--sklearn-color-unfitted-level-1);\n",
       "  border: var(--sklearn-color-unfitted-level-1) 1pt solid;\n",
       "}\n",
       "\n",
       "#sk-container-id-1 a.estimator_doc_link.fitted {\n",
       "  /* fitted */\n",
       "  border: var(--sklearn-color-fitted-level-1) 1pt solid;\n",
       "  color: var(--sklearn-color-fitted-level-1);\n",
       "}\n",
       "\n",
       "/* On hover */\n",
       "#sk-container-id-1 a.estimator_doc_link:hover {\n",
       "  /* unfitted */\n",
       "  background-color: var(--sklearn-color-unfitted-level-3);\n",
       "  color: var(--sklearn-color-background);\n",
       "  text-decoration: none;\n",
       "}\n",
       "\n",
       "#sk-container-id-1 a.estimator_doc_link.fitted:hover {\n",
       "  /* fitted */\n",
       "  background-color: var(--sklearn-color-fitted-level-3);\n",
       "}\n",
       "</style><div id=\"sk-container-id-1\" class=\"sk-top-container\"><div class=\"sk-text-repr-fallback\"><pre>LogisticRegression(max_iter=1000)</pre><b>In a Jupyter environment, please rerun this cell to show the HTML representation or trust the notebook. <br />On GitHub, the HTML representation is unable to render, please try loading this page with nbviewer.org.</b></div><div class=\"sk-container\" hidden><div class=\"sk-item\"><div class=\"sk-estimator fitted sk-toggleable\"><input class=\"sk-toggleable__control sk-hidden--visually\" id=\"sk-estimator-id-1\" type=\"checkbox\" checked><label for=\"sk-estimator-id-1\" class=\"sk-toggleable__label fitted sk-toggleable__label-arrow\"><div><div>LogisticRegression</div></div><div><a class=\"sk-estimator-doc-link fitted\" rel=\"noreferrer\" target=\"_blank\" href=\"https://scikit-learn.org/1.6/modules/generated/sklearn.linear_model.LogisticRegression.html\">?<span>Documentation for LogisticRegression</span></a><span class=\"sk-estimator-doc-link fitted\">i<span>Fitted</span></span></div></label><div class=\"sk-toggleable__content fitted\"><pre>LogisticRegression(max_iter=1000)</pre></div> </div></div></div></div>"
      ],
      "text/plain": [
       "LogisticRegression(max_iter=1000)"
      ]
     },
     "execution_count": 17,
     "metadata": {},
     "output_type": "execute_result"
    }
   ],
   "source": [
    "# Implementing Logistic Regression\n",
    "model = LogisticRegression(max_iter=1000)\n",
    "model.fit(X_train, y_train)"
   ]
  },
  {
   "cell_type": "markdown",
   "id": "922f53e9",
   "metadata": {
    "id": "922f53e9"
   },
   "source": [
    "## 🔮 8. Predicting on Test and Random Samples\n",
    "\n",
    "* Create a dummy scaled DataFrame using pandas.\n",
    "* Format and scale the features to match training input.\n",
    "* Predict output using `model.predict()`.\n",
    "* Show predicted labels (0 = Benign, 1 = Malignant)."
   ]
  },
  {
   "cell_type": "code",
   "execution_count": 18,
   "id": "a9c40f77",
   "metadata": {
    "colab": {
     "base_uri": "https://localhost:8080/"
    },
    "executionInfo": {
     "elapsed": 18,
     "status": "ok",
     "timestamp": 1753513008009,
     "user": {
      "displayName": "Muhammd Yousif Memon",
      "userId": "09601574842182296753"
     },
     "user_tz": -300
    },
    "id": "a9c40f77",
    "outputId": "72bffc69-3eab-460a-eca3-1d98e2f44e71"
   },
   "outputs": [
    {
     "name": "stdout",
     "output_type": "stream",
     "text": [
      "Predicted values for the test set:  [0 1 1 0 0 1 1 1 0 0 0 1 0 1 0 1 0 0 0 1 0 0 1 0 0 0 0 0 0 1 0 0 0 0 0 0 1\n",
      " 0 1 0 0 1 0 0 0 0 0 0 0 0 1 1 0 0 0 0 0 1 1 0 0 1 1 0 0 0 1 1 0 0 1 1 0 1\n",
      " 0 0 0 0 0 0 1 0 1 1 1 1 1 1 0 0 0 0 0 0 0 0 1 1 0 1 1 0 1 1 0 0 0 1 0 0 1\n",
      " 0 1 1]\n"
     ]
    }
   ],
   "source": [
    "# Predicting on the test set\n",
    "y_pred = model.predict(X_test)\n",
    "\n",
    "# Printing the y_pred values\n",
    "print(\"Predicted values for the test set: \", y_pred)"
   ]
  },
  {
   "cell_type": "code",
   "execution_count": 19,
   "id": "6b35d6b2",
   "metadata": {
    "colab": {
     "base_uri": "https://localhost:8080/"
    },
    "executionInfo": {
     "elapsed": 7,
     "status": "ok",
     "timestamp": 1753513008931,
     "user": {
      "displayName": "Muhammd Yousif Memon",
      "userId": "09601574842182296753"
     },
     "user_tz": -300
    },
    "id": "6b35d6b2",
    "outputId": "84fbaf08-daaa-4403-f2f2-4f89fcb1bfd8"
   },
   "outputs": [
    {
     "name": "stdout",
     "output_type": "stream",
     "text": [
      "Predicted Diagnoses: [1 0 1 0 1]\n"
     ]
    }
   ],
   "source": [
    "# Example: Dummy scaled feature values (30 features from the dataset)\n",
    "\n",
    "# Creating dummy standardized values (mean ~ 0, std ~ 1)\n",
    "dummy_data = pd.DataFrame({\n",
    "    'radius_mean': [0.5, -0.8, 1.2, -0.4, 0.0],\n",
    "    'texture_mean': [0.1, -0.5, 0.9, -1.1, 0.3],\n",
    "    'perimeter_mean': [0.4, -0.7, 1.5, -1.3, 0.2],\n",
    "    'area_mean': [0.2, -1.0, 1.8, -0.9, 0.6],\n",
    "    'smoothness_mean': [-0.2, 0.4, 0.5, -1.0, 0.1],\n",
    "    'compactness_mean': [0.3, -0.6, 1.0, -0.8, 0.5],\n",
    "    'concavity_mean': [0.4, -0.7, 1.3, -1.2, 0.2],\n",
    "    'concave points_mean': [0.2, -0.5, 1.1, -0.9, 0.3],\n",
    "    'symmetry_mean': [-0.3, 0.3, 0.8, -1.1, 0.0],\n",
    "    'fractal_dimension_mean': [-0.4, 0.2, 0.7, -0.8, 0.1],\n",
    "    'radius_se': [0.5, -0.6, 1.4, -1.0, 0.2],\n",
    "    'texture_se': [-0.2, 0.6, 0.9, -0.7, 0.3],\n",
    "    'perimeter_se': [0.3, -0.9, 1.1, -0.8, 0.5],\n",
    "    'area_se': [0.4, -0.8, 1.2, -1.1, 0.6],\n",
    "    'smoothness_se': [-0.5, 0.2, 0.6, -0.9, 0.1],\n",
    "    'compactness_se': [0.2, -0.4, 0.7, -1.0, 0.3],\n",
    "    'concavity_se': [0.1, -0.6, 0.8, -0.9, 0.4],\n",
    "    'concave points_se': [0.2, -0.5, 0.9, -1.2, 0.3],\n",
    "    'symmetry_se': [0.3, -0.7, 0.6, -1.0, 0.2],\n",
    "    'fractal_dimension_se': [-0.1, 0.3, 0.5, -0.8, 0.0],\n",
    "    'radius_worst': [0.6, -0.9, 1.7, -1.2, 0.3],\n",
    "    'texture_worst': [-0.4, 0.4, 1.0, -0.8, 0.1],\n",
    "    'perimeter_worst': [0.5, -0.7, 1.6, -1.0, 0.4],\n",
    "    'area_worst': [0.3, -1.1, 1.9, -1.4, 0.7],\n",
    "    'smoothness_worst': [-0.3, 0.2, 0.9, -0.8, 0.0],\n",
    "    'compactness_worst': [0.4, -0.6, 1.1, -1.0, 0.2],\n",
    "    'concavity_worst': [0.6, -0.5, 1.3, -0.9, 0.1],\n",
    "    'concave points_worst': [0.5, -0.8, 1.0, -1.2, 0.3],\n",
    "    'symmetry_worst': [0.2, -0.4, 0.9, -1.1, 0.1],\n",
    "    'fractal_dimension_worst': [-0.2, 0.3, 0.8, -0.9, 0.0]\n",
    "})\n",
    "\n",
    "# Make predictions\n",
    "predictions = model.predict(dummy_data)\n",
    "print(\"Predicted Diagnoses:\", predictions)\n"
   ]
  },
  {
   "cell_type": "markdown",
   "id": "9cb4642a",
   "metadata": {
    "id": "9cb4642a"
   },
   "source": [
    "## ✅ 9. Model Evaluation\n",
    "\n",
    "* Use test data to evaluate the model's performance.\n",
    "* Metrics used:\n",
    "  * Accuracy\n",
    "  * Confusion matrix\n",
    "  * Precision, Recall, F1-score\n",
    "  * ROC AUC Score\n",
    "* Interpret results using classification report and matrix.\n"
   ]
  },
  {
   "cell_type": "code",
   "execution_count": 20,
   "id": "9c90245e",
   "metadata": {
    "colab": {
     "base_uri": "https://localhost:8080/"
    },
    "executionInfo": {
     "elapsed": 14,
     "status": "ok",
     "timestamp": 1753513010958,
     "user": {
      "displayName": "Muhammd Yousif Memon",
      "userId": "09601574842182296753"
     },
     "user_tz": -300
    },
    "id": "9c90245e",
    "outputId": "b32bd7f9-92e5-4acc-a3fd-de4359468763"
   },
   "outputs": [
    {
     "name": "stdout",
     "output_type": "stream",
     "text": [
      "Overall Accuracy: 0.97\n",
      "confusion_matrix:\n",
      "[[70  1]\n",
      " [ 2 41]]\n",
      "Classification Report:\n",
      "              precision    recall  f1-score   support\n",
      "\n",
      "           0       0.97      0.99      0.98        71\n",
      "           1       0.98      0.95      0.96        43\n",
      "\n",
      "    accuracy                           0.97       114\n",
      "   macro avg       0.97      0.97      0.97       114\n",
      "weighted avg       0.97      0.97      0.97       114\n",
      "\n",
      "F1 Score: 0.96\n",
      "ROC AUC Score: 0.97\n"
     ]
    }
   ],
   "source": [
    "# Evaluating model performance\n",
    "print(f\"Overall Accuracy: {accuracy_score(y_test, y_pred):.2f}\")\n",
    "print(f\"confusion_matrix:\\n{confusion_matrix(y_test, y_pred)}\")\n",
    "print(f\"Classification Report:\\n{classification_report(y_test, y_pred)}\")\n",
    "\n",
    "# Calculating f1_score and roc_auc_score\n",
    "f1 = f1_score(y_test, y_pred)\n",
    "roc_auc = roc_auc_score(y_test, y_pred)\n",
    "print(f\"F1 Score: {f1:.2f}\")\n",
    "print(f\"ROC AUC Score: {roc_auc:.2f}\")"
   ]
  },
  {
   "cell_type": "markdown",
   "id": "7bd46b58",
   "metadata": {
    "id": "7bd46b58"
   },
   "source": [
    "## 📉 11. ROC Curve"
   ]
  },
  {
   "cell_type": "code",
   "execution_count": 21,
   "id": "2005edc0",
   "metadata": {
    "colab": {
     "base_uri": "https://localhost:8080/",
     "height": 564
    },
    "executionInfo": {
     "elapsed": 441,
     "status": "ok",
     "timestamp": 1753513014043,
     "user": {
      "displayName": "Muhammd Yousif Memon",
      "userId": "09601574842182296753"
     },
     "user_tz": -300
    },
    "id": "2005edc0",
    "outputId": "214ec301-267c-440d-a7b4-34682dfe0565"
   },
   "outputs": [
    {
     "data": {
      "image/png": "[encoded data removed]",
      "text/plain": [
       "<Figure size 800x600 with 1 Axes>"
      ]
     },
     "metadata": {},
     "output_type": "display_data"
    }
   ],
   "source": [
    "# Calculate ROC curve\n",
    "\n",
    "fpr, tpr, thresholds = roc_curve(y_test, model.predict_proba(X_test)[:, 1])\n",
    "roc_auc = roc_auc_score(y_test, model.predict_proba(X_test)[:, 1])\n",
    "plt.figure(figsize=(8, 6))\n",
    "plt.plot(fpr, tpr, color='blue', label=f'ROC curve (area = {roc_auc:.2f})')\n",
    "plt.plot([0, 1], [0, 1], color='red', linestyle='--')  # Diagonal line\n",
    "plt.title('Receiver Operating Characteristic (ROC) Curve')\n",
    "plt.xlabel('False Positive Rate')\n",
    "plt.ylabel('True Positive Rate')\n",
    "plt.legend(loc='lower right')\n",
    "plt.show()"
   ]
  },
  {
   "cell_type": "markdown",
   "id": "1b98ebaa",
   "metadata": {
    "id": "1b98ebaa"
   },
   "source": [
    "## ✅ Summary & Key Insights\n",
    "* Achieved ~97% accuracy using Logistic Regression.\n",
    "* Strong model performance with limited preprocessing.\n",
    "* Most informative features: `radius_mean`, `concavity_mean`, `perimeter_mean`.\n",
    "* Minimal overfitting observed — balanced performance.\n",
    "\n",
    "## 📚 References\n",
    "* [Scikit-learn Documentation](https://scikit-learn.org/)\n",
    "* [Kaggle Dataset - Breast Cancer](https://www.kaggle.com/datasets/uciml/breast-cancer-wisconsin-data)\n",
    "* [Plotly Express Documentation](https://plotly.com/python/plotly-express/)"
   ]
  }
 ],
 "metadata": {
  "accelerator": "GPU",
  "colab": {
   "gpuType": "T4",
   "provenance": []
  },
  "kernelspec": {
   "display_name": "ai-env",
   "language": "python",
   "name": "python3"
  },
  "language_info": {
   "codemirror_mode": {
    "name": "ipython",
    "version": 3
   },
   "file_extension": ".py",
   "mimetype": "text/x-python",
   "name": "python",
   "nbconvert_exporter": "python",
   "pygments_lexer": "ipython3",
   "version": "3.11.13"
  }
 },
 "nbformat": 4,
 "nbformat_minor": 5
}
